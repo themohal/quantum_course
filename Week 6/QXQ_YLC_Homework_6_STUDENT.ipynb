{
  "nbformat": 4,
  "nbformat_minor": 5,
  "metadata": {
    "kernelspec": {
      "display_name": "Qiskit v0.31.0 (ipykernel)",
      "language": "python",
      "name": "python3"
    },
    "language_info": {
      "codemirror_mode": {
        "name": "ipython",
        "version": 3
      },
      "file_extension": ".py",
      "mimetype": "text/x-python",
      "name": "python",
      "nbconvert_exporter": "python",
      "pygments_lexer": "ipython3",
      "version": "3.8.10"
    },
    "colab": {
      "provenance": [],
      "collapsed_sections": []
    }
  },
  "cells": [
    {
      "cell_type": "markdown",
      "metadata": {
        "id": "d2497f68-e565-4dec-8d5e-ec337e37128e"
      },
      "source": [
        "# Homework: Week #6\n",
        "---\n",
        "\n",
        "In this week's homework, you will create and simulate quantum circuits involving the Z gate, multi-qubit circuits, and mulit-qubit gates.\n",
        "\n",
        "\n",
        "##### **NOTE: You must answer the multiple choice questions on Canvas based on your work below to receive credit this week.**\n",
        "\n",
        "<br>\n",
        "\n",
        "### **Cheat Sheet**:  [Qiskit Cheat Sheet](https://docs.google.com/document/d/1GArKBUksi4pMgcEBc4OpvWp2KREPpnQvq0AgyijJnkI/edit?usp=share_link)\n",
        "---"
      ],
      "id": "d2497f68-e565-4dec-8d5e-ec337e37128e"
    },
    {
      "cell_type": "markdown",
      "metadata": {
        "id": "k0Lsovb5VOKP",
        "jp-MarkdownHeadingCollapsed": true,
        "tags": []
      },
      "source": [
        "## **Part 0: Importing from Qiskit**\n",
        "---\n",
        "\n",
        "Run the cell directly below before doing anything else. This will import all of the functions that we will use today."
      ],
      "id": "k0Lsovb5VOKP"
    },
    {
      "cell_type": "code",
      "execution_count": null,
      "metadata": {
        "id": "LxC62c-hRcYv"
      },
      "outputs": [],
      "source": [
        "# Importing standard Qiskit libraries\n",
        "from qiskit import QuantumCircuit  #Importing the QuantumCircuit function from Qiskit. We will use this to create our quantum circuits!\n",
        "\n",
        "# We will use these functions to run our circuit and visualize its final state\n",
        "from qiskit import Aer, execute \n",
        "from qiskit.visualization import *\n",
        "\n",
        "import warnings  # We are using this library to suppress some warning messages\n",
        "warnings.filterwarnings(\"ignore\")\n",
        "\n",
        "print(\"Libraries imported successfully!\")"
      ],
      "id": "LxC62c-hRcYv"
    },
    {
      "cell_type": "markdown",
      "metadata": {
        "jp-MarkdownHeadingCollapsed": true,
        "tags": [],
        "id": "sVwVviQORgWa"
      },
      "source": [
        "## **Part 1: Single Qubit Circuit Practice**\n",
        "---"
      ],
      "id": "sVwVviQORgWa"
    },
    {
      "cell_type": "markdown",
      "source": [
        "#### **Exercise #1** \n",
        "\n",
        "Create and draw a 1-qubit/1-classical bit circuit in which you apply the gates listed below and measure the qubit and store the result in the classical bit.\n",
        "\n",
        "**Gates**:\n",
        "\n",
        "**Z**"
      ],
      "metadata": {
        "id": "ZSIQ0dQRR5C4"
      },
      "id": "ZSIQ0dQRR5C4"
    },
    {
      "cell_type": "code",
      "source": [
        "qc = QuantumCircuit(1, 1)\n",
        "\n",
        "# COMPLETE THE REST OF THIS CODE"
      ],
      "metadata": {
        "id": "R_uEliZqR_TH"
      },
      "id": "R_uEliZqR_TH",
      "execution_count": null,
      "outputs": []
    },
    {
      "cell_type": "markdown",
      "source": [
        "#### **Exercise #2** \n",
        "\n",
        "Create and draw a 1-qubit/1-classical bit circuit in which you apply the gates listed below and measure the qubit and store the result in the classical bit. Run the simulator code below to see what measurements results you get.\n",
        "\n",
        "**Gates**:\n",
        "\n",
        "**Z**"
      ],
      "metadata": {
        "id": "Kxpn3cSVRdu1"
      },
      "id": "Kxpn3cSVRdu1"
    },
    {
      "cell_type": "code",
      "source": [],
      "metadata": {
        "id": "TUjAbWT7Rdu3"
      },
      "execution_count": null,
      "outputs": [],
      "id": "TUjAbWT7Rdu3"
    },
    {
      "cell_type": "code",
      "source": [
        "# Simulate using QASM\n",
        "backend = Aer.get_backend('qasm_simulator')\n",
        "job = execute(qc, backend = backend, shots = 1024)  # Make sure you change \"qc\" to the name of your quantum circuit in this line!\n",
        "result = job.result()\n",
        "counts = result.get_counts()\n",
        "plot_histogram(counts)"
      ],
      "metadata": {
        "id": "D3orZU9ZRmWJ"
      },
      "id": "D3orZU9ZRmWJ",
      "execution_count": null,
      "outputs": []
    },
    {
      "cell_type": "markdown",
      "source": [
        "#### **Exercise #3** \n",
        "\n",
        "Create and draw a 1-qubit/1-classical bit circuit in which you apply the gates listed below and measure the qubit and store the result in the classical bit. Run the simulator code below to see what measurements results you get.\n",
        "\n",
        "**Gates**:\n",
        "\n",
        "**H**\n",
        "\n",
        "**Z**"
      ],
      "metadata": {
        "id": "QvceebSXRpZ6"
      },
      "id": "QvceebSXRpZ6"
    },
    {
      "cell_type": "code",
      "source": [],
      "metadata": {
        "id": "3s8KDQDHRpZ7"
      },
      "execution_count": null,
      "outputs": [],
      "id": "3s8KDQDHRpZ7"
    },
    {
      "cell_type": "code",
      "source": [
        "# Simulate using QASM\n",
        "backend = Aer.get_backend('qasm_simulator')\n",
        "job = execute(qc, backend = backend, shots = 1024)  # Make sure you change \"qc\" to the name of your quantum circuit in this line!\n",
        "result = job.result()\n",
        "counts = result.get_counts()\n",
        "plot_histogram(counts)"
      ],
      "metadata": {
        "id": "7iDlqlETRpZ8"
      },
      "execution_count": null,
      "outputs": [],
      "id": "7iDlqlETRpZ8"
    },
    {
      "cell_type": "markdown",
      "source": [
        "#### **Exercise #4** \n",
        "\n",
        "Create and draw a 1-qubit/1-classical bit circuit in which you apply the gates listed below and measure the qubit and store the result in the classical bit. Run the simulator code below to see what measurements results you get.\n",
        "\n",
        "**Gates**:\n",
        "\n",
        "**H**\n",
        "\n",
        "**Z**\n",
        "\n",
        "**H**"
      ],
      "metadata": {
        "id": "JlLW2GWhRw17"
      },
      "id": "JlLW2GWhRw17"
    },
    {
      "cell_type": "code",
      "source": [],
      "metadata": {
        "id": "3JJ7tPqzRw17"
      },
      "execution_count": null,
      "outputs": [],
      "id": "3JJ7tPqzRw17"
    },
    {
      "cell_type": "code",
      "source": [
        "# Simulate using QASM\n",
        "backend = Aer.get_backend('qasm_simulator')\n",
        "job = execute(qc, backend = backend, shots = 1024)  # Make sure you change \"qc\" to the name of your quantum circuit in this line!\n",
        "result = job.result()\n",
        "counts = result.get_counts()\n",
        "plot_histogram(counts)"
      ],
      "metadata": {
        "id": "hi5DeID1Rw18"
      },
      "execution_count": null,
      "outputs": [],
      "id": "hi5DeID1Rw18"
    },
    {
      "cell_type": "markdown",
      "metadata": {
        "jp-MarkdownHeadingCollapsed": true,
        "tags": [],
        "id": "SsJ-fAmgRKW5"
      },
      "source": [
        "## **Part 2: Multi-Qubit Circuit Practice**\n",
        "---"
      ],
      "id": "SsJ-fAmgRKW5"
    },
    {
      "cell_type": "markdown",
      "source": [
        "#### **Exercise #1** \n",
        "\n",
        "Create and draw a 2-qubit/2-classical bit circuit in which you apply the gates listed below and measure the qubits. Run the simulator code below to see what measurements results you get.\n",
        "\n",
        "**Gates**:\n",
        "\n",
        "**X on qubit 0**"
      ],
      "metadata": {
        "id": "V6z5IvWbR946"
      },
      "id": "V6z5IvWbR946"
    },
    {
      "cell_type": "code",
      "source": [],
      "metadata": {
        "id": "1gXdk67mR948"
      },
      "execution_count": null,
      "outputs": [],
      "id": "1gXdk67mR948"
    },
    {
      "cell_type": "code",
      "source": [
        "# Simulate using QASM\n",
        "backend = Aer.get_backend('qasm_simulator')\n",
        "job = execute(qc, backend = backend, shots = 1024)  # Make sure you change \"qc\" to the name of your quantum circuit in this line!\n",
        "result = job.result()\n",
        "counts = result.get_counts()\n",
        "plot_histogram(counts)"
      ],
      "metadata": {
        "id": "F-BQHNGnR948"
      },
      "execution_count": null,
      "outputs": [],
      "id": "F-BQHNGnR948"
    },
    {
      "cell_type": "markdown",
      "source": [
        "#### **Exercise #2** \n",
        "\n",
        "Create and draw a 2-qubit/2-classical bit circuit in which you apply the gates listed below and measure the qubits. Run the simulator code below to see what measurements results you get.\n",
        "\n",
        "**Gates**:\n",
        "\n",
        "**H on qubit 0**\n",
        "\n",
        "**X on qubit 1**"
      ],
      "metadata": {
        "id": "cAAE11Z8SOId"
      },
      "id": "cAAE11Z8SOId"
    },
    {
      "cell_type": "code",
      "source": [],
      "metadata": {
        "id": "AAlu_nuMSOId"
      },
      "execution_count": null,
      "outputs": [],
      "id": "AAlu_nuMSOId"
    },
    {
      "cell_type": "code",
      "source": [
        "# Simulate using QASM\n",
        "backend = Aer.get_backend('qasm_simulator')\n",
        "job = execute(qc, backend = backend, shots = 1024)  # Make sure you change \"qc\" to the name of your quantum circuit in this line!\n",
        "result = job.result()\n",
        "counts = result.get_counts()\n",
        "plot_histogram(counts)"
      ],
      "metadata": {
        "id": "tsbLLBc-SOIe"
      },
      "execution_count": null,
      "outputs": [],
      "id": "tsbLLBc-SOIe"
    },
    {
      "cell_type": "markdown",
      "source": [
        "#### **Exercise #3** \n",
        "\n",
        "Create and draw a 2-qubit/2-classical bit circuit in which you apply the gates listed below and measure the qubits. Run the simulator code below to see what measurements results you get.\n",
        "\n",
        "**Gates**:\n",
        "\n",
        "**X on qubit 0**\n",
        "\n",
        "**CX with qubit 0 as the control qubit and qubit 1 as the target qubit**"
      ],
      "metadata": {
        "id": "yOGr4pAaSZoq"
      },
      "id": "yOGr4pAaSZoq"
    },
    {
      "cell_type": "code",
      "source": [],
      "metadata": {
        "id": "zNTu7jM5SZor"
      },
      "execution_count": null,
      "outputs": [],
      "id": "zNTu7jM5SZor"
    },
    {
      "cell_type": "code",
      "source": [
        "# Simulate using QASM\n",
        "backend = Aer.get_backend('qasm_simulator')\n",
        "job = execute(qc, backend = backend, shots = 1024)  # Make sure you change \"qc\" to the name of your quantum circuit in this line!\n",
        "result = job.result()\n",
        "counts = result.get_counts()\n",
        "plot_histogram(counts)"
      ],
      "metadata": {
        "id": "rf6uVmz4SZos"
      },
      "execution_count": null,
      "outputs": [],
      "id": "rf6uVmz4SZos"
    },
    {
      "cell_type": "markdown",
      "source": [
        "#### **Exercise #4** \n",
        "\n",
        "Create and draw a 2-qubit/2-classical bit circuit in which you apply the gates listed below and measure the qubits. Run the simulator code below to see what measurements results you get.\n",
        "\n",
        "**Gates**:\n",
        "\n",
        "**X on qubit 0**\n",
        "\n",
        "**H on qubit 0**\n",
        "\n",
        "**CX with qubit 0 as the control qubit and qubit 1 as the target qubit**"
      ],
      "metadata": {
        "id": "dpAWxfKLSmCf"
      },
      "id": "dpAWxfKLSmCf"
    },
    {
      "cell_type": "code",
      "source": [],
      "metadata": {
        "id": "CkRo4T_WSmCg"
      },
      "execution_count": null,
      "outputs": [],
      "id": "CkRo4T_WSmCg"
    },
    {
      "cell_type": "code",
      "source": [
        "# Simulate using QASM\n",
        "backend = Aer.get_backend('qasm_simulator')\n",
        "job = execute(qc, backend = backend, shots = 1024)  # Make sure you change \"qc\" to the name of your quantum circuit in this line!\n",
        "result = job.result()\n",
        "counts = result.get_counts()\n",
        "plot_histogram(counts)"
      ],
      "metadata": {
        "id": "bmJQnuQ1SmCh"
      },
      "execution_count": null,
      "outputs": [],
      "id": "bmJQnuQ1SmCh"
    },
    {
      "cell_type": "markdown",
      "source": [
        "#### **Exercise #5** \n",
        "\n",
        "Create and draw a 3-qubit/3-classical bit circuit in which you apply the gates listed below and measure the qubits. Run the simulator code below to see what measurements results you get. **Remember to measure all 3 qubits.**\n",
        "\n",
        "**Gates**:\n",
        "\n",
        "**H on qubit 0**\n",
        "\n",
        "**CX with qubit 0 as the control qubit and qubit 1 as the target qubit**\n",
        "\n",
        "**CX with qubit 1 as the control qubit and qubit 2 as the target qubit**"
      ],
      "metadata": {
        "id": "gxghNMSoSvVS"
      },
      "id": "gxghNMSoSvVS"
    },
    {
      "cell_type": "code",
      "source": [],
      "metadata": {
        "id": "b1Lff2JZSvVT"
      },
      "execution_count": null,
      "outputs": [],
      "id": "b1Lff2JZSvVT"
    },
    {
      "cell_type": "code",
      "source": [
        "# Simulate using QASM\n",
        "backend = Aer.get_backend('qasm_simulator')\n",
        "job = execute(qc, backend = backend, shots = 1024)  # Make sure you change \"qc\" to the name of your quantum circuit in this line!\n",
        "result = job.result()\n",
        "counts = result.get_counts()\n",
        "plot_histogram(counts)"
      ],
      "metadata": {
        "id": "c67N39D1SvVT"
      },
      "execution_count": null,
      "outputs": [],
      "id": "c67N39D1SvVT"
    },
    {
      "cell_type": "markdown",
      "source": [
        "#### **Exercise #6** \n",
        "\n",
        "Create and draw a 3-qubit/3-classical bit circuit in which you apply the gates listed below and measure the qubits. Run the simulator code below to see what measurements results you get. **Remember to measure all 3 qubits.**\n",
        "\n",
        "**Gates (in the order listed)**:\n",
        "\n",
        "**H on qubit 0**\n",
        "\n",
        "**CX with qubit 0 as the control qubit and qubit 1 as the target qubit**\n",
        "\n",
        "**CX with qubit 1 as the control qubit and qubit 2 as the target qubit**\n",
        "\n",
        "\n",
        "**H on qubit 2**"
      ],
      "metadata": {
        "id": "RvMzcyVjTTr8"
      },
      "id": "RvMzcyVjTTr8"
    },
    {
      "cell_type": "code",
      "source": [],
      "metadata": {
        "id": "oF7u-tVnTTr9"
      },
      "execution_count": null,
      "outputs": [],
      "id": "oF7u-tVnTTr9"
    },
    {
      "cell_type": "code",
      "source": [
        "# Simulate using QASM\n",
        "backend = Aer.get_backend('qasm_simulator')\n",
        "job = execute(qc, backend = backend, shots = 1024)  # Make sure you change \"qc\" to the name of your quantum circuit in this line!\n",
        "result = job.result()\n",
        "counts = result.get_counts()\n",
        "plot_histogram(counts)"
      ],
      "metadata": {
        "id": "sZah8oR_TTr-"
      },
      "execution_count": null,
      "outputs": [],
      "id": "sZah8oR_TTr-"
    },
    {
      "cell_type": "markdown",
      "metadata": {
        "jp-MarkdownHeadingCollapsed": true,
        "tags": [],
        "id": "J6lT36Gn9YuQ"
      },
      "source": [
        "## **[OPTIONAL] Part 3: Extra Problems**\n",
        "---"
      ],
      "id": "J6lT36Gn9YuQ"
    },
    {
      "cell_type": "markdown",
      "source": [
        "If you would like additional practice, try the problems below. **Note: these problems are optional.**"
      ],
      "metadata": {
        "id": "oSdm70wdigbN"
      },
      "id": "oSdm70wdigbN"
    },
    {
      "cell_type": "markdown",
      "source": [
        "#### **Exercise #1** \n",
        "\n",
        "Create and draw a 2-qubit/2-classical bit circuit in which you apply the gates listed below and measure the qubits. Run the simulator code below to see what measurements results you get.\n",
        "\n",
        "**Gates (in the order listed)**:\n",
        "\n",
        "**Z on qubit 0**\n",
        "\n",
        "**H on qubit 0**\n",
        "\n",
        "**H on qubit 1**"
      ],
      "metadata": {
        "id": "rukWvsvcAj6b"
      },
      "id": "rukWvsvcAj6b"
    },
    {
      "cell_type": "code",
      "source": [],
      "metadata": {
        "id": "XFlLYHcSAj6c"
      },
      "execution_count": null,
      "outputs": [],
      "id": "XFlLYHcSAj6c"
    },
    {
      "cell_type": "code",
      "source": [
        "# Simulate using QASM\n",
        "backend = Aer.get_backend('qasm_simulator')\n",
        "job = execute(qc, backend = backend, shots = 1024)  # Make sure you change \"qc\" to the name of your quantum circuit in this line!\n",
        "result = job.result()\n",
        "counts = result.get_counts()\n",
        "plot_histogram(counts)"
      ],
      "metadata": {
        "id": "VVOeM4A0Aj6c"
      },
      "execution_count": null,
      "outputs": [],
      "id": "VVOeM4A0Aj6c"
    },
    {
      "cell_type": "markdown",
      "source": [
        "#### **Exercise #2** \n",
        "\n",
        "Create and draw a 2-qubit/2-classical bit circuit in which you apply the gates listed below and measure the qubits. Run the simulator code below to see what measurements results you get.\n",
        "\n",
        "**Gates (in the order listed)**:\n",
        "\n",
        "**H on qubit 0**\n",
        "\n",
        "**H on qubit 1**\n",
        "\n",
        "**Z on qubit 0**"
      ],
      "metadata": {
        "id": "3y45nAvVAW7z"
      },
      "id": "3y45nAvVAW7z"
    },
    {
      "cell_type": "code",
      "source": [],
      "metadata": {
        "id": "35KbCbP5AW79"
      },
      "execution_count": null,
      "outputs": [],
      "id": "35KbCbP5AW79"
    },
    {
      "cell_type": "code",
      "source": [
        "# Simulate using QASM\n",
        "backend = Aer.get_backend('qasm_simulator')\n",
        "job = execute(qc, backend = backend, shots = 1024)  # Make sure you change \"qc\" to the name of your quantum circuit in this line!\n",
        "result = job.result()\n",
        "counts = result.get_counts()\n",
        "plot_histogram(counts)"
      ],
      "metadata": {
        "id": "MwTuYfiOAW79"
      },
      "execution_count": null,
      "outputs": [],
      "id": "MwTuYfiOAW79"
    },
    {
      "cell_type": "markdown",
      "source": [
        "#### **Exercise #3** \n",
        "\n",
        "Create and draw a 2-qubit/2-classical bit circuit in which you apply the gates listed below and measure the qubits. Run the simulator code below to see what measurements results you get.\n",
        "\n",
        "**Gates (in the order listed)**:\n",
        "\n",
        "**H on qubit 0**\n",
        "\n",
        "**CX with qubit 0 as the control qubit and qubit 1 as the target qubit**\n",
        "\n",
        "**Z on qubit 0**"
      ],
      "metadata": {
        "id": "S0wboSoH9eZ_"
      },
      "id": "S0wboSoH9eZ_"
    },
    {
      "cell_type": "code",
      "source": [],
      "metadata": {
        "id": "HkeldR089eaC"
      },
      "execution_count": null,
      "outputs": [],
      "id": "HkeldR089eaC"
    },
    {
      "cell_type": "code",
      "source": [
        "# Simulate using QASM\n",
        "backend = Aer.get_backend('qasm_simulator')\n",
        "job = execute(qc, backend = backend, shots = 1024)  # Make sure you change \"qc\" to the name of your quantum circuit in this line!\n",
        "result = job.result()\n",
        "counts = result.get_counts()\n",
        "plot_histogram(counts)"
      ],
      "metadata": {
        "id": "msdyn5l_9eaD"
      },
      "execution_count": null,
      "outputs": [],
      "id": "msdyn5l_9eaD"
    },
    {
      "cell_type": "markdown",
      "source": [
        "#### **Exercise #4** \n",
        "\n",
        "Create and draw a 2-qubit/2-classical bit circuit in which you apply the gates listed below and measure the qubits. Run the simulator code below to see what measurements results you get.\n",
        "\n",
        "**Gates (in the order listed)**:\n",
        "\n",
        "**X on qubit 0**\n",
        "\n",
        "**H on qubit 0**\n",
        "\n",
        "**H on qubit 1**\n",
        "\n",
        "**CX with qubit 0 as the control qubit and qubit 1 as the target qubit**\n",
        "\n",
        "**H on qubit 0**"
      ],
      "metadata": {
        "id": "c4NlWwAq9w-s"
      },
      "id": "c4NlWwAq9w-s"
    },
    {
      "cell_type": "code",
      "source": [],
      "metadata": {
        "id": "rZ0uTPGo9w-t"
      },
      "execution_count": null,
      "outputs": [],
      "id": "rZ0uTPGo9w-t"
    },
    {
      "cell_type": "code",
      "source": [
        "# Simulate using QASM\n",
        "backend = Aer.get_backend('qasm_simulator')\n",
        "job = execute(qc, backend = backend, shots = 1024)  # Make sure you change \"qc\" to the name of your quantum circuit in this line!\n",
        "result = job.result()\n",
        "counts = result.get_counts()\n",
        "plot_histogram(counts)"
      ],
      "metadata": {
        "id": "tKhhwOO69w-t"
      },
      "execution_count": null,
      "outputs": [],
      "id": "tKhhwOO69w-t"
    },
    {
      "cell_type": "markdown",
      "source": [
        "#### **Exercise #5** \n",
        "\n",
        "Create and draw a 2-qubit/2-classical bit circuit in which you apply the gates listed below and measure the qubits. Run the simulator code below to see what measurements results you get.\n",
        "\n",
        "**Gates (in the order listed)**:\n",
        "\n",
        "**H on qubit 0**\n",
        "\n",
        "**H on qubit 1**\n",
        "\n",
        "**X on qubit 0**\n",
        "\n",
        "**CX with qubit 0 as the control qubit and qubit 1 as the target qubit**\n",
        "\n",
        "**H on qubit 0**"
      ],
      "metadata": {
        "id": "3PNxvlJ0-W3E"
      },
      "id": "3PNxvlJ0-W3E"
    },
    {
      "cell_type": "code",
      "source": [],
      "metadata": {
        "id": "aQdH5yqc-W3E"
      },
      "execution_count": null,
      "outputs": [],
      "id": "aQdH5yqc-W3E"
    },
    {
      "cell_type": "code",
      "source": [
        "# Simulate using QASM\n",
        "backend = Aer.get_backend('qasm_simulator')\n",
        "job = execute(qc, backend = backend, shots = 1024)  # Make sure you change \"qc\" to the name of your quantum circuit in this line!\n",
        "result = job.result()\n",
        "counts = result.get_counts()\n",
        "plot_histogram(counts)"
      ],
      "metadata": {
        "id": "rY_L7OLk-W3F"
      },
      "execution_count": null,
      "outputs": [],
      "id": "rY_L7OLk-W3F"
    },
    {
      "cell_type": "markdown",
      "source": [
        "#### **Exercise #6** \n",
        "\n",
        "Create and draw a **2-qubit/1-classical bit circuit** in which you apply the gates listed below and measure the qubits. Run the simulator code below to see what measurements results you get. **Only measure the state of qubit 0.**\n",
        "\n",
        "**Gates (in the order listed)**:\n",
        "\n",
        "**H on qubit 0**\n",
        "\n",
        "**H on qubit 1**\n",
        "\n",
        "**X on qubit 0**\n",
        "\n",
        "**CX with qubit 0 as the control qubit and qubit 1 as the target qubit**\n",
        "\n",
        "**H on qubit 0**"
      ],
      "metadata": {
        "id": "akwlyZVM-cUf"
      },
      "id": "akwlyZVM-cUf"
    },
    {
      "cell_type": "code",
      "source": [],
      "metadata": {
        "id": "YUCwY6Un-cUg"
      },
      "execution_count": null,
      "outputs": [],
      "id": "YUCwY6Un-cUg"
    },
    {
      "cell_type": "code",
      "source": [
        "# Simulate using QASM\n",
        "backend = Aer.get_backend('qasm_simulator')\n",
        "job = execute(qc, backend = backend, shots = 1024)  # Make sure you change \"qc\" to the name of your quantum circuit in this line!\n",
        "result = job.result()\n",
        "counts = result.get_counts()\n",
        "plot_histogram(counts)"
      ],
      "metadata": {
        "id": "X6Dc7RSC-cUg"
      },
      "execution_count": null,
      "outputs": [],
      "id": "X6Dc7RSC-cUg"
    },
    {
      "cell_type": "markdown",
      "source": [
        "#### **Exercise #7** \n",
        "\n",
        "Create and draw a **3-qubit/3-classical bit circuit** in which you apply the gates listed below and measure the qubits. Run the simulator code below to see what measurements results you get. **Measure the state of all 3 qubits.**\n",
        "\n",
        "**Gates (in the order listed)**:\n",
        "\n",
        "**H on qubit 0**\n",
        "\n",
        "**H on qubit 1**\n",
        "\n",
        "**H on qubit 2**\n",
        "\n",
        "**CX with qubit 0 as the control qubit and qubit 1 as the target qubit**"
      ],
      "metadata": {
        "id": "8jQl-SBl_GhL"
      },
      "id": "8jQl-SBl_GhL"
    },
    {
      "cell_type": "code",
      "source": [],
      "metadata": {
        "id": "n_hj-gTJ_GhM"
      },
      "execution_count": null,
      "outputs": [],
      "id": "n_hj-gTJ_GhM"
    },
    {
      "cell_type": "code",
      "source": [
        "# Simulate using QASM\n",
        "backend = Aer.get_backend('qasm_simulator')\n",
        "job = execute(qc, backend = backend, shots = 1024)  # Make sure you change \"qc\" to the name of your quantum circuit in this line!\n",
        "result = job.result()\n",
        "counts = result.get_counts()\n",
        "plot_histogram(counts)"
      ],
      "metadata": {
        "id": "zO6ML7g-_GhN"
      },
      "execution_count": null,
      "outputs": [],
      "id": "zO6ML7g-_GhN"
    },
    {
      "cell_type": "markdown",
      "source": [
        "#### **Exercise #8** \n",
        "\n",
        "Create and draw a **3-qubit/3-classical bit circuit** in which you apply the gates listed below and measure the qubits. Run the simulator code below to see what measurements results you get. **Measure the state of all 3 qubits.**\n",
        "\n",
        "**Gates (in the order listed)**:\n",
        "\n",
        "**H on qubit 0**\n",
        "\n",
        "**H on qubit 1**\n",
        "\n",
        "**H on qubit 2**\n",
        "\n",
        "**CX with qubit 0 as the control qubit and qubit 1 as the target qubit**\n",
        "\n",
        "**CX with qubit 2 as the control qubit and qubit 0 as the target qubit**"
      ],
      "metadata": {
        "id": "KiK6SV4r_jfM"
      },
      "id": "KiK6SV4r_jfM"
    },
    {
      "cell_type": "code",
      "source": [],
      "metadata": {
        "id": "QaUSmEn6_jfW"
      },
      "execution_count": null,
      "outputs": [],
      "id": "QaUSmEn6_jfW"
    },
    {
      "cell_type": "code",
      "source": [
        "# Simulate using QASM\n",
        "backend = Aer.get_backend('qasm_simulator')\n",
        "job = execute(qc, backend = backend, shots = 1024)  # Make sure you change \"qc\" to the name of your quantum circuit in this line!\n",
        "result = job.result()\n",
        "counts = result.get_counts()\n",
        "plot_histogram(counts)"
      ],
      "metadata": {
        "id": "T58p5iIi_jfX"
      },
      "execution_count": null,
      "outputs": [],
      "id": "T58p5iIi_jfX"
    },
    {
      "cell_type": "markdown",
      "source": [
        "#### **Exercise #9** \n",
        "\n",
        "Create and draw a **3-qubit/3-classical bit circuit** in which you apply the gates listed below and measure the qubits. Run the simulator code below to see what measurements results you get. **Measure the state of all 3 qubits.**\n",
        "\n",
        "**Gates (in the order listed)**:\n",
        "\n",
        "**H on qubit 0**\n",
        "\n",
        "**CX with qubit 0 as the control qubit and qubit 1 as the target qubit**\n",
        "\n",
        "**CX with qubit 1 as the control qubit and qubit 2 as the target qubit**\n",
        "\n",
        "**CX with qubit 2 as the control qubit and qubit 0 as the target qubit**"
      ],
      "metadata": {
        "id": "b6FPI825_siJ"
      },
      "id": "b6FPI825_siJ"
    },
    {
      "cell_type": "code",
      "source": [],
      "metadata": {
        "id": "kt_x22Vn_siK"
      },
      "execution_count": null,
      "outputs": [],
      "id": "kt_x22Vn_siK"
    },
    {
      "cell_type": "code",
      "source": [
        "# Simulate using QASM\n",
        "backend = Aer.get_backend('qasm_simulator')\n",
        "job = execute(qc, backend = backend, shots = 1024)  # Make sure you change \"qc\" to the name of your quantum circuit in this line!\n",
        "result = job.result()\n",
        "counts = result.get_counts()\n",
        "plot_histogram(counts)"
      ],
      "metadata": {
        "id": "vKHQpgJ__siK"
      },
      "execution_count": null,
      "outputs": [],
      "id": "vKHQpgJ__siK"
    },
    {
      "cell_type": "markdown",
      "source": [
        "#### **[CHALLENGE] Exercise #10** \n",
        "\n",
        "Create and draw a **1-qubit/2-classical bit circuit** in which you apply the gates listed below and measure the qubits. Run the simulator code below to see what measurements results you get. **Measure the state of qubit 0 to both classical bits.**\n",
        "\n",
        "**Gates (in the order listed)**:\n",
        "\n",
        "**H on qubit 0**\n",
        "\n",
        "**Z on qubit 0**"
      ],
      "metadata": {
        "id": "UKs02mne-v-u"
      },
      "id": "UKs02mne-v-u"
    },
    {
      "cell_type": "code",
      "source": [],
      "metadata": {
        "id": "GwRQc1pI-v-v"
      },
      "execution_count": null,
      "outputs": [],
      "id": "GwRQc1pI-v-v"
    },
    {
      "cell_type": "code",
      "source": [
        "# Simulate using QASM\n",
        "backend = Aer.get_backend('qasm_simulator')\n",
        "job = execute(qc, backend = backend, shots = 1024)  # Make sure you change \"qc\" to the name of your quantum circuit in this line!\n",
        "result = job.result()\n",
        "counts = result.get_counts()\n",
        "plot_histogram(counts)"
      ],
      "metadata": {
        "id": "aY1cpkHI-v-v"
      },
      "execution_count": null,
      "outputs": [],
      "id": "aY1cpkHI-v-v"
    },
    {
      "cell_type": "markdown",
      "source": [
        "---\n",
        "© 2022 The Coding School, All rights reserved"
      ],
      "metadata": {
        "id": "Z_6rE2cz9eaD"
      },
      "id": "Z_6rE2cz9eaD"
    }
  ]
}