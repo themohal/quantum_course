{
  "nbformat": 4,
  "nbformat_minor": 5,
  "metadata": {
    "kernelspec": {
      "display_name": "Qiskit v0.31.0 (ipykernel)",
      "language": "python",
      "name": "python3"
    },
    "language_info": {
      "codemirror_mode": {
        "name": "ipython",
        "version": 3
      },
      "file_extension": ".py",
      "mimetype": "text/x-python",
      "name": "python",
      "nbconvert_exporter": "python",
      "pygments_lexer": "ipython3",
      "version": "3.8.10"
    },
    "colab": {
      "provenance": [],
      "collapsed_sections": []
    }
  },
  "cells": [
    {
      "cell_type": "markdown",
      "metadata": {
        "id": "d2497f68-e565-4dec-8d5e-ec337e37128e"
      },
      "source": [
        "# Lab: Week #6 | The Z Gate and Multi-Qubit Circuits\n",
        "---\n",
        "\n",
        "### **Description**:  \n",
        "In this week's lab, we will create and simulate quantum circuits involving the Z gate, multi-qubit circuits, and mulit-qubit gates.\n",
        "\n",
        "<br>\n",
        "\n",
        "### **Cheat Sheet**:  [Qiskit Cheat Sheet](https://docs.google.com/document/d/1GArKBUksi4pMgcEBc4OpvWp2KREPpnQvq0AgyijJnkI/edit?usp=share_link)\n",
        "\n",
        "---"
      ],
      "id": "d2497f68-e565-4dec-8d5e-ec337e37128e"
    },
    {
      "cell_type": "markdown",
      "metadata": {
        "id": "k0Lsovb5VOKP",
        "jp-MarkdownHeadingCollapsed": true,
        "tags": []
      },
      "source": [
        "## **Part 0: Importing from Qiskit**\n",
        "---\n",
        "\n",
        "Run the cell directly below before doing anything else. This will import all of the functions that we will use today."
      ],
      "id": "k0Lsovb5VOKP"
    },
    {
      "cell_type": "code",
      "execution_count": null,
      "metadata": {
        "id": "LxC62c-hRcYv"
      },
      "outputs": [],
      "source": [
        "# Importing standard Qiskit libraries\n",
        "from qiskit import QuantumCircuit  #Importing the QuantumCircuit function from Qiskit. We will use this to create our quantum circuits!\n",
        "\n",
        "# We will use these functions to run our circuit and visualize its final state\n",
        "from qiskit import Aer, execute \n",
        "from qiskit.visualization import *\n",
        "\n",
        "import warnings  # We are using this library to suppress some warning messages\n",
        "warnings.filterwarnings(\"ignore\")\n",
        "\n",
        "print(\"Libraries imported successfully!\")"
      ],
      "id": "LxC62c-hRcYv"
    },
    {
      "cell_type": "markdown",
      "metadata": {
        "jp-MarkdownHeadingCollapsed": true,
        "tags": [],
        "id": "sVwVviQORgWa"
      },
      "source": [
        "## **Part 1: Review**\n",
        "---"
      ],
      "id": "sVwVviQORgWa"
    },
    {
      "cell_type": "markdown",
      "source": [
        "#### **Exercise #1** \n",
        "\n",
        "**Together**, let's create and draw a 1-qubit circuit with 1 X gate."
      ],
      "metadata": {
        "id": "K6XmrePfhCLo"
      },
      "id": "K6XmrePfhCLo"
    },
    {
      "cell_type": "code",
      "source": [
        "qc = # COMPLETE THIS LINE\n",
        "\n",
        "# ADD AN X GATE\n",
        "\n",
        "qc.draw()"
      ],
      "metadata": {
        "id": "9QAVDb6IhGcs"
      },
      "id": "9QAVDb6IhGcs",
      "execution_count": null,
      "outputs": []
    },
    {
      "cell_type": "markdown",
      "source": [
        "Now, let's simulate this rotation on the Bloch sphere using `visualize_transition(qc, trace = True, fpg = 5)`.\n",
        "\n",
        "\n",
        "**NOTE**: This last parameter, `fpg = 5`, is the \"frames per gate\", which we can set to a low number such as 5 or 10 to make load `visualize_transition` more quickly."
      ],
      "metadata": {
        "id": "2vyRNU7PiSSh"
      },
      "id": "2vyRNU7PiSSh"
    },
    {
      "cell_type": "code",
      "source": [
        "visualize_transition(qc, trace = True, fpg = 5)"
      ],
      "metadata": {
        "id": "qIQwcsfjif1_"
      },
      "id": "qIQwcsfjif1_",
      "execution_count": null,
      "outputs": []
    },
    {
      "cell_type": "markdown",
      "source": [
        "#### **Exercise #2** \n",
        "\n",
        "**Together**, let's create and draw a 1-qubit circuit with 2 X gates and a measurement. \n",
        "\n",
        "Then, simulate the measurement results of running this circuit using QASM - the code has already been provided."
      ],
      "metadata": {
        "id": "1wgAAT45hRE5"
      },
      "id": "1wgAAT45hRE5"
    },
    {
      "cell_type": "code",
      "source": [
        "qc = # COMPLETE THIS LINE\n",
        "\n",
        "qc.x(0)\n",
        "qc.x(0)\n",
        "\n",
        "qc.measure(# COMPLETE THIS LINE)\n",
        "\n",
        "qc.draw()"
      ],
      "metadata": {
        "id": "4XrFIeHuhXiV"
      },
      "id": "4XrFIeHuhXiV",
      "execution_count": null,
      "outputs": []
    },
    {
      "cell_type": "markdown",
      "source": [
        "**Run the code below to simulate the measurement results using QASM.**"
      ],
      "metadata": {
        "id": "TYPbF0pbh2DM"
      },
      "id": "TYPbF0pbh2DM"
    },
    {
      "cell_type": "code",
      "source": [
        "# Simulate using QASM\n",
        "backend = Aer.get_backend('qasm_simulator')\n",
        "job = execute(qc, backend = backend, shots = 1024)  # Make sure you change \"qc\" to the name of your quantum circuit in this line!\n",
        "result = job.result()\n",
        "counts = result.get_counts()\n",
        "plot_histogram(counts)"
      ],
      "metadata": {
        "id": "GJdKzNEMh75k"
      },
      "execution_count": null,
      "outputs": [],
      "id": "GJdKzNEMh75k"
    },
    {
      "cell_type": "markdown",
      "metadata": {
        "jp-MarkdownHeadingCollapsed": true,
        "tags": [],
        "id": "CTQfTPUVhAQv"
      },
      "source": [
        "## **Part 2: The Z Gate**\n",
        "---"
      ],
      "id": "CTQfTPUVhAQv"
    },
    {
      "cell_type": "markdown",
      "source": [
        "#### **Exercise #1** \n",
        "\n",
        "**Together**, let's create and draw a 1-qubit circuit with 1 Z gate."
      ],
      "metadata": {
        "id": "ZSIQ0dQRR5C4"
      },
      "id": "ZSIQ0dQRR5C4"
    },
    {
      "cell_type": "code",
      "source": [
        "qc = QuantumCircuit(1)\n",
        "\n",
        "# ADD A Z GATE\n",
        "\n",
        "qc.draw()"
      ],
      "metadata": {
        "id": "R_uEliZqR_TH"
      },
      "id": "R_uEliZqR_TH",
      "execution_count": null,
      "outputs": []
    },
    {
      "cell_type": "markdown",
      "source": [
        "#### **Exercise #2** \n",
        "\n",
        "**Together**, let's create and run a 1-qubit circuit with 1 Z gate using `visualize_transition` with `fpg = 5`."
      ],
      "metadata": {
        "id": "G2Jiv47oR_1l"
      },
      "id": "G2Jiv47oR_1l"
    },
    {
      "cell_type": "code",
      "source": [
        "# COMPLETE THIS CODE\n",
        "\n",
        "visualize_transition(qc, trace = True, fpg = 5)"
      ],
      "metadata": {
        "id": "rEz9xMF4SAER"
      },
      "id": "rEz9xMF4SAER",
      "execution_count": null,
      "outputs": []
    },
    {
      "cell_type": "markdown",
      "source": [
        "#### **Exercise #3** \n",
        "\n",
        "**Together**, let's create and draw a 1-qubit circuit with 1 X gate applied first and then 1 Z gate, with a measurement at the end.\n",
        "\n",
        "Then, simulate the measurement results using QASM; the code has been provided."
      ],
      "metadata": {
        "id": "6D6tu3WLSnLU"
      },
      "id": "6D6tu3WLSnLU"
    },
    {
      "cell_type": "code",
      "source": [
        "qc = # COMPLETE THIS LINE\n",
        "\n",
        "# ADD X AND THEN Z GATE\n",
        "\n",
        "# MEASURE\n",
        "\n",
        "qc.draw()"
      ],
      "metadata": {
        "id": "Q-47vmKlS8b4"
      },
      "id": "Q-47vmKlS8b4",
      "execution_count": null,
      "outputs": []
    },
    {
      "cell_type": "markdown",
      "source": [
        "**Run the code below to simulate the measurement results using QASM.**"
      ],
      "metadata": {
        "id": "SBXIPC2Km0x9"
      },
      "id": "SBXIPC2Km0x9"
    },
    {
      "cell_type": "code",
      "source": [
        "# Simulate using QASM\n",
        "backend = Aer.get_backend('qasm_simulator')\n",
        "job = execute(qc, backend = backend, shots = 1024)  # Make sure you change \"qc\" to the name of your quantum circuit in this line!\n",
        "result = job.result()\n",
        "counts = result.get_counts()\n",
        "plot_histogram(counts)"
      ],
      "metadata": {
        "id": "3BjoAoXd67LD"
      },
      "id": "3BjoAoXd67LD",
      "execution_count": null,
      "outputs": []
    },
    {
      "cell_type": "markdown",
      "source": [
        "#### **Exercise #4** \n",
        "\n",
        "Independently, create and draw a 1-qubit circuit with gates applied in the order listed below with a measurement at the end. Then, simulate the measurement results using QASM; the code is provided below. \n",
        "\n",
        "**Gates:**\n",
        "\n",
        "**H**\n",
        "\n",
        "**Z**"
      ],
      "metadata": {
        "id": "Xp-_zh-s7H0h"
      },
      "id": "Xp-_zh-s7H0h"
    },
    {
      "cell_type": "code",
      "source": [],
      "metadata": {
        "id": "z5a1aDYs7H0i"
      },
      "execution_count": null,
      "outputs": [],
      "id": "z5a1aDYs7H0i"
    },
    {
      "cell_type": "markdown",
      "source": [
        "**Run the code below to simulate the measurement results using QASM.**"
      ],
      "metadata": {
        "id": "Y67p4R6im31p"
      },
      "id": "Y67p4R6im31p"
    },
    {
      "cell_type": "code",
      "source": [
        "# Simulate using QASM\n",
        "backend = Aer.get_backend('qasm_simulator')\n",
        "job = execute(qc, backend = backend, shots = 1024)  # Make sure you change \"qc\" to the name of your quantum circuit in this line!\n",
        "result = job.result()\n",
        "counts = result.get_counts()\n",
        "plot_histogram(counts)"
      ],
      "metadata": {
        "id": "AWI7I3nN7H0j"
      },
      "execution_count": null,
      "outputs": [],
      "id": "AWI7I3nN7H0j"
    },
    {
      "cell_type": "markdown",
      "source": [
        "#### **Exercise #5** \n",
        "\n",
        "Independently, create and draw a 1-qubit circuit with gates applied in the order listed below with a measurement at the end. Then, simulate the measurement results using QASM; the code is provided below. \n",
        "\n",
        "**Gates:**\n",
        "\n",
        "**H**\n",
        "\n",
        "**Z**\n",
        "\n",
        "**X**"
      ],
      "metadata": {
        "id": "67zw1hq27g4W"
      },
      "id": "67zw1hq27g4W"
    },
    {
      "cell_type": "code",
      "source": [],
      "metadata": {
        "id": "jMQt5Qdx7g4X"
      },
      "execution_count": null,
      "outputs": [],
      "id": "jMQt5Qdx7g4X"
    },
    {
      "cell_type": "markdown",
      "source": [
        "**Run the code below to simulate the measurement results using QASM.**"
      ],
      "metadata": {
        "id": "tQp94a5Hm6va"
      },
      "id": "tQp94a5Hm6va"
    },
    {
      "cell_type": "code",
      "source": [
        "# Simulate using QASM\n",
        "backend = Aer.get_backend('qasm_simulator')\n",
        "job = execute(qc, backend = backend, shots = 1024)  # Make sure you change \"qc\" to the name of your quantum circuit in this line!\n",
        "result = job.result()\n",
        "counts = result.get_counts()\n",
        "plot_histogram(counts)"
      ],
      "metadata": {
        "id": "G7zvdXIp7g4X"
      },
      "execution_count": null,
      "outputs": [],
      "id": "G7zvdXIp7g4X"
    },
    {
      "cell_type": "markdown",
      "metadata": {
        "jp-MarkdownHeadingCollapsed": true,
        "tags": [],
        "id": "caumx9ScTDff"
      },
      "source": [
        "## **Part 3: Multi-Qubit Circuits**\n",
        "---"
      ],
      "id": "caumx9ScTDff"
    },
    {
      "cell_type": "markdown",
      "source": [
        "#### **Exercise #1** \n",
        "\n",
        "**Together**, let's create and draw a 2-qubit/2-classical bit circuit with no gates applied, with a measurement of both qubits at the end. Then, simulate the measurement results using QASM; the code is provided below. "
      ],
      "metadata": {
        "id": "q3wnJoZBAArd"
      },
      "id": "q3wnJoZBAArd"
    },
    {
      "cell_type": "code",
      "source": [
        "qc = QuantumCircuit(2, 2) \n",
        "\n",
        "# MEASURE ON THIS LINE\n",
        "\n",
        "qc.draw()"
      ],
      "metadata": {
        "id": "FEQYfOvGAArp"
      },
      "execution_count": null,
      "outputs": [],
      "id": "FEQYfOvGAArp"
    },
    {
      "cell_type": "markdown",
      "source": [
        "**Run the code below to simulate the measurement results using QASM.**"
      ],
      "metadata": {
        "id": "ik79KJPqnUj9"
      },
      "id": "ik79KJPqnUj9"
    },
    {
      "cell_type": "code",
      "source": [
        "# Simulate using QASM\n",
        "backend = Aer.get_backend('qasm_simulator')\n",
        "job = execute(qc, backend = backend, shots = 1024)  # Make sure you change \"qc\" to the name of your quantum circuit in this line!\n",
        "result = job.result()\n",
        "counts = result.get_counts()\n",
        "plot_histogram(counts)"
      ],
      "metadata": {
        "id": "u1yWnAufAArq"
      },
      "execution_count": null,
      "outputs": [],
      "id": "u1yWnAufAArq"
    },
    {
      "cell_type": "markdown",
      "source": [
        "#### **Exercise #2** \n",
        "\n",
        "**Together**, let's create and draw a 2-qubit/2-classical bit circuit with gates applied in the order given below, with a measurement of both qubits at the end. Then, simulate the measurement results using QASM; the code is provided below. \n",
        "\n",
        "**Gates:**\n",
        "\n",
        "**Z on qubit 0 (we can call this Z0)**\n",
        "\n",
        "**H on qubit 0 (we can call this H0)**\n",
        "\n",
        "**X on qubit 1 (we can call this X1)**"
      ],
      "metadata": {
        "id": "8rVSC1-7APbW"
      },
      "id": "8rVSC1-7APbW"
    },
    {
      "cell_type": "code",
      "source": [
        "qc = # COMPLETE THIS LINE\n",
        "\n",
        "qc.z(0)\n",
        "qc.h(0)\n",
        "qc.x(1)\n",
        "\n",
        "# MEASURE BOTH QUBITS\n",
        "\n",
        "qc.draw()"
      ],
      "metadata": {
        "id": "VZmL6jVSAPbX"
      },
      "execution_count": null,
      "outputs": [],
      "id": "VZmL6jVSAPbX"
    },
    {
      "cell_type": "markdown",
      "source": [
        "**Run the code below to simulate the measurement results using QASM.**"
      ],
      "metadata": {
        "id": "rt180SpJnnNV"
      },
      "id": "rt180SpJnnNV"
    },
    {
      "cell_type": "code",
      "source": [
        "# Simulate using QASM\n",
        "backend = Aer.get_backend('qasm_simulator')\n",
        "job = execute(qc, backend = backend, shots = 1024)  # Make sure you change \"qc\" to the name of your quantum circuit in this line!\n",
        "result = job.result()\n",
        "counts = result.get_counts()\n",
        "plot_histogram(counts)"
      ],
      "metadata": {
        "id": "4qhDvgx-APbX"
      },
      "execution_count": null,
      "outputs": [],
      "id": "4qhDvgx-APbX"
    },
    {
      "cell_type": "markdown",
      "source": [
        "#### **Exercise #3** \n",
        "\n",
        "**Together**, let's create and draw a 3-qubit/2-classical bit circuit with gates applied in the order given below, with a **measurement of just qubits 1 and 2** at the end. Then, simulate the measurement results using QASM; the code is provided below. \n",
        "\n",
        "**Gates:**\n",
        "\n",
        "**X on qubit 0 (we can call this X0)**\n",
        "\n",
        "**H on qubit 1 (we can call this H1)**\n",
        "\n",
        "**Z on qubit 2 (we can call this Z2)**"
      ],
      "metadata": {
        "id": "rEjg2GiSCc_z"
      },
      "id": "rEjg2GiSCc_z"
    },
    {
      "cell_type": "code",
      "source": [
        "qc = # COMPLETE THIS LINE\n",
        "\n",
        "qc.x(0)\n",
        "qc.h(1)\n",
        "qc.z(2)\n",
        "\n",
        "qc.measure(# COMPLETE THIS LINE)\n",
        "\n",
        "qc.draw()"
      ],
      "metadata": {
        "id": "DuwBd10lCc__"
      },
      "execution_count": null,
      "outputs": [],
      "id": "DuwBd10lCc__"
    },
    {
      "cell_type": "markdown",
      "source": [
        "**Run the code below to simulate the measurement results using QASM.**"
      ],
      "metadata": {
        "id": "vwyfrr29oEbI"
      },
      "id": "vwyfrr29oEbI"
    },
    {
      "cell_type": "code",
      "source": [
        "# Simulate using QASM\n",
        "backend = Aer.get_backend('qasm_simulator')\n",
        "job = execute(qc, backend = backend, shots = 1024)  # Make sure you change \"qc\" to the name of your quantum circuit in this line!\n",
        "result = job.result()\n",
        "counts = result.get_counts()\n",
        "plot_histogram(counts)"
      ],
      "metadata": {
        "id": "_QIFB6TBCc__"
      },
      "execution_count": null,
      "outputs": [],
      "id": "_QIFB6TBCc__"
    },
    {
      "cell_type": "markdown",
      "source": [
        "#### **Exercise #4** \n",
        "\n",
        "Independently, create and draw a 2-qubit/2-classical bit circuit with gates applied in the order given below, with a measurement of both qubits at the end. Then, simulate the measurement results using QASM; the code is provided below.\n",
        "\n",
        "**Gates:**\n",
        "\n",
        "**X on qubit 0 (we can call this X0)**\n",
        "\n",
        "**H on qubit 0 (we can call this H0)**\n",
        "\n",
        "**H on qubit 1 (we can call this H1)**"
      ],
      "metadata": {
        "id": "8ieCZ2l8BmYO"
      },
      "id": "8ieCZ2l8BmYO"
    },
    {
      "cell_type": "code",
      "source": [],
      "metadata": {
        "id": "WYFYJ1cpBmYR"
      },
      "execution_count": null,
      "outputs": [],
      "id": "WYFYJ1cpBmYR"
    },
    {
      "cell_type": "markdown",
      "source": [
        "**Run the code below to simulate the measurement results using QASM.**"
      ],
      "metadata": {
        "id": "qiuXdLaCoB_7"
      },
      "id": "qiuXdLaCoB_7"
    },
    {
      "cell_type": "code",
      "source": [
        "# Simulate using QASM\n",
        "backend = Aer.get_backend('qasm_simulator')\n",
        "job = execute(qc, backend = backend, shots = 1024)  # Make sure you change \"qc\" to the name of your quantum circuit in this line!\n",
        "result = job.result()\n",
        "counts = result.get_counts()\n",
        "plot_histogram(counts)"
      ],
      "metadata": {
        "id": "o7gbzEZGBmYS"
      },
      "execution_count": null,
      "outputs": [],
      "id": "o7gbzEZGBmYS"
    },
    {
      "cell_type": "markdown",
      "metadata": {
        "jp-MarkdownHeadingCollapsed": true,
        "tags": [],
        "id": "xaS4N6Y4D-6a"
      },
      "source": [
        "## **Part 4: The CX Gate**\n",
        "---"
      ],
      "id": "xaS4N6Y4D-6a"
    },
    {
      "cell_type": "markdown",
      "source": [
        "#### **Exercise #1** \n",
        "\n",
        "**Together**, let's create and draw a 2-qubit/2-classical bit circuit with the CX gate applied such that qubit 0 is the control and qubit 1 is the target, with a measurement of both qubits at the end. Then, simulate the measurement results using QASM; the code is provided below. "
      ],
      "metadata": {
        "id": "IVoAH_LND-6a"
      },
      "id": "IVoAH_LND-6a"
    },
    {
      "cell_type": "code",
      "source": [
        "qc = QuantumCircuit(2, 2)\n",
        "\n",
        "# APPLY A CX GATE TO QUBITS 0 AND 1\n",
        "\n",
        "qc.measure([0, 1], [0, 1])\n",
        "\n",
        "qc.draw()"
      ],
      "metadata": {
        "id": "HyQe603zD-6b"
      },
      "execution_count": null,
      "outputs": [],
      "id": "HyQe603zD-6b"
    },
    {
      "cell_type": "markdown",
      "source": [
        "**Run the code below to simulate the measurement results using QASM.**"
      ],
      "metadata": {
        "id": "xb3l5e1noUBr"
      },
      "id": "xb3l5e1noUBr"
    },
    {
      "cell_type": "code",
      "source": [
        "# Simulate using QASM\n",
        "backend = Aer.get_backend('qasm_simulator')\n",
        "job = execute(qc, backend = backend, shots = 1024)  # Make sure you change \"qc\" to the name of your quantum circuit in this line!\n",
        "result = job.result()\n",
        "counts = result.get_counts()\n",
        "plot_histogram(counts)"
      ],
      "metadata": {
        "id": "7FIDwW5pD-6b"
      },
      "execution_count": null,
      "outputs": [],
      "id": "7FIDwW5pD-6b"
    },
    {
      "cell_type": "markdown",
      "source": [
        "#### **Exercise #2** \n",
        "\n",
        "**Together**, let's create and draw a 2-qubit/2-classical bit circuit with gates applied as given below, with a measurement of both qubits at the end. Then, simulate the measurement results using QASM; the code is provided below. \n",
        "\n",
        "**Gates**:\n",
        "\n",
        "**X on qubit 0**\n",
        "\n",
        "**CX with qubit 0 as the control and qubit 1 as the target**"
      ],
      "metadata": {
        "id": "y_nMHAGFEhRw"
      },
      "id": "y_nMHAGFEhRw"
    },
    {
      "cell_type": "code",
      "source": [
        "qc = QuantumCircuit(2, 2)\n",
        "\n",
        "# APPLY AN X GATE TO QUBIT 0\n",
        "# APPLY A CX GATE TO QUBITS 0 AND 1\n",
        "\n",
        "qc.measure([0, 1], [0, 1])\n",
        "\n",
        "qc.draw()"
      ],
      "metadata": {
        "id": "ANyfLhGCEhRw"
      },
      "execution_count": null,
      "outputs": [],
      "id": "ANyfLhGCEhRw"
    },
    {
      "cell_type": "markdown",
      "source": [
        "**Run the code below to simulate the measurement results using QASM.**"
      ],
      "metadata": {
        "id": "JWtLQnDloenI"
      },
      "id": "JWtLQnDloenI"
    },
    {
      "cell_type": "code",
      "source": [
        "# Simulate using QASM\n",
        "backend = Aer.get_backend('qasm_simulator')\n",
        "job = execute(qc, backend = backend, shots = 1024)  # Make sure you change \"qc\" to the name of your quantum circuit in this line!\n",
        "result = job.result()\n",
        "counts = result.get_counts()\n",
        "plot_histogram(counts)"
      ],
      "metadata": {
        "id": "YLL1zhhGEhRw"
      },
      "execution_count": null,
      "outputs": [],
      "id": "YLL1zhhGEhRw"
    },
    {
      "cell_type": "markdown",
      "source": [
        "#### **Exercise #3** \n",
        "\n",
        "**Together**, let's create and draw a 2-qubit/2-classical bit circuit with the CX gate applied such that now qubit 1 is the control and qubit 0 is the target, with a measurement of both qubits at the end. Then, simulate the measurement results using QASM; the code is provided below. "
      ],
      "metadata": {
        "id": "urlYp4XGEYy9"
      },
      "id": "urlYp4XGEYy9"
    },
    {
      "cell_type": "code",
      "source": [
        "qc = QuantumCircuit(2, 2)\n",
        "\n",
        "# APPLY A CX GATE WITH QUBITS 1 AND 0\n",
        "\n",
        "qc.measure([0, 1], [0, 1])\n",
        "\n",
        "qc.draw()"
      ],
      "metadata": {
        "id": "LdexUYtNEYy-"
      },
      "execution_count": null,
      "outputs": [],
      "id": "LdexUYtNEYy-"
    },
    {
      "cell_type": "markdown",
      "source": [
        "**Run the code below to simulate the measurement results using QASM.**"
      ],
      "metadata": {
        "id": "eKXB-6sboZ8E"
      },
      "id": "eKXB-6sboZ8E"
    },
    {
      "cell_type": "code",
      "source": [
        "# Simulate using QASM\n",
        "backend = Aer.get_backend('qasm_simulator')\n",
        "job = execute(qc, backend = backend, shots = 1024)  # Make sure you change \"qc\" to the name of your quantum circuit in this line!\n",
        "result = job.result()\n",
        "counts = result.get_counts()\n",
        "plot_histogram(counts)"
      ],
      "metadata": {
        "id": "7juf-ooUEYy_"
      },
      "execution_count": null,
      "outputs": [],
      "id": "7juf-ooUEYy_"
    },
    {
      "cell_type": "markdown",
      "source": [
        "#### **Exercise #4: Creating Superposition** \n",
        "\n",
        "Independently, create and draw a 2-qubit/2-classical bit circuit with gates applied as given below, with a measurement of both qubits at the end. We will end up creating superposition without entanglement in this circuit. Then, simulate the measurement results using QASM; the code is provided below. \n",
        "\n",
        "**Gates**:\n",
        "\n",
        "**CX with qubit 0 as the control and qubit 1 as the target**\n",
        "\n",
        "**H on qubit 1**"
      ],
      "metadata": {
        "id": "9NwvSA03E70g"
      },
      "id": "9NwvSA03E70g"
    },
    {
      "cell_type": "code",
      "source": [],
      "metadata": {
        "id": "EXne_jVfE70s"
      },
      "execution_count": null,
      "outputs": [],
      "id": "EXne_jVfE70s"
    },
    {
      "cell_type": "markdown",
      "source": [
        "**Run the code below to simulate the measurement results using QASM.**"
      ],
      "metadata": {
        "id": "nfV1zeElo9_H"
      },
      "id": "nfV1zeElo9_H"
    },
    {
      "cell_type": "code",
      "source": [
        "# Simulate using QASM\n",
        "backend = Aer.get_backend('qasm_simulator')\n",
        "job = execute(qc, backend = backend, shots = 1024)  # Make sure you change \"qc\" to the name of your quantum circuit in this line!\n",
        "result = job.result()\n",
        "counts = result.get_counts()\n",
        "plot_histogram(counts)"
      ],
      "metadata": {
        "id": "kovKqbTWE70s"
      },
      "execution_count": null,
      "outputs": [],
      "id": "kovKqbTWE70s"
    },
    {
      "cell_type": "markdown",
      "source": [
        "You should notice a roughly 50/50 split of the $| 00 \\rangle$ and $| 10 \\rangle$ states. The fact that we can get both of these states comes from the superposition we create with the H gate. However, there is no entanglement here, which is demonstrated by the fact that qubit 0 is always in the $| 0 \\rangle$ state regardless of what state qubit 1 is in."
      ],
      "metadata": {
        "id": "qlr9yUj4pE-j"
      },
      "id": "qlr9yUj4pE-j"
    },
    {
      "cell_type": "markdown",
      "source": [
        "#### **Exercise #5: Creating Entanglement** \n",
        "\n",
        "Independently, create and draw a 2-qubit/2-classical bit circuit with gates applied as given below, with a measurement of both qubits at the end. Here, you will end up creating your very first entangled state! Then, simulate the measurement results using QASM; the code is provided below. \n",
        "\n",
        "**Gates**:\n",
        "\n",
        "**H on qubit 0**\n",
        "\n",
        "**CX with qubit 0 as the control and qubit 1 as the target**"
      ],
      "metadata": {
        "id": "EuF-sOPuFKr1"
      },
      "id": "EuF-sOPuFKr1"
    },
    {
      "cell_type": "code",
      "source": [],
      "metadata": {
        "id": "yLFveHN3FKr2"
      },
      "execution_count": null,
      "outputs": [],
      "id": "yLFveHN3FKr2"
    },
    {
      "cell_type": "markdown",
      "source": [
        "**Run the code below to simulate the measurement results using QASM.**"
      ],
      "metadata": {
        "id": "_q-KvK3gpzPv"
      },
      "id": "_q-KvK3gpzPv"
    },
    {
      "cell_type": "code",
      "source": [
        "# Simulate using QASM\n",
        "backend = Aer.get_backend('qasm_simulator')\n",
        "job = execute(qc, backend = backend, shots = 1024)  # Make sure you change \"qc\" to the name of your quantum circuit in this line!\n",
        "result = job.result()\n",
        "counts = result.get_counts()\n",
        "plot_histogram(counts)"
      ],
      "metadata": {
        "id": "9sXWedlGFKr2"
      },
      "execution_count": null,
      "outputs": [],
      "id": "9sXWedlGFKr2"
    },
    {
      "cell_type": "markdown",
      "source": [
        "**CONGRATULATIONS, YOU JUST CREATED YOUR FIRST ENTANGLED STATE!**\n",
        "\n",
        "Notice that you can get different results out each time, so there is superposition. But no matter what, both qubits *must* be in the same state. The way that this relationship comes about is fundamentally quantum mechanical!"
      ],
      "metadata": {
        "id": "Eyaxa1PlFTrJ"
      },
      "id": "Eyaxa1PlFTrJ"
    },
    {
      "cell_type": "markdown",
      "source": [
        "#### **Exercise #6: Creating Entanglement II** \n",
        "\n",
        "Independently, create and draw a 2-qubit/2-classical bit circuit with gates applied as given below, with a measurement of both qubits at the end. Here, you will create entanglement and then begin to modify it by adjusting just one qubit. Then, simulate the measurement results using QASM; the code is provided below. \n",
        "\n",
        "**Gates**:\n",
        "\n",
        "**H on qubit 0**\n",
        "\n",
        "**CX with qubit 0 as the control and qubit 1 as the target**\n",
        "\n",
        "**X on qubit 1**"
      ],
      "metadata": {
        "id": "-Lw_f0yHFo4W"
      },
      "id": "-Lw_f0yHFo4W"
    },
    {
      "cell_type": "code",
      "source": [],
      "metadata": {
        "id": "PLWm_FJoFo4X"
      },
      "execution_count": null,
      "outputs": [],
      "id": "PLWm_FJoFo4X"
    },
    {
      "cell_type": "markdown",
      "source": [
        "**Run the code below to simulate the measurement results using QASM.**"
      ],
      "metadata": {
        "id": "DXXZZutaqJZH"
      },
      "id": "DXXZZutaqJZH"
    },
    {
      "cell_type": "code",
      "source": [
        "# Simulate using QASM\n",
        "backend = Aer.get_backend('qasm_simulator')\n",
        "job = execute(qc, backend = backend, shots = 1024)  # Make sure you change \"qc\" to the name of your quantum circuit in this line!\n",
        "result = job.result()\n",
        "counts = result.get_counts()\n",
        "plot_histogram(counts)"
      ],
      "metadata": {
        "id": "XnoYQhC7Fo4X"
      },
      "execution_count": null,
      "outputs": [],
      "id": "XnoYQhC7Fo4X"
    },
    {
      "cell_type": "markdown",
      "source": [
        "Now, we flip qubit 1 after entangling the bits. This means the qubits must always *disagree* with each other. This is another example of entanglement, where the states of both qubits fundamentally rely on one another."
      ],
      "metadata": {
        "id": "tJtD7DsiFo4Y"
      },
      "id": "tJtD7DsiFo4Y"
    },
    {
      "cell_type": "markdown",
      "source": [
        "---\n",
        "# © 2022 The Coding School, All rights reserved"
      ],
      "metadata": {
        "id": "hQJELyD6aeJ2"
      },
      "id": "hQJELyD6aeJ2"
    }
  ]
}