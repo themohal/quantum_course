{
  "cells": [
    {
      "cell_type": "markdown",
      "metadata": {
        "id": "j8A6KcP_Iem6"
      },
      "source": [
        "# **Lab 8: Quantum Key Distribution**\n",
        "---\n",
        "\n",
        "### **Description**\n",
        "In this week's lab, we will implement the Quantum Key Distribution protocol that we learned about in lecture: BB84. This notebook is divided into four parts:\n",
        "0. Imports\n",
        "1. Warm-up\n",
        "2. Quantum Key Distribution: BB84\n",
        "3. Eve Intercepts!\n",
        "\n",
        "<br>\n",
        "\n",
        "### **Cheat Sheets**\n",
        "\n",
        "[Qiskit](https://docs.google.com/document/d/1WKvv22SC7pA0TCqCJnxgZOf2tHjvTotaHYEtOx2FNkI/edit?usp=share_link)\n",
        "\n",
        "[Loops and Conditionals](https://docs.google.com/document/d/1DugvjFBqCvunzPQzPYJh7j_0uJNctHJj3HdYvrTRyq0/edit?usp=share_link)\n",
        "\n",
        "[Python Basics](https://docs.google.com/document/d/1EClH0n3VPTu17QUh55Y1BttkxHjTIAiC00xm4vHZ0Hc/edit?usp=share_link)\n",
        "\n",
        "---"
      ]
    },
    {
      "cell_type": "markdown",
      "source": [
        "## **Part 0: Imports**\n",
        "---\n",
        "\n",
        "**Run the code below before continuing.**"
      ],
      "metadata": {
        "id": "LfjolhVKORvy"
      }
    },
    {
      "cell_type": "code",
      "execution_count": null,
      "metadata": {
        "id": "Xyr-ayqpIenY"
      },
      "outputs": [],
      "source": [
        "from qiskit import QuantumCircuit, Aer, transpile, assemble, execute\n",
        "from qiskit.visualization import plot_histogram\n",
        "from numpy.random import randint # generate random numbers\n",
        "import numpy as np"
      ]
    },
    {
      "cell_type": "markdown",
      "metadata": {
        "id": "ih_uxw_0Ienl"
      },
      "source": [
        "## **Part 1: Warm-up**\n",
        "---\n",
        "\n",
        "Let's start by doing a few exercises that will help us write the code for QKD and understand what is happening throughout."
      ]
    },
    {
      "cell_type": "markdown",
      "metadata": {
        "id": "sJ-kN-eQzvzR"
      },
      "source": [
        "#### **Exercise #1** \n",
        "**Together**, \n",
        "1. Create a circuit with 1 qubit and 1 classical bit.\n",
        "2. Apply a Hadamard gate. This simulates Alice putting a qubit currently in the $| 0 \\rangle$ state into superposition.\n",
        "4. Make a measurement. This simulates Bob measuring the qubit without taking it out of superposition. He incorrectly guessed what Alice did for this bit.\n",
        "\n",
        "<br>\n",
        "\n",
        "**Then run the simulation code.**\n",
        "\n",
        "What is the probability of observing 0 or 1?"
      ]
    },
    {
      "cell_type": "code",
      "execution_count": null,
      "metadata": {
        "id": "aBmaHuaUzvzS"
      },
      "outputs": [],
      "source": [
        "qc = QuantumCircuit(1,1)\n",
        "\n",
        "# Alice putting |0> in superposition\n",
        "# ADD GATE HERE\n",
        "\n",
        "# Bob measuring without taking out of superposition\n",
        "qc.measure(0, 0)\n",
        "\n",
        "qc.draw()"
      ]
    },
    {
      "cell_type": "markdown",
      "source": [
        "**Run the code below to simulate the measurement results using QASM.**"
      ],
      "metadata": {
        "id": "czxYYM5s03QK"
      }
    },
    {
      "cell_type": "code",
      "source": [
        "backend = Aer.get_backend('qasm_simulator')\n",
        "job = execute(qc, backend = backend, shots = 1024)  # Make sure you change \"qc\" to the name of your quantum circuit in this line!\n",
        "result = job.result()\n",
        "counts = result.get_counts()\n",
        "plot_histogram(counts)"
      ],
      "metadata": {
        "id": "iuO7QT0bz4MF"
      },
      "execution_count": null,
      "outputs": []
    },
    {
      "cell_type": "markdown",
      "metadata": {
        "id": "l-i8yf5OIeoG"
      },
      "source": [
        "#### **Exercise #2** \n",
        "**Together**, \n",
        "1. Create a circuit with 1 qubit and 1 classical bit.\n",
        "2. Apply a Hadamard gate. This simulates Alice putting a qubit currently in the $| 0 \\rangle$ state into superposition.\n",
        "4. Apply another Hadamard gate and make a measurement. This simulates Bob taking the qubit out of superposition. He correctly guessed what Alice did for this bit.\n",
        "\n",
        "<br>\n",
        "\n",
        "**Then run the simulation code.**\n",
        "\n",
        "What is the probability of observing 0 or 1?"
      ]
    },
    {
      "cell_type": "code",
      "execution_count": null,
      "metadata": {
        "id": "JAVTB7VZIeoL"
      },
      "outputs": [],
      "source": [
        "qc = QuantumCircuit(1,1)\n",
        "\n",
        "# Alice putting |0> in superposition\n",
        "# ADD GATE HERE\n",
        "\n",
        "# Bob taking qubit out of superposition and measuring\n",
        "# ADD GATE HERE\n",
        "qc.measure(0, 0)\n",
        "\n",
        "\n",
        "qc.draw()"
      ]
    },
    {
      "cell_type": "markdown",
      "source": [
        "**Run the code below to simulate the measurement results using QASM.**"
      ],
      "metadata": {
        "id": "FpbM2x8w0-sh"
      }
    },
    {
      "cell_type": "code",
      "source": [
        "backend = Aer.get_backend('qasm_simulator')\n",
        "job = execute(qc, backend = backend, shots = 1024)  # Make sure you change \"qc\" to the name of your quantum circuit in this line!\n",
        "result = job.result()\n",
        "counts = result.get_counts()\n",
        "plot_histogram(counts)"
      ],
      "metadata": {
        "id": "T4WfPaVp0-si"
      },
      "execution_count": null,
      "outputs": []
    },
    {
      "cell_type": "markdown",
      "metadata": {
        "id": "why4BXCR14I9"
      },
      "source": [
        "#### **Exercise #3** \n",
        "**Independently**, \n",
        "1. Create a circuit with 1 qubit and 1 classical bit.\n",
        "2. Do nothing yet. This simulates Alice sending a qubit in the $| 0 \\rangle$ state.\n",
        "4. Apply a Hadamard gate and make a measurement. This simulates Bob taking the qubit out of superposition. He incorrectly guessed what Alice did for this bit.\n",
        "\n",
        "<br>\n",
        "\n",
        "**Then run the simulation code.**\n",
        "\n",
        "What is the probability of observing 0 or 1?"
      ]
    },
    {
      "cell_type": "code",
      "execution_count": null,
      "metadata": {
        "id": "xwB8mcLZ14JI"
      },
      "outputs": [],
      "source": [
        "qc = QuantumCircuit(1,1)\n",
        "\n",
        "# Alice \"sending\" a |0>\n",
        "\n",
        "\n",
        "# Bob incorrectly thinking that he's taking qubit out of superposition and measuring\n",
        "# ADD GATE HERE\n",
        "qc.measure(0, 0)\n",
        "\n",
        "\n",
        "qc.draw()"
      ]
    },
    {
      "cell_type": "markdown",
      "source": [
        "**Run the code below to simulate the measurement results using QASM.**"
      ],
      "metadata": {
        "id": "vwAmuSAM14JI"
      }
    },
    {
      "cell_type": "code",
      "source": [
        "backend = Aer.get_backend('qasm_simulator')\n",
        "job = execute(qc, backend = backend, shots = 1024)  # Make sure you change \"qc\" to the name of your quantum circuit in this line!\n",
        "result = job.result()\n",
        "counts = result.get_counts()\n",
        "plot_histogram(counts)"
      ],
      "metadata": {
        "id": "bmBT06AC14JI"
      },
      "execution_count": null,
      "outputs": []
    },
    {
      "cell_type": "markdown",
      "metadata": {
        "id": "GqheLo4H1HVl"
      },
      "source": [
        "#### **Exercise #4** \n",
        "**Independently**, \n",
        "1. Create a circuit with 1 qubit and 1 classical bit.\n",
        "2. Apply an X gate and a Hadamard gate. This simulates Alice putting a qubit currently in the $| 1 \\rangle$ state into superposition.\n",
        "4. Apply another Hadamard gate and make a measurement. This simulates Bob taking the qubit out of superposition.\n",
        "\n",
        "<br>\n",
        "\n",
        "**Then run the simulation code.**\n",
        "\n",
        "What is the probability of observing 0 or 1?"
      ]
    },
    {
      "cell_type": "code",
      "execution_count": null,
      "metadata": {
        "id": "sP2RnOQr1HVm"
      },
      "outputs": [],
      "source": []
    },
    {
      "cell_type": "markdown",
      "source": [
        "**Run the code below to simulate the measurement results using QASM.**"
      ],
      "metadata": {
        "id": "Jl8dFSzY1HVm"
      }
    },
    {
      "cell_type": "code",
      "source": [
        "backend = Aer.get_backend('qasm_simulator')\n",
        "job = execute(qc, backend = backend, shots = 1024)  # Make sure you change \"qc\" to the name of your quantum circuit in this line!\n",
        "result = job.result()\n",
        "counts = result.get_counts()\n",
        "plot_histogram(counts)"
      ],
      "metadata": {
        "id": "-66q4XyD1HVm"
      },
      "execution_count": null,
      "outputs": []
    },
    {
      "cell_type": "markdown",
      "source": [
        "#### **Exercise #5** \n",
        "**Together**, let us create a list of 5 single qubit/single classical bit circuits using a for loop where we apply an X gate to each qubit. This simulates Alice preparing and sending 5 qubits, each in the $| 1 \\rangle$ state, to Bob one at a time.\n",
        "\n",
        "\n",
        "<br>\n",
        "\n",
        "To confirm that we have created the circuits correctly, draw the 0th element of the list."
      ],
      "metadata": {
        "id": "WFz7-6gCHGKw"
      }
    },
    {
      "cell_type": "code",
      "source": [
        "circuit_list = [] #an empty list that we will append with circuits\n",
        "\n",
        "num_qubits = # COMPLETE THIS LINE\n",
        "for i in range(num_qubits):\n",
        "    qc = QuantumCircuit(# COMPLETE THIS LINE\n",
        "    # ADD GATE HERE\n",
        "\n",
        "    circuit_list.append(qc)"
      ],
      "metadata": {
        "id": "wzI7TE-TGzax"
      },
      "execution_count": null,
      "outputs": []
    },
    {
      "cell_type": "markdown",
      "source": [
        "Draw the 0th circuit"
      ],
      "metadata": {
        "id": "cfAPyJJH5b2p"
      }
    },
    {
      "cell_type": "code",
      "source": [
        "circuit_list[0].draw()"
      ],
      "metadata": {
        "id": "KCZNgo8r5b2p"
      },
      "execution_count": null,
      "outputs": []
    },
    {
      "cell_type": "markdown",
      "source": [
        "#### **Exercise #6** \n",
        "**Together**, let us create a list of 5 single qubit/single classical bit circuits. For each qubit, we will put it into superposition if `alice_choices` says 'NS' for that qubit.\n",
        "\n",
        "This simulates Alice preparing and sending 5 qubits, putting her chosen qubits in the $| + \\rangle$ state, to Bob one at a time.\n",
        "\n",
        "\n",
        "<br>\n",
        "\n",
        "To confirm that we have created the circuits correctly, draw the 0th and 1st element of the list."
      ],
      "metadata": {
        "id": "KGbA9a9e4AIu"
      }
    },
    {
      "cell_type": "code",
      "source": [
        "circuit_list = [] #an empty list that we will append with circuits\n",
        "alice_choices = ['NS', 'S', 'S', 'NS', 'S']\n",
        "\n",
        "num_qubits = 5\n",
        "for i in range(num_qubits):\n",
        "    qc = QuantumCircuit(1, 1)\n",
        "    \n",
        "    # Put this qubit into a superposition if Alice's choice is 'S'\n",
        "    if alice_choices[i] == 'S':\n",
        "      \n",
        "    # COMPLETE THIS CODE"
      ],
      "metadata": {
        "id": "FkXt4TM54AIu"
      },
      "execution_count": null,
      "outputs": []
    },
    {
      "cell_type": "markdown",
      "source": [
        "Draw the 0th circuit"
      ],
      "metadata": {
        "id": "NxBxHEf25U7n"
      }
    },
    {
      "cell_type": "code",
      "source": [
        "circuit_list[0].draw()"
      ],
      "metadata": {
        "id": "lmhfcc025RYi"
      },
      "execution_count": null,
      "outputs": []
    },
    {
      "cell_type": "markdown",
      "source": [
        "Draw the 1st circuit"
      ],
      "metadata": {
        "id": "937xFpq25XmH"
      }
    },
    {
      "cell_type": "code",
      "source": [
        "# Draw the 1st circuit\n",
        "circuit_list[1].draw()"
      ],
      "metadata": {
        "id": "gSUVZbCg5RtD"
      },
      "execution_count": null,
      "outputs": []
    },
    {
      "cell_type": "markdown",
      "metadata": {
        "id": "RWvBFDdEIeod"
      },
      "source": [
        "#### Summary \n",
        "We now know a few things: \n",
        "\n",
        "1. The Hadamard gate is used to create a superposition state\n",
        "$$ H|0\\rangle = | + \\rangle $$\n",
        "$$ H|1\\rangle = | - \\rangle $$\n",
        "\n",
        "\n",
        "2. The Hadamard gate can also be used to collapse a superposition state \n",
        "$$ H|+\\rangle = | 0 \\rangle $$\n",
        "$$ H|-\\rangle = | 1 \\rangle $$\n",
        "\n",
        "\n",
        "3. Alice will send her qubits to Bob one at a time, preparing each one with its own circuit. We can create and store all these circuits in a list using a for loop and conditionals.\n",
        "\n",
        "<br><br>\n",
        "\n",
        "**Technical Note:** When we apply an H gate right before measuring, we can actually say that we are measuring in a different basis- the Hadamard basis. It turns out that applying an H gate is the same as if we just rotated our view of the Bloch sphere so the x-axis were pointing up and down. For this reason, we also call this the X Basis. You are not responsible for knowing this, but it is worth being aware of since a lot of the discussion about QKD involves bases.\n",
        "\n",
        "The most important thing for you to know is that when someone says that Alice or Bob measures a certain qubit:\n",
        "* \"in the Z basis\", this is exactly the same as saying Alice or Bob chooses to not put this qubit in superposition.\n",
        "* \"in the X basis\", this is exactly the same as saying Alice or Bob chooses to put this qubit in superposition."
      ]
    },
    {
      "cell_type": "markdown",
      "metadata": {
        "id": "Nja6__lIIeof"
      },
      "source": [
        "## **Part 2: Quantum Key Distribution (BB84)**\n",
        "---\n",
        "\n",
        "Let's implement QKD! \n",
        "\n",
        "Specifically, we will write code that simulates the QKD protocol between Alice and Bob such that:\n",
        "\n",
        "* The initial key Alice wants to share with Bob is 5 bits long and is represented by the list `alice_bits`.\n",
        "\n",
        "* Alice sends 5 qubits to Bob, each represented with its own circuit.\n",
        "\n",
        "* We represent Alice's choices about whether to put each qubit into superposition or not using a list where `alice_choices[i] = 'NS'` if she chooses not to put qubit i into superposition and `alice_choices[i] = 'S'` if she does choose to put qubit in into superposition.\n",
        "\n",
        "* We represent Bob's choices in a similar way: `bob_choices[i] = 'NS'` or `bob_choices[i] = 'S'`."
      ]
    },
    {
      "cell_type": "markdown",
      "metadata": {
        "id": "PQxBV-laIeol"
      },
      "source": [
        "#### **Step #1: Alice chooses the bits for her key** \n",
        "**Together**, let's modify the following list to represent the 5 bits chosen by Alice to represent the key. Specifically, let's assume she chooses the key: 0 1 1 0 0."
      ]
    },
    {
      "cell_type": "code",
      "execution_count": null,
      "metadata": {
        "id": "NvPhF6_xIeon"
      },
      "outputs": [],
      "source": [
        "alice_bits = []"
      ]
    },
    {
      "cell_type": "markdown",
      "metadata": {
        "id": "7Ci33n0uIeop"
      },
      "source": [
        "#### **Step #2: Alice chooses bits to put in superposition**\n",
        "Modify the following list to represent choices for Alice. Specifically, let's assume she chooses:\n",
        "\n",
        "* qubits 0, 1, and 3 are not in superposition\n",
        "* qubits 2 and 4 are in superposition"
      ]
    },
    {
      "cell_type": "code",
      "execution_count": null,
      "metadata": {
        "id": "0YENiVyPIeor"
      },
      "outputs": [],
      "source": [
        "alice_choices = []"
      ]
    },
    {
      "cell_type": "markdown",
      "metadata": {
        "id": "aGuq9P9LIeou"
      },
      "source": [
        "#### **Step #3: Alice encodes bits and sends it them Bob**\n",
        "Create a list called `encoded_qubits` of circuits with one qubit and one classical bit each representing Alice's qubits. Some starter code has been given for you. Use the following rules to fill in the code rest:\n",
        "\n",
        "* If `alice_bits[i] == 0`, do nothing. \n",
        "\n",
        "* If `alice_bits[i] == 1`, apply an X gate.\n",
        "\n",
        "* If `alice_choices[i] == 'NS'`, do nothing ('NS' = no superposition).\n",
        "\n",
        "* If `alice_choices[i] == 'S'`, put the qubit in a superposition ('S' = superpostion)."
      ]
    },
    {
      "cell_type": "code",
      "execution_count": null,
      "metadata": {
        "id": "h8UbWduvIeox"
      },
      "outputs": [],
      "source": [
        "encoded_qubits = [] #an empty list that we will append with circuits\n",
        "\n",
        "for q in range(len(alice_bits)):\n",
        "    qc = QuantumCircuit(1, 1)\n",
        "    \n",
        "    # If this bit of the key is 1, \n",
        "    # then put the qubit into the |1> state\n",
        "    if alice_bits[q] == 1:\n",
        "        # COMPLETE THIS LINE\n",
        "\n",
        "    # If Alice chooses to put this qubit into superposition, \n",
        "    # then apply the H gate to do so\n",
        "    if alice_choices[q]=='S':\n",
        "        # COMPLETE THIS LINE\n",
        "\n",
        "    encoded_qubits.append(qc)"
      ]
    },
    {
      "cell_type": "markdown",
      "metadata": {
        "id": "iFKiQTWqIeoz"
      },
      "source": [
        "Draw the 0th (index = 0) circuit in the list to make sure you are applying the right sequence of gates. "
      ]
    },
    {
      "cell_type": "code",
      "execution_count": null,
      "metadata": {
        "id": "TAzBkd5EIeo9"
      },
      "outputs": [],
      "source": [
        "encoded_qubits[0].draw()"
      ]
    },
    {
      "cell_type": "markdown",
      "metadata": {
        "id": "FQ1_KlhL9ibC"
      },
      "source": [
        "Draw the 2nd (index = 2) circuit in the list to make sure you are applying the right sequence of gates. "
      ]
    },
    {
      "cell_type": "code",
      "execution_count": null,
      "metadata": {
        "id": "l95CQzc-9ibL"
      },
      "outputs": [],
      "source": [
        "encoded_qubits[2].draw()"
      ]
    },
    {
      "cell_type": "markdown",
      "source": [
        "---\n",
        "<center>\n",
        "\n",
        "#### **Now, Alice \"sends\" her qubits to Bob**\n",
        "\n",
        "</center>\n",
        "\n",
        "---"
      ],
      "metadata": {
        "id": "6HHbGwe890CL"
      }
    },
    {
      "cell_type": "markdown",
      "metadata": {
        "id": "MBEU6Tgq-b8T"
      },
      "source": [
        "#### **Step #4: Bob tries to guess Alice's choices**\n",
        "Modify the following list to represent choices for Bob. Specifically, let's assume he chooses:\n",
        "\n",
        "* qubits 1 - 3 are not in superposition\n",
        "* qubits 0 and 4 are in superposition"
      ]
    },
    {
      "cell_type": "code",
      "execution_count": null,
      "metadata": {
        "id": "GMAwxlX4-b8c"
      },
      "outputs": [],
      "source": [
        "bob_choices = []"
      ]
    },
    {
      "cell_type": "markdown",
      "metadata": {
        "id": "bwJrVFSTIepN"
      },
      "source": [
        "#### **Step #5: Bob applies his choices and measures the encoded qubits**\n",
        "\n",
        "Modify the `encoded_qubits` list to apply Bob's choices and measure each qubit. Some starter code has been given for you. Use the following instructions to fill in the rest:\n",
        "\n",
        "* If `bob_choices[i] == 'S'`, apply an H gate to try to take the qubit out of superposition before measuring.\n",
        "\n",
        "* No matter what his choice is, measure each qubit.\n",
        "\n",
        "\n",
        "<br>\n",
        "\n",
        "**Run the provided code to store the measurement results for each circuit in a list called `bob_bits`.**"
      ]
    },
    {
      "cell_type": "code",
      "execution_count": null,
      "metadata": {
        "id": "RNE9CiE5IepQ"
      },
      "outputs": [],
      "source": [
        "for q in range(len(bob_choices)):\n",
        "\n",
        "    # COMPLETE THIS CODE\n",
        "\n",
        "    encoded_qubits[q].measure(0,0)"
      ]
    },
    {
      "cell_type": "markdown",
      "metadata": {
        "id": "Avq1jBr0_3gf"
      },
      "source": [
        "Draw the 0th circuit in the list to make sure you are applying the right sequence of gates. "
      ]
    },
    {
      "cell_type": "code",
      "execution_count": null,
      "metadata": {
        "id": "xVKwPg4B_3gg"
      },
      "outputs": [],
      "source": [
        "encoded_qubits[0].draw()"
      ]
    },
    {
      "cell_type": "markdown",
      "source": [
        "**Run the code below to simulate the measurement results using QASM and store the results in the list `bob_bits`.**"
      ],
      "metadata": {
        "id": "7tCAtgHQApuH"
      }
    },
    {
      "cell_type": "code",
      "source": [
        "bob_bits = []\n",
        "\n",
        "backend = Aer.get_backend('qasm_simulator')\n",
        "\n",
        "for q in range(len(encoded_qubits)):\n",
        "\n",
        "  job = execute(encoded_qubits[q], backend = backend, shots = 1, memory = True)\n",
        "  result = job.result()\n",
        "  measured_bit = int(result.get_memory()[0])\n",
        "\n",
        "  bob_bits.append(measured_bit)\n",
        "\n",
        "print(bob_bits)"
      ],
      "metadata": {
        "id": "vVld1lbuApuI"
      },
      "execution_count": null,
      "outputs": []
    },
    {
      "cell_type": "markdown",
      "source": [
        "---\n",
        "<center>\n",
        "\n",
        "#### **Now, Alice \"calls\" Bob and they compare their choices for superposition bits**\n",
        "\n",
        "</center>\n",
        "\n",
        "---"
      ],
      "metadata": {
        "id": "pDIgJbVpCo0k"
      }
    },
    {
      "cell_type": "markdown",
      "metadata": {
        "id": "5SztCmnjIepa"
      },
      "source": [
        "#### **Step #6: Alice and Bob compare notes and create their keys**\n",
        "\n",
        "**Together**, let's compare Alice's and Bob's choices for superposition bits and create a key for Alice based on this."
      ]
    },
    {
      "cell_type": "code",
      "execution_count": null,
      "metadata": {
        "id": "aUEJC-LNIepc"
      },
      "outputs": [],
      "source": [
        "alice_key = []\n",
        "\n",
        "for q in range(len(encoded_qubits)):\n",
        "    if # COMPLETE THIS LINE\n",
        "        # COMPLETE THIS LINE"
      ]
    },
    {
      "cell_type": "markdown",
      "metadata": {
        "id": "Fih5ffv9Iepf"
      },
      "source": [
        "**Independently**, compare Alice's and Bob's choices for superposition bits and create a key for Bob based on this."
      ]
    },
    {
      "cell_type": "code",
      "execution_count": null,
      "metadata": {
        "id": "ttC-522hIepf"
      },
      "outputs": [],
      "source": [
        "bob_key = []\n",
        "\n",
        "# COMPLETE THIS CODE"
      ]
    },
    {
      "cell_type": "markdown",
      "metadata": {
        "id": "lVUxALL7Ieph"
      },
      "source": [
        "#### **Step #7: Creation of the shared key**\n",
        "\n",
        "Now that Alice and Bob have discarded the bits where their choices were not the same, the remaining bits form a shared key. To verify that the Eve did not intercept and the protocol is secure, they share a chosen sample of their key. \n",
        "\n",
        "1. If they find that the shared sample from both Alice and Bob  has matched, they discard these bits and use the rest of the shared key. \n",
        "\n",
        "2. If they find out that the shared sample does not match, they know that they have an intruder! They would need to start the process all over again.\n",
        "\n",
        "<br>\n",
        "\n",
        "**Together**, let's implement this as follows:\n",
        "* Alice and Bob compare the 0th bit of their keys.\n",
        "* If these bits are the same, then print \"Secure, let's use this key without the 0th bit:\" and the key itself. \n",
        "* If these bits are different, then print \"Eve detected! Let's use another quantum channel.\""
      ]
    },
    {
      "cell_type": "code",
      "execution_count": null,
      "metadata": {
        "id": "JKtw3E9EIepk"
      },
      "outputs": [],
      "source": [
        "if # COMPLETE THIS LINE\n",
        "  print(\"SECURE! Let's use this key without the 0th bit: \" + str(alice_key))\n",
        "else:\n",
        "  # COMPLETE THIS LINE"
      ]
    },
    {
      "cell_type": "markdown",
      "source": [
        "---\n",
        "<center>\n",
        "\n",
        "#### **Congratulations, you've just coded and run the QKD BB84 Protocol!**\n",
        "\n",
        "</center>\n",
        "\n",
        "---"
      ],
      "metadata": {
        "id": "JFoKBWJhE0rl"
      }
    },
    {
      "cell_type": "markdown",
      "metadata": {
        "id": "oNL7JTevIepl"
      },
      "source": [
        "## **Part 3: Eve Intercepts!**\n",
        "After **Step 3**, suppose Eve intercepts the (encoded) message that Alice has sent. Eve measures the qubits in the same way Bob would do in **Step 4** and **Step 5**.\n",
        "\n",
        "In the space below, we have provided the full code for the protocol developed above, but with the option to specify qubits that Eve measures.\n",
        "\n",
        "<br>\n",
        "\n",
        "**Run this code below (several times) to see if Alice and Bob detect Eve.**"
      ]
    },
    {
      "cell_type": "code",
      "source": [
        "# Just for printing nicely :)\n",
        "line = \"\\n\\n==================================================================\\n\"\n",
        "\n",
        "#=================================================\n",
        "# ALICE PREPARES HER QUBITS AND SENDS THEM TO BOB\n",
        "#=================================================\n",
        "\n",
        "\n",
        "# STEPS 1 - 2\n",
        "#=============\n",
        "alice_bits = [0, 1, 1, 0, 0]\n",
        "alice_choices = ['NS', 'NS', 'S', 'NS', 'S']\n",
        "\n",
        "\n",
        "# STEP 3\n",
        "#========\n",
        "encoded_qubits = [] #an empty list that we will append with circuits\n",
        "\n",
        "for q in range(len(alice_bits)):\n",
        "    qc = QuantumCircuit(1, 1)\n",
        "    \n",
        "    # If this bit of the key is 1, \n",
        "    # then put the qubit into the |1> state\n",
        "    if alice_bits[q] == 1:\n",
        "        qc.x(0)\n",
        "\n",
        "    # If Alice chooses to put this qubit into superposition, \n",
        "    # then apply the H gate to do so\n",
        "    if alice_choices[q]=='S':\n",
        "        qc.h(0)\n",
        "\n",
        "    encoded_qubits.append(qc)\n",
        "\n",
        "print(\"Alice created the key: \" + str(alice_bits))\n",
        "print(\"She made the following choices: \" + str(alice_choices))\n",
        "print(\"Now, Alice 'sends' her qubits to Bob\", end = line)\n",
        "\n",
        "#===================\n",
        "# EVE INTERCEPTS!\n",
        "#===================\n",
        "\n",
        "print(\"EVE INTERCEPTS!\")\n",
        "\n",
        "\n",
        "# EVE FOLLOWS STEP 4\n",
        "#===================\n",
        "for q in range(len(encoded_qubits)):\n",
        "    encoded_qubits[q].measure(0,0)\n",
        "\n",
        "\n",
        "# EVE FOLLOWS STEP 5\n",
        "#===================\n",
        "eve_bits = []\n",
        "\n",
        "backend = Aer.get_backend('qasm_simulator')\n",
        "\n",
        "for q in range(len(encoded_qubits)):\n",
        "\n",
        "  job = execute(encoded_qubits[q], backend = backend, shots = 1, memory = True)\n",
        "  result = job.result()\n",
        "  measured_bit = int(result.get_memory()[0])\n",
        "\n",
        "  eve_bits.append(measured_bit)\n",
        "\n",
        "print(\"Eve measured: \" + str(eve_bits), end = line)\n",
        "\n",
        "\n",
        "# NOTE: Qiskit does not recognize multiple measurements on the same qubit. So,\n",
        "# EVE MUST PREPARE NEW QUBITS TO BE SENT BASED ON HER MEASUREMENTS\n",
        "#==================================================================\n",
        "encoded_qubits = [] #an empty list that we will append with circuits\n",
        "\n",
        "for q in range(len(eve_bits)):\n",
        "    qc = QuantumCircuit(1, 1)\n",
        "    \n",
        "    # If this bit of the key is 1, \n",
        "    # then put the qubit into the |1> state\n",
        "    if eve_bits[q] == 1:\n",
        "        qc.x(0)\n",
        "\n",
        "    encoded_qubits.append(qc)\n",
        "\n",
        "\n",
        "\n",
        "#========================================================\n",
        "# BOB RECEIVES THE QUBITS, UNAWARE OF EVE'S INTERCEPTION\n",
        "#========================================================\n",
        "\n",
        "# BOB FOLLOWS STEP 4\n",
        "#===================\n",
        "bob_choices = ['S', 'NS', 'NS', 'NS', 'S']\n",
        "\n",
        "for q in range(len(bob_choices)):\n",
        "\n",
        "    if bob_choices[q] == 'S':\n",
        "        encoded_qubits[q].h(0)\n",
        "\n",
        "    encoded_qubits[q].measure(0,0)\n",
        "\n",
        "\n",
        "# BOB FOLLOWS STEP 5\n",
        "#===================\n",
        "bob_bits = []\n",
        "\n",
        "backend = Aer.get_backend('qasm_simulator')\n",
        "\n",
        "for q in range(len(encoded_qubits)):\n",
        "\n",
        "  job = execute(encoded_qubits[q], backend = backend, shots = 1, memory = True)\n",
        "  result = job.result()\n",
        "  measured_bit = int(result.get_memory()[0])\n",
        "\n",
        "  bob_bits.append(measured_bit)\n",
        "\n",
        "print(\"Bob made the following choices before measuring: \" + str(bob_choices))\n",
        "print(\"He measured: \" + str(bob_bits), end = line)\n",
        "\n",
        "\n",
        "#=============================================================================\n",
        "# NOW, ALICE \"CALLS\" BOB AND THEY COMPARE THEIR CHOICES FOR SUPERPOSITION BITS\n",
        "#=============================================================================\n",
        "\n",
        "# STEP 6\n",
        "#========\n",
        "alice_key = []\n",
        "\n",
        "for q in range(len(encoded_qubits)):\n",
        "    if alice_choices[q] == bob_choices[q]:\n",
        "        alice_key.append(alice_bits[i])\n",
        "        \n",
        "        \n",
        "bob_key = []\n",
        "\n",
        "for q in range(len(encoded_qubits)):\n",
        "    if alice_choices[q] == bob_choices[q]:\n",
        "       bob_key.append(bob_bits[i])\n",
        "       \n",
        "\n",
        "# STEP 7\n",
        "#========\n",
        "print(\"Alice calls Bob and they compare their choices for superposition bits\")\n",
        "print(\"Based on this, Alice says:\")\n",
        "\n",
        "if alice_key[0] == bob_key[0]:\n",
        "  print(\"SECURE! Let's use this key without the 0th bit: \" + str(alice_key))\n",
        "else:\n",
        "  print(\"EVE DETECTED! Let's use another quantum channel.\")"
      ],
      "metadata": {
        "id": "yAwKCwf-kCu3"
      },
      "execution_count": null,
      "outputs": []
    },
    {
      "cell_type": "markdown",
      "source": [
        "# End of Notebook\n",
        "---\n",
        "© 2022 The Coding School, All rights reserved"
      ],
      "metadata": {
        "id": "KR_ocbIpPBEe"
      }
    }
  ],
  "metadata": {
    "kernelspec": {
      "display_name": "Python 3.10.4 ('iq_boc')",
      "language": "python",
      "name": "python3"
    },
    "language_info": {
      "codemirror_mode": {
        "name": "ipython",
        "version": 3
      },
      "file_extension": ".py",
      "mimetype": "text/x-python",
      "name": "python",
      "nbconvert_exporter": "python",
      "pygments_lexer": "ipython3",
      "version": "3.10.4"
    },
    "orig_nbformat": 4,
    "vscode": {
      "interpreter": {
        "hash": "126062b27eb2cf3ff58df7720bf537d7a550450b2456b0d104b3178d96c45002"
      }
    },
    "colab": {
      "provenance": [],
      "collapsed_sections": []
    }
  },
  "nbformat": 4,
  "nbformat_minor": 0
}