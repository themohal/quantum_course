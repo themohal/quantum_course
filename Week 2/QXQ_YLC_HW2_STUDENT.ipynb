{
  "nbformat": 4,
  "nbformat_minor": 0,
  "metadata": {
    "colab": {
      "provenance": [],
      "collapsed_sections": [
        "XEII7aALXP4q",
        "F91f5ZDuVo_g",
        "2BJz9-uvVpGi",
        "DYUKOJHZVpUR",
        "WdBTuDMiVpY0",
        "ECGof-SAVpeE",
        "LC33VVwdWCk5",
        "Q4ODMtwSWCk5",
        "MgDIZz52WCk6",
        "X2nI-hL8WCk6",
        "3SoiyxROWCk6",
        "7ibIwi7hde3d",
        "HAiEbDgzeRNB",
        "aBT5kcMXejxi",
        "xY54dbQKfJ0H",
        "yxC5vdLkfaiA",
        "XpYVxnaSftfi",
        "p1HTQGRwi7nt",
        "A0ljpx5-j1Bo",
        "n-OmBy6v8o-c",
        "3NKMjhAphyeZ"
      ]
    },
    "kernelspec": {
      "name": "python3",
      "display_name": "Python 3"
    },
    "language_info": {
      "name": "python"
    }
  },
  "cells": [
    {
      "cell_type": "markdown",
      "source": [
        "# Homework: Week #2 \n",
        "---\n",
        "This week's homework is a chance to continue honing your python skills.\n",
        "\n",
        "You can find the syntax cheat sheet [here](https://docs.google.com/document/d/1NGD5FUzchMfVLKOAkhsUPQnaYh0dEoRVtr_A1j75jtY/edit?usp=sharing).\n",
        "\n",
        "---"
      ],
      "metadata": {
        "id": "ExUXGU-CzEXO"
      }
    },
    {
      "cell_type": "markdown",
      "source": [
        "#### **Exercise #1:** Create a variable named `welcome_message` and store the string \"Welcome to class!\" in it. Then print this variable."
      ],
      "metadata": {
        "id": "XEII7aALXP4q"
      }
    },
    {
      "cell_type": "code",
      "source": [],
      "metadata": {
        "id": "s40j8v7-YENe"
      },
      "execution_count": null,
      "outputs": []
    },
    {
      "cell_type": "markdown",
      "source": [
        "#### **Exercise #2:** For each of the variable declarations below, say whether the name would be accepted by python or not. NOTE: You can change the text here by double clicking this cell.\n",
        "\n",
        "a. var_var_binks\n",
        "\n",
        "b. 3_musketeers\n",
        "\n",
        "c. puncuation_marks\n",
        "\n",
        "d. exclamation!marks\n",
        "\n",
        "e. thirty3\n",
        "\n",
        "f. print\n",
        "\n",
        "g. quantumSuperposition"
      ],
      "metadata": {
        "id": "F91f5ZDuVo_g"
      }
    },
    {
      "cell_type": "markdown",
      "source": [
        "#### **Exercise #3:** \n",
        "\n",
        "\n",
        "You start walking to your friend's house, which is 20 minutes away, but realize half way there that you forgot something. So, you walk back to your home and then go to your friend's house.\n",
        "\n",
        "Complete the code below to calculate how long your total trip takes and print out the sentence, \"It took me [total time of trip] minutes to get here!\"."
      ],
      "metadata": {
        "id": "2BJz9-uvVpGi"
      }
    },
    {
      "cell_type": "code",
      "source": [
        "time_to_friend =\n",
        "\n",
        "total_ time =\n",
        "\n",
        "print(\"It took me \" + )"
      ],
      "metadata": {
        "id": "zKBqE7txVpGj"
      },
      "execution_count": null,
      "outputs": []
    },
    {
      "cell_type": "markdown",
      "source": [
        "#### **Exercise #4:** Your favorite musician just released a new album! It is 38 minutes long and has an average song length of 3.7 minutes.\n",
        "\n",
        "Complete the code below to determine and print the number of songs in this album."
      ],
      "metadata": {
        "id": "DYUKOJHZVpUR"
      }
    },
    {
      "cell_type": "code",
      "source": [
        "album_length =\n",
        "avg_song_length = \n",
        "\n",
        "num_songs =\n",
        "\n",
        "print()"
      ],
      "metadata": {
        "id": "xGoQRePRVpUS"
      },
      "execution_count": null,
      "outputs": []
    },
    {
      "cell_type": "markdown",
      "source": [
        "#### **Exercise #5:** You want to buy new clothes, on a budget of course! You have a budget of \\\\$100 and end up buying 3 shirts for \\\\$11 each, 4 pairs of socks for \\\\$2.57 each, and 1 pair of pants for \\\\$15.99. \n",
        "\n",
        "Complete the code below to calculate the difference between your budget and what you spent."
      ],
      "metadata": {
        "id": "WdBTuDMiVpY0"
      }
    },
    {
      "cell_type": "code",
      "source": [
        "budget = \n",
        "\n",
        "num_shirts =\n",
        "cost_per_shirt =\n",
        "num_socks =\n",
        "cost_per_socks =\n",
        "num_pants =\n",
        "cost_per_pants =\n",
        "\n",
        "total =\n",
        "\n",
        "print()"
      ],
      "metadata": {
        "id": "Ep8m4nkcVpY1"
      },
      "execution_count": null,
      "outputs": []
    },
    {
      "cell_type": "markdown",
      "source": [
        "#### **Exercise #6:** Copy your answer from above into the cell below. Now, modify this code to determine and print how many more socks you can get while staying under budget."
      ],
      "metadata": {
        "id": "ECGof-SAVpeE"
      }
    },
    {
      "cell_type": "code",
      "source": [],
      "metadata": {
        "id": "8YdbmqUFVpeF"
      },
      "execution_count": null,
      "outputs": []
    },
    {
      "cell_type": "markdown",
      "source": [
        "#### **Exercise #7:** Find the errors in the code below and fix them so that it can run properly."
      ],
      "metadata": {
        "id": "LC33VVwdWCk5"
      }
    },
    {
      "cell_type": "code",
      "source": [
        "peaches = 4\n",
        "#persimmons = 2\n",
        "\n",
        "fruits = peaches + #persimmons\n",
        "\n",
        "print fruits"
      ],
      "metadata": {
        "id": "f-iCLhA-WCk5"
      },
      "execution_count": null,
      "outputs": []
    },
    {
      "cell_type": "markdown",
      "source": [
        "#### **Exercise #8:** Find and correct the errors in the code below."
      ],
      "metadata": {
        "id": "Q4ODMtwSWCk5"
      }
    },
    {
      "cell_type": "code",
      "source": [
        "Print(\"HelloWorld\"!)"
      ],
      "metadata": {
        "id": "eSNOO8jRWCk5"
      },
      "execution_count": null,
      "outputs": []
    },
    {
      "cell_type": "markdown",
      "source": [
        "#### **Exercise #9:** Find and fix the errors in the code below."
      ],
      "metadata": {
        "id": "MgDIZz52WCk6"
      }
    },
    {
      "cell_type": "code",
      "source": [
        "books = \"4\"\n",
        "pages_total == 1001\n",
        "\n",
        "average_book_length = pages_total * books\n",
        "print(average_book_length)"
      ],
      "metadata": {
        "id": "yNSHYmDWWCk6"
      },
      "execution_count": null,
      "outputs": []
    },
    {
      "cell_type": "markdown",
      "source": [
        "#### **Exercise #10:** Comment out lines below so that the message \"Welcome to week 2 of Quantum Computing\" is printed."
      ],
      "metadata": {
        "id": "X2nI-hL8WCk6"
      }
    },
    {
      "cell_type": "code",
      "source": [
        "course = \"Quantum Computing\"\n",
        "\n",
        "print(\"Welcome\")\n",
        "print(\"to week\")\n",
        "print(1)\n",
        "print(4)\n",
        "print(2)\n",
        "print(3)\n",
        "print(\"off\")\n",
        "print(\"of\")\n",
        "print(\"off\")\n",
        "print(\"Classical\")\n",
        "print(course)\n",
        "print(\"Computing\")"
      ],
      "metadata": {
        "id": "V4cHNpXbWCk6"
      },
      "execution_count": null,
      "outputs": []
    },
    {
      "cell_type": "markdown",
      "source": [
        "#### **Exercise #11:** The code below is fully written and working as intended. But, it needs comments explaining what it is doing! Write one sentence in each blank comment explaining the code beneath it. The first comment is already completed for you. NOTE: there are many correct answers to this problem! Just make your comments are brief and helpful."
      ],
      "metadata": {
        "id": "3SoiyxROWCk6"
      }
    },
    {
      "cell_type": "code",
      "source": [
        "# set my age and my friend's age\n",
        "my_age = 30\n",
        "friends_age = 34\n",
        "\n",
        "# FILL THIS IN\n",
        "my_age = my_age * 12\n",
        "friends_age = friends_age * 12\n",
        "\n",
        "# FILL THIS IN\n",
        "diff = friends_age - my_age\n",
        "print(diff)"
      ],
      "metadata": {
        "id": "w6iVQGm_WCk6"
      },
      "execution_count": null,
      "outputs": []
    },
    {
      "cell_type": "markdown",
      "source": [
        "#### **Exercise #12:** Complete the function below so that it multiplies the two arguments and prints \"Those multiply together to be [result of multiplication]\". "
      ],
      "metadata": {
        "id": "7ibIwi7hde3d"
      }
    },
    {
      "cell_type": "code",
      "source": [
        "def mult(num1, num2):\n",
        "\n",
        "  m = # Write this line of code\n",
        "   \n",
        "  # print out the result"
      ],
      "metadata": {
        "id": "7bWi38HUde3e"
      },
      "execution_count": null,
      "outputs": []
    },
    {
      "cell_type": "markdown",
      "source": [
        "#### **Exercise #13:** Complete the function below so that it returns the result of checking if the argument is equal to 10."
      ],
      "metadata": {
        "id": "HAiEbDgzeRNB"
      }
    },
    {
      "cell_type": "code",
      "source": [
        "def equals_10(num):\n",
        "  "
      ],
      "metadata": {
        "id": "6lSQ-w6EeRNB"
      },
      "execution_count": null,
      "outputs": []
    },
    {
      "cell_type": "markdown",
      "source": [
        "#### **Exercise #14:** Complete the function below so that it prints out the two arguments (`name1` and `name2`) on their own lines and returns the string \"Welcome, [name 1] and [name 2]\"."
      ],
      "metadata": {
        "id": "aBT5kcMXejxi"
      }
    },
    {
      "cell_type": "code",
      "source": [
        "def welcome(name1, name2):\n",
        "\n",
        "  # print arguments on separate lines\n",
        "\n",
        "  # return welcome message"
      ],
      "metadata": {
        "id": "DFzvvMzdejxj"
      },
      "execution_count": null,
      "outputs": []
    },
    {
      "cell_type": "markdown",
      "source": [
        "#### **Exercise #15:** Print the 0th element of the list below."
      ],
      "metadata": {
        "id": "xY54dbQKfJ0H"
      }
    },
    {
      "cell_type": "code",
      "source": [
        "my_list = [\"apples\", \"pears\", \"bananas\"]\n"
      ],
      "metadata": {
        "id": "4iXIaUAIfJ0R"
      },
      "execution_count": null,
      "outputs": []
    },
    {
      "cell_type": "markdown",
      "source": [
        "#### **Exercise #16:** Multiply the elements of the list below and print the result."
      ],
      "metadata": {
        "id": "yxC5vdLkfaiA"
      }
    },
    {
      "cell_type": "code",
      "source": [
        "my_list = [-0.5, 1000, -2]\n"
      ],
      "metadata": {
        "id": "dWGcbfu6faiB"
      },
      "execution_count": null,
      "outputs": []
    },
    {
      "cell_type": "markdown",
      "source": [
        "#### **Exercise #17:** Modify the list below so that it looks like: [1, 2, 3, 4]."
      ],
      "metadata": {
        "id": "XpYVxnaSftfi"
      }
    },
    {
      "cell_type": "code",
      "source": [
        "my_list = [0, 1, 2, 5]\n"
      ],
      "metadata": {
        "id": "xnByWbV8ftfj"
      },
      "execution_count": null,
      "outputs": []
    },
    {
      "cell_type": "markdown",
      "source": [
        "#### **Exercise #18:** You're going to the grocery store and want to use python to store your grocery list. You realize that you already have cereal and milk, but need bread and cheese. *Replace* \"cereal\" and \"milk\" with \"bread\" and \"cheese\" in the list below. Print the updated list."
      ],
      "metadata": {
        "id": "i8BPMyQ8gRYt"
      }
    },
    {
      "cell_type": "code",
      "source": [
        "grocery_list = [\"apples\", \"bananas\", \"cereal\", \"milk\", \"flour\"]\n"
      ],
      "metadata": {
        "id": "AaTw1oMvgRYt"
      },
      "execution_count": null,
      "outputs": []
    },
    {
      "cell_type": "markdown",
      "source": [
        "#### **Exercise #19:** Create a list containing the elements \"superposition\", \"interference\", and \"entanglement\". Using the list, print out the message \"These are important properties of quantum mechanics: superposition, interference, entanglement\". "
      ],
      "metadata": {
        "id": "p1HTQGRwi7nt"
      }
    },
    {
      "cell_type": "code",
      "source": [],
      "metadata": {
        "id": "jBdCo2T4i7nu"
      },
      "execution_count": null,
      "outputs": []
    },
    {
      "cell_type": "markdown",
      "source": [
        "#### **Exercise #20:** Now, add the element \"measurement\" to the list and print the message \"These are important properties of quantum mechanics: measurement, superposition, entanglement, interference\" (in this exact order)."
      ],
      "metadata": {
        "id": "A0ljpx5-j1Bo"
      }
    },
    {
      "cell_type": "code",
      "source": [],
      "metadata": {
        "id": "fUS7TnoLj1Bp"
      },
      "execution_count": null,
      "outputs": []
    },
    {
      "cell_type": "markdown",
      "source": [
        "#### **Exercise #21:** Complete the function below to return the sum of the first two elements of the list provided."
      ],
      "metadata": {
        "id": "n-OmBy6v8o-c"
      }
    },
    {
      "cell_type": "code",
      "source": [
        "def sum_2(my_list):\n",
        "\n",
        "  return # complete this line"
      ],
      "metadata": {
        "id": "vAbVa-0S8-Oa"
      },
      "execution_count": null,
      "outputs": []
    },
    {
      "cell_type": "markdown",
      "source": [
        "#### **Exercise #22:** Comment out lines below so that the function returns a string with only the first three elements of the list provided."
      ],
      "metadata": {
        "id": "3NKMjhAphyeZ"
      }
    },
    {
      "cell_type": "code",
      "source": [
        "def first_3_string(my_list):\n",
        "\n",
        "  out = \"\"\n",
        "  out = out + \" \" + str(my_list)\n",
        "  out = out + \" \" + str(my_list[3])\n",
        "  out = out + \" \" + str(my_list[0])\n",
        "  out = out + \" \" + str(my_list[4])\n",
        "  out = out + \" \" + str(my_list[3])\n",
        "  out = out + \" \" + str(my_list[1])\n",
        "  out = out + \" \" + str(my_list[3])\n",
        "  out = out + \" \" + str(my_list[2])\n",
        "\n",
        "  return out"
      ],
      "metadata": {
        "id": "M6Aunk0Whyei"
      },
      "execution_count": null,
      "outputs": []
    },
    {
      "cell_type": "markdown",
      "source": [
        "---\n",
        "© 2022 The Coding School, All rights reserved"
      ],
      "metadata": {
        "id": "Zwmzj6kSi7nv"
      }
    }
  ]
}