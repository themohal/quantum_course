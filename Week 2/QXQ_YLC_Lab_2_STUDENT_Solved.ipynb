{
 "cells": [
  {
   "cell_type": "markdown",
   "metadata": {
    "id": "9wsrMk3gsLkc"
   },
   "source": [
    "# Lab: Week #2 | Python Review\n",
    "---\n",
    "In this week's lab, we will review the many concepts we have seen in python:\n",
    "* The print function\n",
    "* Variables\n",
    "* Arithmetic\n",
    "* Debugging\n",
    "* Comments\n",
    "* Comparisons\n",
    "* Lists\n",
    "* Functions\n",
    "\n",
    "---"
   ]
  },
  {
   "cell_type": "markdown",
   "metadata": {
    "id": "VmfQ66LhVXIQ"
   },
   "source": [
    "## **Practice 1: The print function, Variables, and Arithmetic**\n",
    "---"
   ]
  },
  {
   "cell_type": "markdown",
   "metadata": {
    "id": "mfMteYS3to5n"
   },
   "source": [
    "#### **Exercise #1:** Print out the phrase \"Hello, my name is ___\" with your name."
   ]
  },
  {
   "cell_type": "code",
   "execution_count": 1,
   "metadata": {
    "id": "DYqxOTOot0xX"
   },
   "outputs": [
    {
     "name": "stdout",
     "output_type": "stream",
     "text": [
      "Hello, my name is Muhammad Farjad Ali Raza\n"
     ]
    }
   ],
   "source": [
    "name = \"Muhammad Farjad Ali Raza\"\n",
    "print(\"Hello, my name is \"+name)"
   ]
  },
  {
   "cell_type": "markdown",
   "metadata": {
    "id": "PmwF-E2OVn3c"
   },
   "source": [
    "#### **Exercise #2:** Print out the result of adding 2 + 3.0."
   ]
  },
  {
   "cell_type": "code",
   "execution_count": 2,
   "metadata": {
    "id": "GBqF-Vt5Vn3d"
   },
   "outputs": [
    {
     "name": "stdout",
     "output_type": "stream",
     "text": [
      "5.0\n"
     ]
    }
   ],
   "source": [
    "print(2 + 3.0)"
   ]
  },
  {
   "cell_type": "markdown",
   "metadata": {
    "id": "6MqreT3HVoFf"
   },
   "source": [
    "#### **Exercise #3:** Make a variable called `favorite_animal` and store the name of your favorite animal in it. Then print it out."
   ]
  },
  {
   "cell_type": "code",
   "execution_count": 4,
   "metadata": {
    "id": "9Ty6lidkVoFg"
   },
   "outputs": [
    {
     "name": "stdout",
     "output_type": "stream",
     "text": [
      "Panda\n"
     ]
    }
   ],
   "source": [
    "favorite_animal = \"Panda\"\n",
    "print(favorite_animal)\n"
   ]
  },
  {
   "cell_type": "markdown",
   "metadata": {
    "id": "74o-C_juVo0R"
   },
   "source": [
    "#### **Exercise #4:** Complete the code below so that it calculates and prints your age in days."
   ]
  },
  {
   "cell_type": "code",
   "execution_count": 5,
   "metadata": {
    "id": "aM_VtiHPVo0S"
   },
   "outputs": [
    {
     "name": "stdout",
     "output_type": "stream",
     "text": [
      "9490\n"
     ]
    }
   ],
   "source": [
    "my_age = 26 #add age in years here\n",
    "days_in_year = 365\n",
    "\n",
    "age_in_days = my_age* days_in_year #add calculation here\n",
    "print(age_in_days)"
   ]
  },
  {
   "cell_type": "markdown",
   "metadata": {
    "id": "0815zm1YVo5K"
   },
   "source": [
    "#### **Exercise #5:** Complete the code below so that it calculates and prints the sentence \"I am [age_in_decades] decades old\""
   ]
  },
  {
   "cell_type": "code",
   "execution_count": 6,
   "metadata": {
    "id": "vwLGsLuTVo5L"
   },
   "outputs": [
    {
     "name": "stdout",
     "output_type": "stream",
     "text": [
      "I am 2.6\n"
     ]
    }
   ],
   "source": [
    "my_age = 26 #add age in years here\n",
    "years_in_decade = 10 # complete this line\n",
    "\n",
    "age_in_decades = my_age / years_in_decade\n",
    "print(\"I am \" +str(age_in_decades)) #complete this line)"
   ]
  },
  {
   "cell_type": "markdown",
   "metadata": {
    "id": "akI58ejMuBd9"
   },
   "source": [
    "---\n",
    "© 2022 The Coding School, All rights reserved"
   ]
  },
  {
   "cell_type": "markdown",
   "metadata": {
    "id": "583FEGKfWa8n"
   },
   "source": [
    "## **Practice 2: Comparisons**\n",
    "---"
   ]
  },
  {
   "cell_type": "markdown",
   "metadata": {
    "id": "yo-iaP81Wa8w"
   },
   "source": [
    "#### **Exercise #1:** Print the result of testing if 3 is greater than 5."
   ]
  },
  {
   "cell_type": "code",
   "execution_count": 8,
   "metadata": {
    "id": "p1Gb3hMPWa8x"
   },
   "outputs": [
    {
     "name": "stdout",
     "output_type": "stream",
     "text": [
      "False\n"
     ]
    }
   ],
   "source": [
    "print(3 > 5)"
   ]
  },
  {
   "cell_type": "markdown",
   "metadata": {
    "id": "_sFlbJrsWa8x"
   },
   "source": [
    "##### **Solution:**"
   ]
  },
  {
   "cell_type": "code",
   "execution_count": 9,
   "metadata": {
    "id": "zxvY3L-3Wa8x"
   },
   "outputs": [
    {
     "name": "stdout",
     "output_type": "stream",
     "text": [
      "False\n"
     ]
    }
   ],
   "source": [
    "print(3 > 5)"
   ]
  },
  {
   "cell_type": "markdown",
   "metadata": {
    "id": "3h-RLo3uWa8x"
   },
   "source": [
    "#### **Exercise #2:** Change the values below to make the output True."
   ]
  },
  {
   "cell_type": "code",
   "execution_count": 10,
   "metadata": {
    "id": "QP40_1HFWa8x"
   },
   "outputs": [
    {
     "name": "stdout",
     "output_type": "stream",
     "text": [
      "True\n"
     ]
    }
   ],
   "source": [
    "print(14 == 14)"
   ]
  },
  {
   "cell_type": "markdown",
   "metadata": {
    "id": "xYJT2wjiWa8x"
   },
   "source": [
    "##### **Solution:**"
   ]
  },
  {
   "cell_type": "code",
   "execution_count": 11,
   "metadata": {
    "id": "JhY9IkEkWa8x"
   },
   "outputs": [
    {
     "name": "stdout",
     "output_type": "stream",
     "text": [
      "True\n",
      "True\n"
     ]
    }
   ],
   "source": [
    "# many solutions to this one! here are two:\n",
    "print(14 == 14)\n",
    "print(14 != 15)"
   ]
  },
  {
   "cell_type": "markdown",
   "metadata": {
    "id": "6QAnB9tlWa8y"
   },
   "source": [
    "#### **Exercise #3:** Write code to test if the two variables are equal to each other and print the result."
   ]
  },
  {
   "cell_type": "code",
   "execution_count": 13,
   "metadata": {
    "id": "Azo2-aKTWa8y"
   },
   "outputs": [
    {
     "name": "stdout",
     "output_type": "stream",
     "text": [
      "False\n"
     ]
    }
   ],
   "source": [
    "x = \"hi world\"\n",
    "y = \"hello world\"\n",
    "if x==y:\n",
    "    print(True)\n",
    "else:\n",
    "    print(False)\n",
    "\n",
    "#add code here"
   ]
  },
  {
   "cell_type": "markdown",
   "metadata": {
    "id": "pzhQt4BRWa8y"
   },
   "source": [
    "#### **Exercise #4:** Write code that tests if your baggage weight is less than the limit and prints the sentence, \"Your bag is under the limit: [result of comparison]\"."
   ]
  },
  {
   "cell_type": "code",
   "execution_count": 16,
   "metadata": {
    "id": "r7J8kUg2Wa8y"
   },
   "outputs": [
    {
     "name": "stdout",
     "output_type": "stream",
     "text": [
      "Your bag is under the limit: True\n"
     ]
    }
   ],
   "source": [
    "bag_weight = 12\n",
    "weight_limit = 12.5\n",
    "print(\"Your bag is under the limit: \"+ str(bag_weight < weight_limit))\n",
    "\n",
    "# add code here"
   ]
  },
  {
   "cell_type": "markdown",
   "metadata": {
    "id": "5QsCBEiOWuha"
   },
   "source": [
    "## **Practice 3: Lists**\n",
    "---"
   ]
  },
  {
   "cell_type": "markdown",
   "metadata": {
    "id": "zVcrldoeWuhi"
   },
   "source": [
    "#### **Exercise #1:** Print the word \"Howdy!\" using the provided list."
   ]
  },
  {
   "cell_type": "code",
   "execution_count": 18,
   "metadata": {
    "id": "tGkmba-qWuhi"
   },
   "outputs": [
    {
     "name": "stdout",
     "output_type": "stream",
     "text": [
      "Howdy\n"
     ]
    }
   ],
   "source": [
    "phrases = [\"Hi\", \"Hello\", \"Howdy\", \"Hiya\"]\n",
    "print(phrases[2])"
   ]
  },
  {
   "cell_type": "markdown",
   "metadata": {
    "id": "Xy3al0VJWuhi"
   },
   "source": [
    "##### **Solution:**"
   ]
  },
  {
   "cell_type": "code",
   "execution_count": 19,
   "metadata": {
    "id": "rj76ImzOWuhi"
   },
   "outputs": [
    {
     "name": "stdout",
     "output_type": "stream",
     "text": [
      "Howdy\n"
     ]
    }
   ],
   "source": [
    "phrases = [\"Hi\", \"Hello\", \"Howdy\", \"Hiya\"]\n",
    "print(phrases[2])"
   ]
  },
  {
   "cell_type": "markdown",
   "metadata": {
    "id": "2h2id0QoWuhi"
   },
   "source": [
    "#### **Exercise #2:** Complete the code below so that the following is printed:\n",
    "1\n",
    "\n",
    "0\n",
    "\n",
    "2"
   ]
  },
  {
   "cell_type": "code",
   "execution_count": 23,
   "metadata": {
    "id": "TV6RzhiMWuhi"
   },
   "outputs": [
    {
     "name": "stdout",
     "output_type": "stream",
     "text": [
      "1\n",
      "\n",
      "0\n",
      "\n",
      "2\n"
     ]
    }
   ],
   "source": [
    "my_list = [1, 0, 2]\n",
    "print(my_list[0])\n",
    "print(\"\")\n",
    "print(my_list[1])\n",
    "print(\"\")\n",
    "print(my_list[2])\n"
   ]
  },
  {
   "cell_type": "markdown",
   "metadata": {
    "id": "RxozzxQOWuhi"
   },
   "source": [
    "##### **Solution:**"
   ]
  },
  {
   "cell_type": "code",
   "execution_count": null,
   "metadata": {
    "colab": {
     "base_uri": "https://localhost:8080/"
    },
    "id": "uXHD8aEcWuhi",
    "outputId": "4c4ace68-5193-4298-f74b-f24df4588843"
   },
   "outputs": [
    {
     "name": "stdout",
     "output_type": "stream",
     "text": [
      "1\n",
      "0\n",
      "2\n"
     ]
    }
   ],
   "source": [
    "my_list = [0, 3, 1, 2]\n",
    "print(my_list[2])\n",
    "print(my_list[0])\n",
    "print(my_list[3])"
   ]
  },
  {
   "cell_type": "markdown",
   "metadata": {
    "id": "Kvc2vgKNWuhi"
   },
   "source": [
    "#### **Exercise #3:** Add the element 2.8 to this list using append and print the updated list."
   ]
  },
  {
   "cell_type": "code",
   "execution_count": 24,
   "metadata": {
    "id": "CF7S_uv_Wuhi"
   },
   "outputs": [
    {
     "name": "stdout",
     "output_type": "stream",
     "text": [
      "[1.4, 2.8]\n"
     ]
    }
   ],
   "source": [
    "my_list = [1.4]\n",
    "my_list.append(2.8)\n",
    "print(my_list)"
   ]
  },
  {
   "cell_type": "markdown",
   "metadata": {
    "id": "GWtQ_GIEW41G"
   },
   "source": [
    "#### **Exercise #4:** Now, add the element 4.2 to this list  twice using append and print the updated list."
   ]
  },
  {
   "cell_type": "code",
   "execution_count": 26,
   "metadata": {
    "id": "S6sHCKNOW41Q"
   },
   "outputs": [
    {
     "name": "stdout",
     "output_type": "stream",
     "text": [
      "[1.4, 2.8, 4.2, 4.2]\n"
     ]
    }
   ],
   "source": [
    "my_list.append(4.2)\n",
    "my_list.append(4.2)\n",
    "print(my_list)"
   ]
  },
  {
   "cell_type": "markdown",
   "metadata": {
    "id": "O2tmrUMqW5__"
   },
   "source": [
    "#### **Exercise #5:** Remove 1.4 from this list and print the updated list."
   ]
  },
  {
   "cell_type": "code",
   "execution_count": 27,
   "metadata": {
    "id": "Qu-469HzW6AA"
   },
   "outputs": [
    {
     "name": "stdout",
     "output_type": "stream",
     "text": [
      "[2.8, 4.2, 4.2]\n"
     ]
    }
   ],
   "source": [
    "my_list.remove(1.4)\n",
    "print(my_list)"
   ]
  },
  {
   "cell_type": "markdown",
   "metadata": {
    "id": "_5u3q9wcW7Yi"
   },
   "source": [
    "#### **Exercise #6:** Change the 0th element to be the string \"floats\" and print the list."
   ]
  },
  {
   "cell_type": "code",
   "execution_count": 28,
   "metadata": {
    "id": "stoGICD1W7Yj"
   },
   "outputs": [
    {
     "name": "stdout",
     "output_type": "stream",
     "text": [
      "['float', 4.2, 4.2]\n"
     ]
    }
   ],
   "source": [
    "my_list[0] = 'float'\n",
    "print(my_list)"
   ]
  },
  {
   "cell_type": "markdown",
   "metadata": {
    "id": "54HSkvGrXFTK"
   },
   "source": [
    "## **Practice 4: Functions**\n",
    "---"
   ]
  },
  {
   "cell_type": "markdown",
   "metadata": {
    "id": "4zXrEMaeJ-w-"
   },
   "source": [
    "#### **Exercise #1:** How many arguments does the function below take?"
   ]
  },
  {
   "cell_type": "code",
   "execution_count": 31,
   "metadata": {
    "id": "CmNCQQa1J-w_"
   },
   "outputs": [],
   "source": [
    "def mystery_function(earth, wind, fire):\n",
    "\n",
    "  print(\"Do you remember, \" + str(earth) + str(wind) + str(fire))"
   ]
  },
  {
   "cell_type": "markdown",
   "metadata": {
    "id": "HlRTJO9JJ-xA"
   },
   "source": [
    "##### **Solution:** 3 - earth, wind, and fire"
   ]
  },
  {
   "cell_type": "markdown",
   "metadata": {
    "id": "oGURv3MqKeEd"
   },
   "source": [
    "#### **Exercise #2:** What type (int, float, string, list) does the function below return?"
   ]
  },
  {
   "cell_type": "code",
   "execution_count": 32,
   "metadata": {
    "id": "SVic6JfOKeEf"
   },
   "outputs": [],
   "source": [
    "def function_name(arg):\n",
    "\n",
    "  return str(arg)"
   ]
  },
  {
   "cell_type": "markdown",
   "metadata": {
    "id": "nsZFcqB6KeEf"
   },
   "source": [
    "##### **Solution:** string as indicated by the call to str(...) when we return"
   ]
  },
  {
   "cell_type": "markdown",
   "metadata": {
    "id": "rRs4PNF-LZfj"
   },
   "source": [
    "#### **Exercise #3:** What will happen when we call func(1, 2, 3)?"
   ]
  },
  {
   "cell_type": "code",
   "execution_count": 34,
   "metadata": {
    "id": "UXbZleTbLZfj"
   },
   "outputs": [],
   "source": [
    "def func(a, b, c):\n",
    "\n",
    "  out = a * b * c\n",
    "  print(out)"
   ]
  },
  {
   "cell_type": "markdown",
   "metadata": {
    "id": "e5exOtbzLZfj"
   },
   "source": [
    "##### **Solution:**\n",
    "It will set out = 1 * 2 * 3 = 6 and then print this. The best way to check is to run the code yourself!"
   ]
  },
  {
   "cell_type": "code",
   "execution_count": 35,
   "metadata": {
    "id": "FdbGwdAEMHgM"
   },
   "outputs": [
    {
     "name": "stdout",
     "output_type": "stream",
     "text": [
      "6\n"
     ]
    }
   ],
   "source": [
    "func(1,2,3)"
   ]
  },
  {
   "cell_type": "markdown",
   "metadata": {
    "id": "G3SpIaGgXFTL"
   },
   "source": [
    "#### **Exercise #4:** Call the function defined below so that it outputs the word \"badger\"."
   ]
  },
  {
   "cell_type": "code",
   "execution_count": 36,
   "metadata": {
    "id": "T5FYpYXDXFTL"
   },
   "outputs": [],
   "source": [
    "def print_word(word):\n",
    "  print(word)"
   ]
  },
  {
   "cell_type": "markdown",
   "metadata": {
    "id": "IamTEhNNXFTM"
   },
   "source": [
    "#### **Exercise #5:** Call the function below so that you print the sentence, \"Happy Birthday Tanya\"."
   ]
  },
  {
   "cell_type": "code",
   "execution_count": 38,
   "metadata": {
    "id": "PWYS16AsXFTM"
   },
   "outputs": [],
   "source": [
    "def happy_birthday(name):\n",
    "\n",
    "  return \"Happy Birthday \" + name"
   ]
  },
  {
   "cell_type": "markdown",
   "metadata": {
    "id": "ZzpZYtkJXFTM"
   },
   "source": [
    "#### **Exercise #6:** Complete the code below so that the function returns the sum of the two values provided."
   ]
  },
  {
   "cell_type": "code",
   "execution_count": 40,
   "metadata": {
    "id": "xduGxTHCXFTM"
   },
   "outputs": [],
   "source": [
    "def add(num1, num2):\n",
    "  return num1+num2"
   ]
  },
  {
   "cell_type": "markdown",
   "metadata": {
    "id": "ZmA9H58iXLj0"
   },
   "source": [
    "## **Practice 5: General Practice**\n",
    "---"
   ]
  },
  {
   "cell_type": "markdown",
   "metadata": {
    "id": "dtKV2rFhZJo7"
   },
   "source": [
    "#### **Exercise #1:** What value will be printed in the code below?\n",
    "\n",
    "```python\n",
    "num_keys = 2\n",
    "num_locks = 5\n",
    "\n",
    "has_enough_keys = num_keys >= num_locks\n",
    "print(\"I have enough keys: \" + str(has_enough_keys))\n",
    "\n",
    "```"
   ]
  },
  {
   "cell_type": "markdown",
   "metadata": {},
   "source": [
    "#### **Solution:** I have enough keys: False"
   ]
  },
  {
   "cell_type": "markdown",
   "metadata": {
    "id": "hHAEeDsNaBNH"
   },
   "source": [
    "#### **Exercise #2:** Complete the code below so that the list contains only even numbers and print the updated list."
   ]
  },
  {
   "cell_type": "code",
   "execution_count": 42,
   "metadata": {
    "id": "b2Xpu9LDaRQm"
   },
   "outputs": [
    {
     "name": "stdout",
     "output_type": "stream",
     "text": [
      "[2, 4]\n"
     ]
    }
   ],
   "source": [
    "evens = [2, 4]\n",
    "print(evens)"
   ]
  },
  {
   "cell_type": "markdown",
   "metadata": {},
   "source": [
    "#### **Solution:** Remove 1 and 3 from list and print"
   ]
  },
  {
   "cell_type": "markdown",
   "metadata": {
    "id": "t-9hb740aiBd"
   },
   "source": [
    "#### **Exercise #3:** Complete the code below so that the function returns the first argument divided by the second argument."
   ]
  },
  {
   "cell_type": "code",
   "execution_count": 43,
   "metadata": {
    "id": "E8aNA2C9aiBe"
   },
   "outputs": [],
   "source": [
    "def func(arg1, arg2):\n",
    "    return arg1/arg2\n",
    "  "
   ]
  },
  {
   "cell_type": "markdown",
   "metadata": {},
   "source": [
    "#### **Solution:** return arg1/arg2 or return arg1//arg2"
   ]
  },
  {
   "cell_type": "markdown",
   "metadata": {
    "id": "XJejnPLNbF-d"
   },
   "source": [
    "#### **Exercise #4:** Correct the code below so that the resulting list is: [1, 2, 3, 4, 5] and prints the updated list."
   ]
  },
  {
   "cell_type": "code",
   "execution_count": 45,
   "metadata": {
    "id": "kMWeKqDhbF-e"
   },
   "outputs": [
    {
     "name": "stdout",
     "output_type": "stream",
     "text": [
      "[1, 2, 3, 4, 5]\n"
     ]
    }
   ],
   "source": [
    "num_list = [1, 2, 3, 4]\n",
    "num_list.append( 5)\n",
    "\n",
    "print(num_list)"
   ]
  },
  {
   "cell_type": "markdown",
   "metadata": {},
   "source": [
    "#### **Solution:** Use append function to add 5 and then print"
   ]
  },
  {
   "cell_type": "markdown",
   "metadata": {
    "id": "Zm5C1QkabwBX"
   },
   "source": [
    "#### **Exercise #5:** Write a function that takes one argument, a number, and returns the square of that number. For instance, it should work like this when called: `square(4) = 16`."
   ]
  },
  {
   "cell_type": "code",
   "execution_count": 46,
   "metadata": {
    "id": "rWr46-5CbwBY"
   },
   "outputs": [],
   "source": [
    "def square(num):\n",
    "    return num*num"
   ]
  },
  {
   "cell_type": "markdown",
   "metadata": {},
   "source": [
    "#### **Solution:** returning num*num will give square"
   ]
  }
 ],
 "metadata": {
  "colab": {
   "collapsed_sections": [
    "VmfQ66LhVXIQ",
    "583FEGKfWa8n",
    "5QsCBEiOWuha",
    "54HSkvGrXFTK",
    "ZmA9H58iXLj0"
   ],
   "provenance": []
  },
  "kernelspec": {
   "display_name": "Python 3 (ipykernel)",
   "language": "python",
   "name": "python3"
  },
  "language_info": {
   "codemirror_mode": {
    "name": "ipython",
    "version": 3
   },
   "file_extension": ".py",
   "mimetype": "text/x-python",
   "name": "python",
   "nbconvert_exporter": "python",
   "pygments_lexer": "ipython3",
   "version": "3.8.13"
  },
  "widgets": {
   "application/vnd.jupyter.widget-state+json": {
    "state": {},
    "version_major": 2,
    "version_minor": 0
   }
  }
 },
 "nbformat": 4,
 "nbformat_minor": 4
}
