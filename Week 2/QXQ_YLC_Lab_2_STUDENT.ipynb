{
  "nbformat": 4,
  "nbformat_minor": 0,
  "metadata": {
    "colab": {
      "provenance": [],
      "collapsed_sections": [
        "VmfQ66LhVXIQ",
        "583FEGKfWa8n",
        "5QsCBEiOWuha",
        "54HSkvGrXFTK",
        "ZmA9H58iXLj0"
      ]
    },
    "kernelspec": {
      "name": "python3",
      "display_name": "Python 3"
    },
    "language_info": {
      "name": "python"
    }
  },
  "cells": [
    {
      "cell_type": "markdown",
      "source": [
        "# Lab: Week #2 | Python Review\n",
        "---\n",
        "In this week's lab, we will review the many concepts we have seen in python:\n",
        "* The print function\n",
        "* Variables\n",
        "* Arithmetic\n",
        "* Debugging\n",
        "* Comments\n",
        "* Comparisons\n",
        "* Lists\n",
        "* Functions\n",
        "\n",
        "---"
      ],
      "metadata": {
        "id": "9wsrMk3gsLkc"
      }
    },
    {
      "cell_type": "markdown",
      "source": [
        "## **Practice 1: The print function, Variables, and Arithmetic**\n",
        "---"
      ],
      "metadata": {
        "id": "VmfQ66LhVXIQ"
      }
    },
    {
      "cell_type": "markdown",
      "source": [
        "#### **Exercise #1:** Print out the phrase \"Hello, my name is ___\" with your name."
      ],
      "metadata": {
        "id": "mfMteYS3to5n"
      }
    },
    {
      "cell_type": "code",
      "source": [],
      "metadata": {
        "id": "DYqxOTOot0xX"
      },
      "execution_count": null,
      "outputs": []
    },
    {
      "cell_type": "markdown",
      "source": [
        "#### **Exercise #2:** Print out the result of adding 2 + 3.0."
      ],
      "metadata": {
        "id": "PmwF-E2OVn3c"
      }
    },
    {
      "cell_type": "code",
      "source": [],
      "metadata": {
        "id": "GBqF-Vt5Vn3d"
      },
      "execution_count": null,
      "outputs": []
    },
    {
      "cell_type": "markdown",
      "source": [
        "#### **Exercise #3:** Make a variable called `favorite_animal` and store the name of your favorite animal in it. Then print it out."
      ],
      "metadata": {
        "id": "6MqreT3HVoFf"
      }
    },
    {
      "cell_type": "code",
      "source": [],
      "metadata": {
        "id": "9Ty6lidkVoFg"
      },
      "execution_count": null,
      "outputs": []
    },
    {
      "cell_type": "markdown",
      "source": [
        "#### **Exercise #4:** Complete the code below so that it calculates and prints your age in days."
      ],
      "metadata": {
        "id": "74o-C_juVo0R"
      }
    },
    {
      "cell_type": "code",
      "source": [
        "my_age = #add age in years here\n",
        "days_in_year = 365\n",
        "\n",
        "age_in_days = #add calculation here\n",
        "print(age_in_days)"
      ],
      "metadata": {
        "id": "aM_VtiHPVo0S"
      },
      "execution_count": null,
      "outputs": []
    },
    {
      "cell_type": "markdown",
      "source": [
        "#### **Exercise #5:** Complete the code below so that it calculates and prints the sentence \"I am [age_in_decades] decades old\""
      ],
      "metadata": {
        "id": "0815zm1YVo5K"
      }
    },
    {
      "cell_type": "code",
      "source": [
        "my_age = #add age in years here\n",
        "years_in_decade = # complete this line\n",
        "\n",
        "age_in_decades = my_age / years_in_decade\n",
        "print(\"I am \" + #complete this line)"
      ],
      "metadata": {
        "id": "vwLGsLuTVo5L"
      },
      "execution_count": null,
      "outputs": []
    },
    {
      "cell_type": "markdown",
      "source": [
        "---\n",
        "© 2022 The Coding School, All rights reserved"
      ],
      "metadata": {
        "id": "akI58ejMuBd9"
      }
    },
    {
      "cell_type": "markdown",
      "source": [
        "## **Practice 2: Comparisons**\n",
        "---"
      ],
      "metadata": {
        "id": "583FEGKfWa8n"
      }
    },
    {
      "cell_type": "markdown",
      "source": [
        "#### **Exercise #1:** Print the result of testing if 3 is greater than 5."
      ],
      "metadata": {
        "id": "yo-iaP81Wa8w"
      }
    },
    {
      "cell_type": "code",
      "source": [],
      "metadata": {
        "id": "p1Gb3hMPWa8x"
      },
      "execution_count": null,
      "outputs": []
    },
    {
      "cell_type": "markdown",
      "source": [
        "##### **Solution:**"
      ],
      "metadata": {
        "id": "_sFlbJrsWa8x"
      }
    },
    {
      "cell_type": "code",
      "source": [
        "print(3 > 5)"
      ],
      "metadata": {
        "id": "zxvY3L-3Wa8x"
      },
      "execution_count": null,
      "outputs": []
    },
    {
      "cell_type": "markdown",
      "source": [
        "#### **Exercise #2:** Change the values below to make the output True."
      ],
      "metadata": {
        "id": "3h-RLo3uWa8x"
      }
    },
    {
      "cell_type": "code",
      "source": [
        "print(14 != 14)"
      ],
      "metadata": {
        "id": "QP40_1HFWa8x"
      },
      "execution_count": null,
      "outputs": []
    },
    {
      "cell_type": "markdown",
      "source": [
        "##### **Solution:**"
      ],
      "metadata": {
        "id": "xYJT2wjiWa8x"
      }
    },
    {
      "cell_type": "code",
      "source": [
        "# many solutions to this one! here are two:\n",
        "print(14 == 14)\n",
        "print(14 != 15)"
      ],
      "metadata": {
        "id": "JhY9IkEkWa8x"
      },
      "execution_count": null,
      "outputs": []
    },
    {
      "cell_type": "markdown",
      "source": [
        "#### **Exercise #3:** Write code to test if the two variables are equal to each other and print the result."
      ],
      "metadata": {
        "id": "6QAnB9tlWa8y"
      }
    },
    {
      "cell_type": "code",
      "source": [
        "x = \"hi world\"\n",
        "y = \"hello world\"\n",
        "\n",
        "#add code here"
      ],
      "metadata": {
        "id": "Azo2-aKTWa8y"
      },
      "execution_count": null,
      "outputs": []
    },
    {
      "cell_type": "markdown",
      "source": [
        "#### **Exercise #4:** Write code that tests if your baggage weight is less than the limit and prints the sentence, \"Your bag is under the limit: [result of comparison]\"."
      ],
      "metadata": {
        "id": "pzhQt4BRWa8y"
      }
    },
    {
      "cell_type": "code",
      "source": [
        "bag_weight = 12\n",
        "weight_limit = 12.5\n",
        "\n",
        "# add code here"
      ],
      "metadata": {
        "id": "r7J8kUg2Wa8y"
      },
      "execution_count": null,
      "outputs": []
    },
    {
      "cell_type": "markdown",
      "source": [
        "## **Practice 3: Lists**\n",
        "---"
      ],
      "metadata": {
        "id": "5QsCBEiOWuha"
      }
    },
    {
      "cell_type": "markdown",
      "source": [
        "#### **Exercise #1:** Print the word \"Howdy!\" using the provided list."
      ],
      "metadata": {
        "id": "zVcrldoeWuhi"
      }
    },
    {
      "cell_type": "code",
      "source": [
        "phrases = [\"Hi\", \"Hello\", \"Howdy\", \"Hiya\"]"
      ],
      "metadata": {
        "id": "tGkmba-qWuhi"
      },
      "execution_count": null,
      "outputs": []
    },
    {
      "cell_type": "markdown",
      "source": [
        "##### **Solution:**"
      ],
      "metadata": {
        "id": "Xy3al0VJWuhi"
      }
    },
    {
      "cell_type": "code",
      "source": [
        "phrases = [\"Hi\", \"Hello\", \"Howdy\", \"Hiya\"]\n",
        "print(phrases[2])"
      ],
      "metadata": {
        "id": "rj76ImzOWuhi"
      },
      "execution_count": null,
      "outputs": []
    },
    {
      "cell_type": "markdown",
      "source": [
        "#### **Exercise #2:** Complete the code below so that the following is printed:\n",
        "1\n",
        "\n",
        "0\n",
        "\n",
        "2"
      ],
      "metadata": {
        "id": "2h2id0QoWuhi"
      }
    },
    {
      "cell_type": "code",
      "source": [
        "my_list = [0, 3, 1, 2]\n"
      ],
      "metadata": {
        "id": "TV6RzhiMWuhi"
      },
      "execution_count": null,
      "outputs": []
    },
    {
      "cell_type": "markdown",
      "source": [
        "##### **Solution:**"
      ],
      "metadata": {
        "id": "RxozzxQOWuhi"
      }
    },
    {
      "cell_type": "code",
      "source": [
        "my_list = [0, 3, 1, 2]\n",
        "print(my_list[2])\n",
        "print(my_list[0])\n",
        "print(my_list[3])"
      ],
      "metadata": {
        "id": "uXHD8aEcWuhi",
        "colab": {
          "base_uri": "https://localhost:8080/"
        },
        "outputId": "4c4ace68-5193-4298-f74b-f24df4588843"
      },
      "execution_count": null,
      "outputs": [
        {
          "output_type": "stream",
          "name": "stdout",
          "text": [
            "1\n",
            "0\n",
            "2\n"
          ]
        }
      ]
    },
    {
      "cell_type": "markdown",
      "source": [
        "#### **Exercise #3:** Add the element 2.8 to this list using append and print the updated list."
      ],
      "metadata": {
        "id": "Kvc2vgKNWuhi"
      }
    },
    {
      "cell_type": "code",
      "source": [
        "my_list = [1.4]"
      ],
      "metadata": {
        "id": "CF7S_uv_Wuhi"
      },
      "execution_count": null,
      "outputs": []
    },
    {
      "cell_type": "markdown",
      "source": [
        "#### **Exercise #4:** Now, add the element 4.2 to this list  twice using append and print the updated list."
      ],
      "metadata": {
        "id": "GWtQ_GIEW41G"
      }
    },
    {
      "cell_type": "code",
      "source": [],
      "metadata": {
        "id": "S6sHCKNOW41Q"
      },
      "execution_count": null,
      "outputs": []
    },
    {
      "cell_type": "markdown",
      "source": [
        "#### **Exercise #5:** Remove 1.4 from this list and print the updated list."
      ],
      "metadata": {
        "id": "O2tmrUMqW5__"
      }
    },
    {
      "cell_type": "code",
      "source": [],
      "metadata": {
        "id": "Qu-469HzW6AA"
      },
      "execution_count": null,
      "outputs": []
    },
    {
      "cell_type": "markdown",
      "source": [
        "#### **Exercise #6:** Change the 0th element to be the string \"floats\" and print the list."
      ],
      "metadata": {
        "id": "_5u3q9wcW7Yi"
      }
    },
    {
      "cell_type": "code",
      "source": [],
      "metadata": {
        "id": "stoGICD1W7Yj"
      },
      "execution_count": null,
      "outputs": []
    },
    {
      "cell_type": "markdown",
      "source": [
        "## **Practice 4: Functions**\n",
        "---"
      ],
      "metadata": {
        "id": "54HSkvGrXFTK"
      }
    },
    {
      "cell_type": "markdown",
      "source": [
        "#### **Exercise #1:** How many arguments does the function below take?"
      ],
      "metadata": {
        "id": "4zXrEMaeJ-w-"
      }
    },
    {
      "cell_type": "code",
      "source": [
        "def mystery_function(earth, wind, fire):\n",
        "\n",
        "  print(\"Do you remember, \" + str(earth) + str(wind) + str(fire))"
      ],
      "metadata": {
        "id": "CmNCQQa1J-w_"
      },
      "execution_count": null,
      "outputs": []
    },
    {
      "cell_type": "markdown",
      "source": [
        "##### **Solution:** 3 - earth, wind, and fire"
      ],
      "metadata": {
        "id": "HlRTJO9JJ-xA"
      }
    },
    {
      "cell_type": "markdown",
      "source": [
        "#### **Exercise #2:** What type (int, float, string, list) does the function below return?"
      ],
      "metadata": {
        "id": "oGURv3MqKeEd"
      }
    },
    {
      "cell_type": "code",
      "source": [
        "def function_name(arg):\n",
        "\n",
        "  return str(arg)"
      ],
      "metadata": {
        "id": "SVic6JfOKeEf"
      },
      "execution_count": null,
      "outputs": []
    },
    {
      "cell_type": "markdown",
      "source": [
        "##### **Solution:** string as indicated by the call to str(...) when we return"
      ],
      "metadata": {
        "id": "nsZFcqB6KeEf"
      }
    },
    {
      "cell_type": "markdown",
      "source": [
        "#### **Exercise #3:** What will happen when we call func(1, 2, 3)?"
      ],
      "metadata": {
        "id": "rRs4PNF-LZfj"
      }
    },
    {
      "cell_type": "code",
      "source": [
        "def func(a, b, c):\n",
        "\n",
        "  out = a * b * c\n",
        "  print(out)"
      ],
      "metadata": {
        "id": "UXbZleTbLZfj"
      },
      "execution_count": null,
      "outputs": []
    },
    {
      "cell_type": "markdown",
      "source": [
        "##### **Solution:**\n",
        "It will set out = 1 * 2 * 3 = 6 and then print this. The best way to check is to run the code yourself!"
      ],
      "metadata": {
        "id": "e5exOtbzLZfj"
      }
    },
    {
      "cell_type": "code",
      "source": [
        "func(1,2,3)"
      ],
      "metadata": {
        "id": "FdbGwdAEMHgM"
      },
      "execution_count": null,
      "outputs": []
    },
    {
      "cell_type": "markdown",
      "source": [
        "#### **Exercise #4:** Call the function defined below so that it outputs the word \"badger\"."
      ],
      "metadata": {
        "id": "G3SpIaGgXFTL"
      }
    },
    {
      "cell_type": "code",
      "source": [
        "def print_word(word):\n",
        "  print(word)"
      ],
      "metadata": {
        "id": "T5FYpYXDXFTL"
      },
      "execution_count": null,
      "outputs": []
    },
    {
      "cell_type": "markdown",
      "source": [
        "#### **Exercise #5:** Call the function below so that you print the sentence, \"Happy Birthday Tanya\"."
      ],
      "metadata": {
        "id": "IamTEhNNXFTM"
      }
    },
    {
      "cell_type": "code",
      "source": [
        "def happy_birthday(name):\n",
        "\n",
        "  return \"Happy Birthday \" + name"
      ],
      "metadata": {
        "id": "PWYS16AsXFTM"
      },
      "execution_count": null,
      "outputs": []
    },
    {
      "cell_type": "markdown",
      "source": [
        "#### **Exercise #6:** Complete the code below so that the function returns the sum of the two values provided."
      ],
      "metadata": {
        "id": "ZzpZYtkJXFTM"
      }
    },
    {
      "cell_type": "code",
      "source": [
        "def add(num1, num2):\n",
        "  #add code"
      ],
      "metadata": {
        "id": "xduGxTHCXFTM"
      },
      "execution_count": null,
      "outputs": []
    },
    {
      "cell_type": "markdown",
      "source": [
        "## **Practice 5: General Practice**\n",
        "---"
      ],
      "metadata": {
        "id": "ZmA9H58iXLj0"
      }
    },
    {
      "cell_type": "markdown",
      "source": [
        "#### **Exercise #1:** What value will be printed in the code below?\n",
        "\n",
        "```python\n",
        "num_keys = 2\n",
        "num_locks = 5\n",
        "\n",
        "has_enough_keys = num_keys >= num_locks\n",
        "print(\"I have enough keys: \" + str(has_enough_keys))\n",
        "\n",
        "```"
      ],
      "metadata": {
        "id": "dtKV2rFhZJo7"
      }
    },
    {
      "cell_type": "markdown",
      "source": [
        "#### **Exercise #2:** Complete the code below so that the list contains only even numbers and print the updated list."
      ],
      "metadata": {
        "id": "hHAEeDsNaBNH"
      }
    },
    {
      "cell_type": "code",
      "source": [
        "evens = [1, 2, 3, 4]\n"
      ],
      "metadata": {
        "id": "b2Xpu9LDaRQm"
      },
      "execution_count": null,
      "outputs": []
    },
    {
      "cell_type": "markdown",
      "source": [
        "#### **Exercise #3:** Complete the code below so that the function returns the first argument divided by the second argument."
      ],
      "metadata": {
        "id": "t-9hb740aiBd"
      }
    },
    {
      "cell_type": "code",
      "source": [
        "def func(arg1, arg2):\n",
        "  "
      ],
      "metadata": {
        "id": "E8aNA2C9aiBe"
      },
      "execution_count": null,
      "outputs": []
    },
    {
      "cell_type": "markdown",
      "source": [
        "#### **Exercise #4:** Correct the code below so that the resulting list is: [1, 2, 3, 4, 5] and prints the updated list."
      ],
      "metadata": {
        "id": "XJejnPLNbF-d"
      }
    },
    {
      "cell_type": "code",
      "source": [
        "num_list = [1, 2, 3, 4]\n",
        "num_list[0] = 5\n",
        "\n",
        "print(num_list)"
      ],
      "metadata": {
        "id": "kMWeKqDhbF-e"
      },
      "execution_count": null,
      "outputs": []
    },
    {
      "cell_type": "markdown",
      "source": [
        "#### **Exercise #5:** Write a function that takes one argument, a number, and returns the square of that number. For instance, it should work like this when called: `square(4) = 16`."
      ],
      "metadata": {
        "id": "Zm5C1QkabwBX"
      }
    },
    {
      "cell_type": "code",
      "source": [],
      "metadata": {
        "id": "rWr46-5CbwBY"
      },
      "execution_count": null,
      "outputs": []
    }
  ]
}