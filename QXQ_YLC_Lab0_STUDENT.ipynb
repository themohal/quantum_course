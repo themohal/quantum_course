{
  "cells": [
    {
      "cell_type": "markdown",
      "metadata": {
        "id": "a20a4fdf-4a1d-4ce6-8df6-528d77b73d38"
      },
      "source": [
        "<center>\n",
        "<div style=\"margin: 50px\">\n",
        "\n",
        "<h1>Qubit by Qubit</h1>\n",
        "<h2>Introduction to Quantum Computing</h2>\n",
        "<h3>Week 0 - Introduction to Coding</h3>\n",
        "<h3>Lab notebook</h3>\n",
        "\n",
        "</div>\n",
        "</center>\n",
        "\n",
        "---"
      ],
      "id": "a20a4fdf-4a1d-4ce6-8df6-528d77b73d38"
    },
    {
      "cell_type": "markdown",
      "metadata": {
        "id": "LTwpcNqXlp_E",
        "jp-MarkdownHeadingCollapsed": true,
        "tags": []
      },
      "source": [
        "## **PART #0: Practice using Notebooks in IBM Quantum Experience (IQX)**"
      ],
      "id": "LTwpcNqXlp_E"
    },
    {
      "cell_type": "markdown",
      "metadata": {
        "id": "pTw9c31n3f4T"
      },
      "source": [
        "\n",
        "1. Create a `Code` Cell below by pressing the **+** button above and making sure the \"Code\" option is selected. Practice running the `Code` Cell. "
      ],
      "id": "pTw9c31n3f4T"
    },
    {
      "cell_type": "code",
      "execution_count": null,
      "metadata": {
        "id": "MxAs6KtlM7D-"
      },
      "outputs": [],
      "source": [],
      "id": "MxAs6KtlM7D-"
    },
    {
      "cell_type": "markdown",
      "metadata": {
        "id": "sdPvAZyC2roU"
      },
      "source": [
        "2. Create a *Text* Cell below by pressing the **+** button above and selecting the \"Markdown\" option. Write some text in it and run the *Text* Cell."
      ],
      "id": "sdPvAZyC2roU"
    },
    {
      "cell_type": "markdown",
      "metadata": {
        "id": "ktArFy2KnP2n"
      },
      "source": [],
      "id": "ktArFy2KnP2n"
    },
    {
      "cell_type": "markdown",
      "metadata": {
        "id": "wLkkxdWm3ngt"
      },
      "source": [
        "3. Practice renaming the notebook by right clicking the current name, clicking \"Rename Notebook...\", and adding your first name to the beginning. **Be careful** not to click \"Delete Notebook\" right beneath this!"
      ],
      "id": "wLkkxdWm3ngt"
    },
    {
      "cell_type": "markdown",
      "metadata": {
        "id": "e71e7df3-b663-4bd6-b79c-d1a3a488598c"
      },
      "source": [
        "---\n",
        "### Back To Lecture\n",
        "---"
      ],
      "id": "e71e7df3-b663-4bd6-b79c-d1a3a488598c"
    },
    {
      "cell_type": "markdown",
      "metadata": {
        "id": "607b606f-f345-4058-8381-0d07509bcd4a",
        "jp-MarkdownHeadingCollapsed": true,
        "tags": []
      },
      "source": [
        "## **PART #1: The Print Function**"
      ],
      "id": "607b606f-f345-4058-8381-0d07509bcd4a"
    },
    {
      "cell_type": "markdown",
      "metadata": {
        "id": "593391d5-e034-4850-bea0-8c1f93d90ea4",
        "jp-MarkdownHeadingCollapsed": true,
        "tags": []
      },
      "source": [
        "### Practice Together #1 ###\n",
        "\n",
        "Print the text \"Hello Quantum World!\""
      ],
      "id": "593391d5-e034-4850-bea0-8c1f93d90ea4"
    },
    {
      "cell_type": "code",
      "execution_count": null,
      "metadata": {
        "id": "39e61420-9aca-4513-8958-6e14bae33255"
      },
      "outputs": [],
      "source": [],
      "id": "39e61420-9aca-4513-8958-6e14bae33255"
    },
    {
      "cell_type": "code",
      "source": [],
      "metadata": {
        "id": "NCd-86jjmW1Q"
      },
      "id": "NCd-86jjmW1Q",
      "execution_count": null,
      "outputs": []
    },
    {
      "cell_type": "markdown",
      "metadata": {
        "id": "0d33359f-18fa-4eae-81b6-d39fa9fed46b",
        "tags": []
      },
      "source": [
        "### Practice Together #2 ###\n",
        "\n",
        "Print the text \"Hello Quantum World!\" and \"Nice to meet you and not meet you\" using two separate print statements."
      ],
      "id": "0d33359f-18fa-4eae-81b6-d39fa9fed46b"
    },
    {
      "cell_type": "code",
      "execution_count": null,
      "metadata": {
        "id": "34859344-64b5-461b-b440-570f1c6e0ffe",
        "tags": []
      },
      "outputs": [],
      "source": [],
      "id": "34859344-64b5-461b-b440-570f1c6e0ffe"
    },
    {
      "cell_type": "markdown",
      "metadata": {
        "id": "f54acb71-ed76-4469-bd22-b084c96085af",
        "tags": []
      },
      "source": [
        "### Exercise #1.1 ###\n",
        "\n",
        "**Problem**: Print your age"
      ],
      "id": "f54acb71-ed76-4469-bd22-b084c96085af"
    },
    {
      "cell_type": "code",
      "execution_count": null,
      "metadata": {
        "id": "183d1710-a6f1-48d1-bb89-1745f7bf331d"
      },
      "outputs": [],
      "source": [],
      "id": "183d1710-a6f1-48d1-bb89-1745f7bf331d"
    },
    {
      "cell_type": "markdown",
      "metadata": {
        "id": "f202c9d1-de9a-480b-9880-c1bfbd64efc0",
        "tags": []
      },
      "source": [
        "### Exercise #1.2 ###\n",
        "\n",
        "**Problem**: Print your favorite hobby and favorite tv show on two separate lines"
      ],
      "id": "f202c9d1-de9a-480b-9880-c1bfbd64efc0"
    },
    {
      "cell_type": "code",
      "source": [],
      "metadata": {
        "id": "ZKGUsiqwqoYx"
      },
      "id": "ZKGUsiqwqoYx",
      "execution_count": null,
      "outputs": []
    },
    {
      "cell_type": "code",
      "execution_count": null,
      "metadata": {
        "id": "b596caa6-3905-4295-b23e-0d6b8fc9160a"
      },
      "outputs": [],
      "source": [],
      "id": "b596caa6-3905-4295-b23e-0d6b8fc9160a"
    },
    {
      "cell_type": "markdown",
      "metadata": {
        "id": "da22eb43-f881-41f4-acf1-b5128e73cda9"
      },
      "source": [
        "---\n",
        "### Back To Lecture\n",
        "---"
      ],
      "id": "da22eb43-f881-41f4-acf1-b5128e73cda9"
    },
    {
      "cell_type": "markdown",
      "metadata": {
        "id": "b85b8461-da01-4945-bad3-5ff461ea388f",
        "jp-MarkdownHeadingCollapsed": true,
        "tags": []
      },
      "source": [
        "## **PART #2: Variables and Data Types**"
      ],
      "id": "b85b8461-da01-4945-bad3-5ff461ea388f"
    },
    {
      "cell_type": "markdown",
      "metadata": {
        "id": "5e963b94-23d7-4e42-a5fe-b1f7aff074f4",
        "jp-MarkdownHeadingCollapsed": true,
        "tags": []
      },
      "source": [
        "### Practice Together #3 ###\n",
        "\n",
        "1. Create a variable called `course` and assign the name Introduction to Quantum Computing to it."
      ],
      "id": "5e963b94-23d7-4e42-a5fe-b1f7aff074f4"
    },
    {
      "cell_type": "code",
      "execution_count": null,
      "metadata": {
        "id": "2EKQcib-Rkyk"
      },
      "outputs": [],
      "source": [],
      "id": "2EKQcib-Rkyk"
    },
    {
      "cell_type": "markdown",
      "metadata": {
        "id": "6e942de3-3a2d-4c47-b146-b9534829531b"
      },
      "source": [
        "2. Create a variable called `age` and assign your age to it. Then print this variable out."
      ],
      "id": "6e942de3-3a2d-4c47-b146-b9534829531b"
    },
    {
      "cell_type": "code",
      "execution_count": null,
      "metadata": {
        "id": "o0sZUix1R-wT"
      },
      "outputs": [],
      "source": [],
      "id": "o0sZUix1R-wT"
    },
    {
      "cell_type": "markdown",
      "metadata": {
        "id": "ce15b020-e2cd-4a5c-9277-8bd960ea60a3"
      },
      "source": [
        "### Exercise #2.1 ###\n",
        "\n",
        "**Problem**: Create a variable named `my_school` and assign it to the school you currently attend or have previously attended. Print that variable."
      ],
      "id": "ce15b020-e2cd-4a5c-9277-8bd960ea60a3"
    },
    {
      "cell_type": "code",
      "execution_count": null,
      "metadata": {
        "id": "Kvdd3P1ySTtq"
      },
      "outputs": [],
      "source": [],
      "id": "Kvdd3P1ySTtq"
    },
    {
      "cell_type": "markdown",
      "metadata": {
        "id": "5a3ffd4e-9764-4817-af63-97af6c571fac"
      },
      "source": [
        "### Exercise #2.2 ###\n",
        "\n",
        "**Problem**: Create and name a variable with your favorite number as an integer. Print that variable."
      ],
      "id": "5a3ffd4e-9764-4817-af63-97af6c571fac"
    },
    {
      "cell_type": "code",
      "execution_count": null,
      "metadata": {
        "id": "NwCAnk9sSVC0"
      },
      "outputs": [],
      "source": [],
      "id": "NwCAnk9sSVC0"
    },
    {
      "cell_type": "markdown",
      "metadata": {
        "id": "ca347eb5-a1d0-44da-bc69-6822fd606399"
      },
      "source": [
        "### Exercise #2.3\n",
        "\n",
        "---\n",
        "\n",
        "**Problem:** Look through the given declarations. Which ones are incorrect?\n",
        "\n",
        "```\n",
        "a.  Var1 = 7\n",
        "b.  VAR5 = 8 \n",
        "c.  2var = 92\n",
        "d.  first_last_name = \"peter shor\"\n",
        "e.  Hello!World = 0.283 \n",
        "f.  variable24 = \"my favorite food is\"\n",
        "g.  str = \"string\"\n",
        "```"
      ],
      "id": "ca347eb5-a1d0-44da-bc69-6822fd606399"
    },
    {
      "cell_type": "markdown",
      "metadata": {
        "id": "44a2b35d-55c3-4929-b942-f964806459d2"
      },
      "source": [
        "---\n",
        "### Back To Lecture\n",
        "---"
      ],
      "id": "44a2b35d-55c3-4929-b942-f964806459d2"
    },
    {
      "cell_type": "markdown",
      "metadata": {
        "id": "fe35ccd4-922b-421d-97da-c9925929d366"
      },
      "source": [
        "### Exercise #2.4 ###\n",
        "\n",
        "**Problem**: Create a variable called `my_name` and assign your name to it. Using this variable, print the sentence, \"My name is [YOUR NAME]\""
      ],
      "id": "fe35ccd4-922b-421d-97da-c9925929d366"
    },
    {
      "cell_type": "code",
      "execution_count": null,
      "metadata": {
        "id": "701990b3-b5f1-4454-96cb-4c925d989d1e"
      },
      "outputs": [],
      "source": [],
      "id": "701990b3-b5f1-4454-96cb-4c925d989d1e"
    },
    {
      "cell_type": "markdown",
      "metadata": {
        "id": "6522ed2f-3f92-4010-9034-569e96b7ffd6"
      },
      "source": [
        "### Exercise #2.5 ###\n",
        "\n",
        "**Problem**: Create a variable called `class_size` and store the value 10 in it. Using this variable, print the sentence “Size of class: 10”"
      ],
      "id": "6522ed2f-3f92-4010-9034-569e96b7ffd6"
    },
    {
      "cell_type": "code",
      "execution_count": null,
      "metadata": {
        "id": "fe84436b-dced-47b6-bf17-8b66d62c58d9"
      },
      "outputs": [],
      "source": [],
      "id": "fe84436b-dced-47b6-bf17-8b66d62c58d9"
    },
    {
      "cell_type": "markdown",
      "metadata": {
        "id": "73440375-b15c-4657-8520-6e48f3608fe5"
      },
      "source": [
        "### Exercise #2.6 ###\n",
        "\n",
        "**Problem**: Copy and run the code below. Fix what is wrong with it. \n",
        "\n",
        "`print(“My favorite number is” + 8)`"
      ],
      "id": "73440375-b15c-4657-8520-6e48f3608fe5"
    },
    {
      "cell_type": "code",
      "execution_count": null,
      "metadata": {
        "id": "e3e415ff-bfdc-43d3-a5c1-f87e152d2bf2"
      },
      "outputs": [],
      "source": [],
      "id": "e3e415ff-bfdc-43d3-a5c1-f87e152d2bf2"
    },
    {
      "cell_type": "markdown",
      "metadata": {
        "id": "2ffd1868-528b-497c-9f2f-4f34e3a581a3"
      },
      "source": [
        "### Exercise #2.7 ###\n",
        "\n",
        "**Problem**: Print the following sentence using a variable called `state`:\n",
        "“I am from [state].”"
      ],
      "id": "2ffd1868-528b-497c-9f2f-4f34e3a581a3"
    },
    {
      "cell_type": "code",
      "execution_count": null,
      "metadata": {
        "id": "70d1b8a1-1679-481b-8160-2d732b196f80"
      },
      "outputs": [],
      "source": [],
      "id": "70d1b8a1-1679-481b-8160-2d732b196f80"
    },
    {
      "cell_type": "markdown",
      "metadata": {
        "jp-MarkdownHeadingCollapsed": true,
        "tags": [],
        "id": "44456e78-80d1-4b2a-aef3-27c6545d1491"
      },
      "source": [
        "---\n",
        "### Back To Lecture\n",
        "---"
      ],
      "id": "44456e78-80d1-4b2a-aef3-27c6545d1491"
    },
    {
      "cell_type": "markdown",
      "metadata": {
        "id": "64b17872-c971-4b6c-a604-e8e0522eeffb",
        "tags": []
      },
      "source": [
        "## **PART #3: Arithmetic Operators**"
      ],
      "id": "64b17872-c971-4b6c-a604-e8e0522eeffb"
    },
    {
      "cell_type": "markdown",
      "metadata": {
        "id": "f05834df-b6df-4b61-bada-127a86d8da7e"
      },
      "source": [
        "### Exercise 3.1 ###\n",
        "\n",
        "**Problem**: Print `3 + 2` and `3.0 + 2`. Note any difference in the type of output."
      ],
      "id": "f05834df-b6df-4b61-bada-127a86d8da7e"
    },
    {
      "cell_type": "code",
      "execution_count": null,
      "metadata": {
        "id": "2dc7a436-df8a-4a0a-a269-95705cf8ed4d"
      },
      "outputs": [],
      "source": [],
      "id": "2dc7a436-df8a-4a0a-a269-95705cf8ed4d"
    },
    {
      "cell_type": "markdown",
      "metadata": {
        "id": "1319f79e-1e12-477f-9e6e-08d4abd7e1cc"
      },
      "source": [
        "### Exercise 3.2 ###\n",
        "\n",
        "**Problem**: Print `3 * 2` and `3 / 2`. Note any difference in the type of output."
      ],
      "id": "1319f79e-1e12-477f-9e6e-08d4abd7e1cc"
    },
    {
      "cell_type": "code",
      "execution_count": null,
      "metadata": {
        "id": "1a46ba4b-50ea-4c9e-9c63-4d5a8ef1a419"
      },
      "outputs": [],
      "source": [],
      "id": "1a46ba4b-50ea-4c9e-9c63-4d5a8ef1a419"
    },
    {
      "cell_type": "markdown",
      "metadata": {
        "id": "4f201e76-7c41-41a1-bbb4-f1e64664afee"
      },
      "source": [
        "### Exercise 3.3 ###\n",
        "\n",
        "**Problem**: Set a variable `x = 3`. Then print the result of `x + 5`. "
      ],
      "id": "4f201e76-7c41-41a1-bbb4-f1e64664afee"
    },
    {
      "cell_type": "code",
      "execution_count": null,
      "metadata": {
        "id": "17d6eb1a-3551-4ab0-a884-3a0535ec0539"
      },
      "outputs": [],
      "source": [],
      "id": "17d6eb1a-3551-4ab0-a884-3a0535ec0539"
    },
    {
      "cell_type": "markdown",
      "metadata": {
        "id": "573d1196-ce92-4177-a3e3-df13b92e5479"
      },
      "source": [
        "### Exercise 3.4 ###\n",
        "\n",
        "**Problem**: You have 2 bananas and 5 apples. How many fruits do you have in total? Create variables called num_bananas and num_apples to store these values. Then print the sentence “The number of fruits is [NUMBER OF FRUITS]”, where NUMBER OF FRUITS is the total."
      ],
      "id": "573d1196-ce92-4177-a3e3-df13b92e5479"
    },
    {
      "cell_type": "code",
      "execution_count": null,
      "metadata": {
        "id": "bc8052c1-09ab-488d-bc02-bdb520d66432"
      },
      "outputs": [],
      "source": [],
      "id": "bc8052c1-09ab-488d-bc02-bdb520d66432"
    },
    {
      "cell_type": "markdown",
      "metadata": {
        "id": "89d9a4dc-961b-4601-8500-71238e089704"
      },
      "source": [
        "---\n",
        "### Back To Lecture\n",
        "---"
      ],
      "id": "89d9a4dc-961b-4601-8500-71238e089704"
    },
    {
      "cell_type": "markdown",
      "metadata": {
        "id": "4gsfWG59NIdC"
      },
      "source": [
        "---\n",
        "© 2022 The Coding School, All rights reserved"
      ],
      "id": "4gsfWG59NIdC"
    }
  ],
  "metadata": {
    "kernelspec": {
      "display_name": "Python 3 (ipykernel)",
      "language": "python",
      "name": "python3"
    },
    "language_info": {
      "codemirror_mode": {
        "name": "ipython",
        "version": 3
      },
      "file_extension": ".py",
      "mimetype": "text/x-python",
      "name": "python",
      "nbconvert_exporter": "python",
      "pygments_lexer": "ipython3",
      "version": "3.8.13"
    },
    "colab": {
      "provenance": []
    }
  },
  "nbformat": 4,
  "nbformat_minor": 5
}