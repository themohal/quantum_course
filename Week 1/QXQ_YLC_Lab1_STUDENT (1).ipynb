{
  "cells": [
    {
      "cell_type": "markdown",
      "id": "35fd900c-fe13-4bd5-a24d-582024e7000c",
      "metadata": {
        "id": "35fd900c-fe13-4bd5-a24d-582024e7000c",
        "tags": []
      },
      "source": [
        "<center>\n",
        "\n",
        "# Qubit by Qubit\n",
        "## Introduction to Quantum Computing\n",
        "### Week 1 - Review, Comparisons, Lists, and Functions\n",
        "### Lab notebook\n",
        "\n",
        "</center>\n",
        "\n",
        "<br>"
      ]
    },
    {
      "cell_type": "markdown",
      "source": [
        "## **Review Problems**"
      ],
      "metadata": {
        "id": "olcg9cvJe-fn"
      },
      "id": "olcg9cvJe-fn"
    },
    {
      "cell_type": "markdown",
      "source": [
        "###Exercise #1\n",
        "---\n",
        "Print the statement: \"Quantum computers use qubits.\""
      ],
      "metadata": {
        "id": "D2pFPu1vfDDY"
      },
      "id": "D2pFPu1vfDDY"
    },
    {
      "cell_type": "code",
      "source": [
        "  "
      ],
      "metadata": {
        "id": "fMIxBpD8fc7d"
      },
      "id": "fMIxBpD8fc7d",
      "execution_count": null,
      "outputs": []
    },
    {
      "cell_type": "markdown",
      "source": [
        "###Exercise #2\n",
        "---\n",
        "Create a variable called `num_cats` and assign it to 3."
      ],
      "metadata": {
        "id": "6Xsq0EKnfdMM"
      },
      "id": "6Xsq0EKnfdMM"
    },
    {
      "cell_type": "code",
      "source": [],
      "metadata": {
        "id": "V-2RI51Gfd5j"
      },
      "id": "V-2RI51Gfd5j",
      "execution_count": null,
      "outputs": []
    },
    {
      "cell_type": "markdown",
      "source": [
        "###Exercise #3\n",
        "---\n",
        "Create a program that prints \"Welcome, Simone\"."
      ],
      "metadata": {
        "id": "HmtaVACDfeVn"
      },
      "id": "HmtaVACDfeVn"
    },
    {
      "cell_type": "code",
      "source": [
        "# add code here"
      ],
      "metadata": {
        "id": "283UZEhwfert"
      },
      "id": "283UZEhwfert",
      "execution_count": null,
      "outputs": []
    },
    {
      "cell_type": "code",
      "source": [],
      "metadata": {
        "id": "2077G1DQhb8W"
      },
      "id": "2077G1DQhb8W",
      "execution_count": null,
      "outputs": []
    },
    {
      "cell_type": "markdown",
      "source": [
        "###Exercise #4\n",
        "---\n",
        "You have 3 bananas and 5 apples. How much fruit do you have in total? Create a computer program to calculate this."
      ],
      "metadata": {
        "id": "3wTV_4A1fe8I"
      },
      "id": "3wTV_4A1fe8I"
    },
    {
      "cell_type": "code",
      "source": [
        "\n",
        "# add code here"
      ],
      "metadata": {
        "id": "LY5STsPghhC7"
      },
      "id": "LY5STsPghhC7",
      "execution_count": null,
      "outputs": []
    },
    {
      "cell_type": "code",
      "source": [],
      "metadata": {
        "id": "-pNbJQFiflKp"
      },
      "id": "-pNbJQFiflKp",
      "execution_count": null,
      "outputs": []
    },
    {
      "cell_type": "markdown",
      "id": "bb814303-b86e-45d1-b0cf-09d4c484250d",
      "metadata": {
        "id": "bb814303-b86e-45d1-b0cf-09d4c484250d"
      },
      "source": [
        "---\n",
        "### Back to Lecture\n",
        "\n",
        "---"
      ]
    },
    {
      "cell_type": "markdown",
      "source": [
        "### Practice Together #1\n",
        "---\n",
        "\n",
        "Will the code below produce a True or False output?"
      ],
      "metadata": {
        "id": "zh89PFP_kJP2"
      },
      "id": "zh89PFP_kJP2"
    },
    {
      "cell_type": "code",
      "source": [
        "x = 10\n",
        "y = 15\n",
        "x > y"
      ],
      "metadata": {
        "id": "R0TVenwKkTtl"
      },
      "id": "R0TVenwKkTtl",
      "execution_count": null,
      "outputs": []
    },
    {
      "cell_type": "code",
      "source": [],
      "metadata": {
        "id": "ASZMWDPgkUnh"
      },
      "id": "ASZMWDPgkUnh",
      "execution_count": null,
      "outputs": []
    },
    {
      "cell_type": "markdown",
      "source": [
        "### Exercise #1.1\n",
        "---\n",
        "Is the problem below True or False?"
      ],
      "metadata": {
        "id": "Tgjq0a6qlUhb"
      },
      "id": "Tgjq0a6qlUhb"
    },
    {
      "cell_type": "code",
      "source": [
        "apples = 3\n",
        "oranges = 7\n",
        "apples == oranges"
      ],
      "metadata": {
        "id": "Kdsow7hxlYNN"
      },
      "id": "Kdsow7hxlYNN",
      "execution_count": null,
      "outputs": []
    },
    {
      "cell_type": "code",
      "source": [
        "  "
      ],
      "metadata": {
        "id": "2WV7ZPqhlZAL"
      },
      "id": "2WV7ZPqhlZAL",
      "execution_count": null,
      "outputs": []
    },
    {
      "cell_type": "markdown",
      "source": [
        "### Exercise #1.2\n",
        "---\n",
        "Is the problem below True or False?"
      ],
      "metadata": {
        "id": "zaNQZMpFlezt"
      },
      "id": "zaNQZMpFlezt"
    },
    {
      "cell_type": "code",
      "source": [
        "num_cookies = 100\n",
        "num_cakes = 100\n",
        "num_cookies == num_cakes"
      ],
      "metadata": {
        "id": "49ra-lNhljHK"
      },
      "id": "49ra-lNhljHK",
      "execution_count": null,
      "outputs": []
    },
    {
      "cell_type": "code",
      "source": [],
      "metadata": {
        "id": "t7v5FcTyl-Dm"
      },
      "id": "t7v5FcTyl-Dm",
      "execution_count": null,
      "outputs": []
    },
    {
      "cell_type": "markdown",
      "id": "66cbed8c-8b19-4a08-bb45-5642d31fc9d2",
      "metadata": {
        "id": "66cbed8c-8b19-4a08-bb45-5642d31fc9d2"
      },
      "source": [
        "---\n",
        "### Back to Lecture\n",
        "\n",
        "---"
      ]
    },
    {
      "cell_type": "markdown",
      "source": [
        "### Practice Together #2\n",
        "---\n",
        "Create a list of the following three movies and call it `oscar_movies`: Moonlight, Black Panther, Coda.\n"
      ],
      "metadata": {
        "id": "-vIBFLiLmZwS"
      },
      "id": "-vIBFLiLmZwS"
    },
    {
      "cell_type": "code",
      "source": [],
      "metadata": {
        "id": "P-pey7JNm1dL"
      },
      "id": "P-pey7JNm1dL",
      "execution_count": null,
      "outputs": []
    },
    {
      "cell_type": "markdown",
      "source": [
        "---\n",
        "### Back to Lecture\n",
        "\n",
        "---"
      ],
      "metadata": {
        "id": "U3UYT5t5nr3c"
      },
      "id": "U3UYT5t5nr3c"
    },
    {
      "cell_type": "markdown",
      "source": [
        "### Practice Together #3\n",
        "---\n",
        "1. Use the list below and index for Spanish.\n",
        "\n"
      ],
      "metadata": {
        "id": "D-bjuiRLnq5w"
      },
      "id": "D-bjuiRLnq5w"
    },
    {
      "cell_type": "code",
      "source": [
        "languages = [\"French\", \"Arabic\", \"Spanish\"]\n"
      ],
      "metadata": {
        "id": "zbN7-UWCoLch"
      },
      "id": "zbN7-UWCoLch",
      "execution_count": null,
      "outputs": []
    },
    {
      "cell_type": "markdown",
      "source": [
        "2. Use the list below and index for 104. "
      ],
      "metadata": {
        "id": "M0_MNpHBouWQ"
      },
      "id": "M0_MNpHBouWQ"
    },
    {
      "cell_type": "code",
      "source": [
        "temperature = [89, 92, 93, 104, 107, 108]"
      ],
      "metadata": {
        "id": "RMIdyvYOour9"
      },
      "id": "RMIdyvYOour9",
      "execution_count": null,
      "outputs": []
    },
    {
      "cell_type": "markdown",
      "source": [
        "### Exercise #3.1\n",
        "---\n",
        "\n",
        "Using the list `planets`, index for the planet Jupiter."
      ],
      "metadata": {
        "id": "ZNKVhV3jpdqe"
      },
      "id": "ZNKVhV3jpdqe"
    },
    {
      "cell_type": "code",
      "source": [
        "planets = [\"Mercury\", \"Venus\", \"Earth\", \"Mars\", \"Jupiter\", \"Saturn\", \"Uranus\", \"Neptune\"]"
      ],
      "metadata": {
        "id": "nniRjPT8pjHa"
      },
      "id": "nniRjPT8pjHa",
      "execution_count": null,
      "outputs": []
    },
    {
      "cell_type": "code",
      "source": [],
      "metadata": {
        "id": "WhKd4k9zp3d8"
      },
      "id": "WhKd4k9zp3d8",
      "execution_count": null,
      "outputs": []
    },
    {
      "cell_type": "markdown",
      "source": [
        "### Exercise #3.2\n",
        "---\n",
        "\n",
        "Using the list `sports`, index for rowing."
      ],
      "metadata": {
        "id": "OKLMZgKopjch"
      },
      "id": "OKLMZgKopjch"
    },
    {
      "cell_type": "code",
      "source": [
        "sports = [\"rowing\", \"weightlifting\", 'mountain biking', \"taekwondo\", \"field hockey\"]"
      ],
      "metadata": {
        "id": "DkDiPYb0qDWg"
      },
      "id": "DkDiPYb0qDWg",
      "execution_count": null,
      "outputs": []
    },
    {
      "cell_type": "code",
      "source": [],
      "metadata": {
        "id": "PW3vUASkqScM"
      },
      "id": "PW3vUASkqScM",
      "execution_count": null,
      "outputs": []
    },
    {
      "cell_type": "markdown",
      "source": [
        "---\n",
        "### Back to Lecture\n",
        "\n",
        "---"
      ],
      "metadata": {
        "id": "sKfg6C5YtXt0"
      },
      "id": "sKfg6C5YtXt0"
    },
    {
      "cell_type": "markdown",
      "source": [
        "### Practice Together #4\n",
        "---\n",
        "1. Starting with an empty list, create a list that ultimately looks like this:\n",
        "\n",
        "```\n",
        "list = [“a”, “b”, “c”]\n",
        "\n",
        "```\n",
        "\n"
      ],
      "metadata": {
        "id": "1CrbdeHjrX02"
      },
      "id": "1CrbdeHjrX02"
    },
    {
      "cell_type": "code",
      "source": [],
      "metadata": {
        "id": "yCu6atqIrd2J"
      },
      "id": "yCu6atqIrd2J",
      "execution_count": null,
      "outputs": []
    },
    {
      "cell_type": "markdown",
      "source": [
        "2. Remove 'b'."
      ],
      "metadata": {
        "id": "X531X6n4rwtR"
      },
      "id": "X531X6n4rwtR"
    },
    {
      "cell_type": "code",
      "source": [],
      "metadata": {
        "id": "s1ZCAeLQrz8C"
      },
      "id": "s1ZCAeLQrz8C",
      "execution_count": null,
      "outputs": []
    },
    {
      "cell_type": "markdown",
      "source": [
        "Use the following list for Problems 4.1 - 4.3:"
      ],
      "metadata": {
        "id": "4tGG8FjfsPwz"
      },
      "id": "4tGG8FjfsPwz"
    },
    {
      "cell_type": "code",
      "source": [
        "coding_languages = [\"Python\", \"Java\", \"C#\", \"R\"]"
      ],
      "metadata": {
        "id": "7N26YSAgsYG6"
      },
      "id": "7N26YSAgsYG6",
      "execution_count": null,
      "outputs": []
    },
    {
      "cell_type": "markdown",
      "source": [
        "### Exercise #4.1\n",
        "---\n",
        "Remove the programming language Java from the list."
      ],
      "metadata": {
        "id": "Cp4v1weasmN_"
      },
      "id": "Cp4v1weasmN_"
    },
    {
      "cell_type": "code",
      "source": [],
      "metadata": {
        "id": "zSxrJTt_soTA"
      },
      "id": "zSxrJTt_soTA",
      "execution_count": null,
      "outputs": []
    },
    {
      "cell_type": "markdown",
      "source": [
        "### Exercise #4.2\n",
        "---\n",
        "Add `Javascript`."
      ],
      "metadata": {
        "id": "__vfMTbMsok2"
      },
      "id": "__vfMTbMsok2"
    },
    {
      "cell_type": "code",
      "source": [],
      "metadata": {
        "id": "DJMeTKPpso-4"
      },
      "id": "DJMeTKPpso-4",
      "execution_count": null,
      "outputs": []
    },
    {
      "cell_type": "markdown",
      "source": [
        "### Exercise #4.3\n",
        "---\n",
        "Add `Go`."
      ],
      "metadata": {
        "id": "oycGZvJGs12Q"
      },
      "id": "oycGZvJGs12Q"
    },
    {
      "cell_type": "code",
      "source": [],
      "metadata": {
        "id": "AZpMx37us5in"
      },
      "id": "AZpMx37us5in",
      "execution_count": null,
      "outputs": []
    },
    {
      "cell_type": "markdown",
      "source": [
        "---\n",
        "### Back to Lecture\n",
        "\n",
        "---"
      ],
      "metadata": {
        "id": "m8_sDMn4tYoy"
      },
      "id": "m8_sDMn4tYoy"
    },
    {
      "cell_type": "markdown",
      "source": [
        "### Practice Together #5\n",
        "---\n",
        "\n",
        "1. Using the list below, replace 104 with 103. \n"
      ],
      "metadata": {
        "id": "y_jayqxJtTZ1"
      },
      "id": "y_jayqxJtTZ1"
    },
    {
      "cell_type": "code",
      "source": [
        "list = [101, 102, 104]"
      ],
      "metadata": {
        "id": "xfkVOyFUtR7p"
      },
      "id": "xfkVOyFUtR7p",
      "execution_count": null,
      "outputs": []
    },
    {
      "cell_type": "code",
      "source": [],
      "metadata": {
        "id": "xTIp0t2Rtup8"
      },
      "id": "xTIp0t2Rtup8",
      "execution_count": null,
      "outputs": []
    },
    {
      "cell_type": "markdown",
      "source": [
        "2. Using the list below, replace `rowing` with `swimming`."
      ],
      "metadata": {
        "id": "-mSuz8Tbuy-X"
      },
      "id": "-mSuz8Tbuy-X"
    },
    {
      "cell_type": "code",
      "source": [
        "sports = [\"rowing\", \"taekwondo\", \" hockey\"]"
      ],
      "metadata": {
        "id": "s4t_aemnuyNn"
      },
      "id": "s4t_aemnuyNn",
      "execution_count": null,
      "outputs": []
    },
    {
      "cell_type": "code",
      "source": [],
      "metadata": {
        "id": "1cVtXkcxu1PW"
      },
      "id": "1cVtXkcxu1PW",
      "execution_count": null,
      "outputs": []
    },
    {
      "cell_type": "markdown",
      "source": [
        "---\n",
        "### Back to Lecture\n",
        "\n",
        "---"
      ],
      "metadata": {
        "id": "K0M6t23QyoIB"
      },
      "id": "K0M6t23QyoIB"
    },
    {
      "cell_type": "markdown",
      "source": [
        "### Practice Together #6\n",
        "---\n",
        "\n",
        "1. Create a function called `greeting`. This function takes in no arguments. This function should print the text `\"Welcome back!\"` and return nothing.\n",
        "\n",
        "Then call this function."
      ],
      "metadata": {
        "id": "X0ovuKSdyjxF"
      },
      "id": "X0ovuKSdyjxF"
    },
    {
      "cell_type": "code",
      "source": [],
      "metadata": {
        "id": "g47IobRQyk32"
      },
      "id": "g47IobRQyk32",
      "execution_count": null,
      "outputs": []
    },
    {
      "cell_type": "markdown",
      "source": [
        "2. Create a function called `my_name`. This function should take a an argument containing a string and print out `\"My name is _______\"` where the `___` represents the value of the argument.\n",
        "\n",
        "Call your function to make sure it works."
      ],
      "metadata": {
        "id": "OG-w5HLMy5Er"
      },
      "id": "OG-w5HLMy5Er"
    },
    {
      "cell_type": "code",
      "source": [],
      "metadata": {
        "id": "_-miUMi8y5jP"
      },
      "id": "_-miUMi8y5jP",
      "execution_count": null,
      "outputs": []
    },
    {
      "cell_type": "markdown",
      "source": [
        "---\n",
        "Copyright 2022 The Coding School, All rights reserved"
      ],
      "metadata": {
        "id": "qraH1Ov70HqZ"
      },
      "id": "qraH1Ov70HqZ"
    }
  ],
  "metadata": {
    "colab": {
      "collapsed_sections": [],
      "provenance": []
    },
    "kernelspec": {
      "display_name": "Python 3 (ipykernel)",
      "language": "python",
      "name": "python3"
    },
    "language_info": {
      "codemirror_mode": {
        "name": "ipython",
        "version": 3
      },
      "file_extension": ".py",
      "mimetype": "text/x-python",
      "name": "python",
      "nbconvert_exporter": "python",
      "pygments_lexer": "ipython3",
      "version": "3.8.13"
    }
  },
  "nbformat": 4,
  "nbformat_minor": 5
}