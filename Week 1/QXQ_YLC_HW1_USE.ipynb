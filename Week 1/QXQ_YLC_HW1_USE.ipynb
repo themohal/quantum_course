{
  "cells": [
    {
      "cell_type": "markdown",
      "metadata": {
        "id": "VpJoSzHkmseh"
      },
      "source": [
        "# **Homework - Week 1 (Optional Practice)**\n",
        "\n",
        "---\n",
        "**Topics Covered in the Homework:**\n",
        "\n",
        "*   Print functions\n",
        "*   Variables\n",
        "*   Arithmetic operators\n",
        "*   Comparisons\n",
        "*   Lists\n",
        "*   Functions\n",
        "\n",
        "\n",
        "\n",
        "**NOTE:** This Python practice is **optional**. These problems are intended to give you some more practice with the Python concepts we have learned. It is a good idea to try at least one or two problems in each section, but if you are confident with that material then you can skip the rest of the problems and move onto the next section.\n",
        "\n",
        "---"
      ]
    },
    {
      "cell_type": "markdown",
      "metadata": {
        "id": "4Ft6xAhwYqvN",
        "jp-MarkdownHeadingCollapsed": true,
        "tags": []
      },
      "source": [
        "## **The Print Function**\n",
        "---"
      ]
    },
    {
      "cell_type": "markdown",
      "metadata": {
        "id": "XQ3zpD9G_rb3",
        "tags": []
      },
      "source": [
        "#### **Problem #1:** Print `Hello friends.`"
      ]
    },
    {
      "cell_type": "code",
      "execution_count": 1,
      "metadata": {
        "id": "czESqJz_AKQP",
        "outputId": "a52f5dfb-b7f1-4094-d924-53db165d17df",
        "colab": {
          "base_uri": "https://localhost:8080/"
        }
      },
      "outputs": [
        {
          "output_type": "stream",
          "name": "stdout",
          "text": [
            "Hello friends\n"
          ]
        }
      ],
      "source": [
        "print(\"Hello friends\")"
      ]
    },
    {
      "cell_type": "markdown",
      "metadata": {
        "id": "QinoVuPOAdBg"
      },
      "source": [
        "#### **Problem #2:** Print the number `10`."
      ]
    },
    {
      "cell_type": "code",
      "execution_count": 2,
      "metadata": {
        "id": "z4kNYrt2Nj0W",
        "outputId": "311f469f-3b6c-4aba-a1c1-6ce186d80741",
        "colab": {
          "base_uri": "https://localhost:8080/"
        }
      },
      "outputs": [
        {
          "output_type": "stream",
          "name": "stdout",
          "text": [
            "10\n"
          ]
        }
      ],
      "source": [
        "print(10)"
      ]
    },
    {
      "cell_type": "markdown",
      "metadata": {
        "id": "oMCHyhfet4wi"
      },
      "source": [
        "#### **Problem #3:** Print the names of three countries."
      ]
    },
    {
      "cell_type": "code",
      "source": [
        "print(\"Pakistan, China, Iran\")"
      ],
      "metadata": {
        "id": "kwzObg5POhPY",
        "outputId": "629d884a-ab81-49f5-cd16-531c77133141",
        "colab": {
          "base_uri": "https://localhost:8080/"
        }
      },
      "execution_count": 3,
      "outputs": [
        {
          "output_type": "stream",
          "name": "stdout",
          "text": [
            "Pakistan, China, Iran\n"
          ]
        }
      ]
    },
    {
      "cell_type": "markdown",
      "metadata": {
        "id": "brKDsi2BuT75"
      },
      "source": [
        "#### **Problem #4:** Print the year."
      ]
    },
    {
      "cell_type": "code",
      "execution_count": 4,
      "metadata": {
        "id": "9liBz_fUus6T",
        "outputId": "74bf2d9e-c52f-476c-8200-8c32bbda911b",
        "colab": {
          "base_uri": "https://localhost:8080/"
        }
      },
      "outputs": [
        {
          "output_type": "stream",
          "name": "stdout",
          "text": [
            "2022\n"
          ]
        }
      ],
      "source": [
        "print(2022)"
      ]
    },
    {
      "cell_type": "markdown",
      "metadata": {
        "id": "eiJEhAoAalKG",
        "jp-MarkdownHeadingCollapsed": true,
        "tags": []
      },
      "source": [
        "## **Variables**"
      ]
    },
    {
      "cell_type": "markdown",
      "metadata": {
        "id": "DrNIKf1TAo1z"
      },
      "source": [
        "#### **Problem #1:** Create a variable called `popular_name` and assign it to the name 'Olivia'."
      ]
    },
    {
      "cell_type": "code",
      "execution_count": 5,
      "metadata": {
        "id": "sVICWNIOAx2V"
      },
      "outputs": [],
      "source": [
        "popular_name = 'Olivia'"
      ]
    },
    {
      "cell_type": "markdown",
      "metadata": {
        "id": "oLDz58wguUFM"
      },
      "source": [
        "#### **Problem #2:** Create a variable `birth_year` and set it equal to the year your were born. Then print, `\"I was born in <birth_year>\"`"
      ]
    },
    {
      "cell_type": "code",
      "execution_count": 6,
      "metadata": {
        "id": "aSIo7OJHvEAu"
      },
      "outputs": [],
      "source": [
        "birth_year = \"I was born in 1996\""
      ]
    },
    {
      "cell_type": "markdown",
      "metadata": {
        "id": "-bnV4zY2yMs8"
      },
      "source": [
        "#### **Problem #3:** Create a variable `name` and assign it to your name. Print `name`. "
      ]
    },
    {
      "cell_type": "code",
      "execution_count": 7,
      "metadata": {
        "id": "xLdAevEYyREb",
        "outputId": "3026a8e9-7318-4c99-8476-6dfee6d885b1",
        "colab": {
          "base_uri": "https://localhost:8080/"
        }
      },
      "outputs": [
        {
          "output_type": "stream",
          "name": "stdout",
          "text": [
            "Muhammad Farjad Ali Raza\n"
          ]
        }
      ],
      "source": [
        "name = \"Muhammad Farjad Ali Raza\"\n",
        "print(name)"
      ]
    },
    {
      "cell_type": "markdown",
      "metadata": {
        "id": "8E_hjAwnzJIJ"
      },
      "source": [
        "#### **Problem #4:** Label the following data types.\n",
        "\n",
        "**NOTE**: You can change the text below by double clicking on the cell."
      ]
    },
    {
      "cell_type": "markdown",
      "metadata": {
        "id": "UgjKT51TYqvW"
      },
      "source": [
        "```\n",
        "2 int\n",
        "8.9 float\n",
        "\"Train\" string\n",
        "[\"string\"] array\n",
        "5.0 float\n",
        "```"
      ]
    },
    {
      "cell_type": "markdown",
      "metadata": {
        "id": "GBHg9Rpo3CUS",
        "tags": []
      },
      "source": [
        "#### **Problem #5:** Using only variables, print the statement `\"I love coding\"`."
      ]
    },
    {
      "cell_type": "code",
      "execution_count": 8,
      "metadata": {
        "id": "p2ZOU4TrNj0c",
        "outputId": "b9775883-ed08-4705-b8fd-eb0231ada7c3",
        "colab": {
          "base_uri": "https://localhost:8080/"
        }
      },
      "outputs": [
        {
          "output_type": "stream",
          "name": "stdout",
          "text": [
            "I love coding\n"
          ]
        }
      ],
      "source": [
        "t1 = \"I love coding\"\n",
        "print(t1)"
      ]
    },
    {
      "cell_type": "markdown",
      "metadata": {
        "id": "X5NDfAeTa3HX",
        "jp-MarkdownHeadingCollapsed": true,
        "tags": []
      },
      "source": [
        "## **Arithmetic**"
      ]
    },
    {
      "cell_type": "markdown",
      "metadata": {
        "id": "pHe7t_BKNj0c"
      },
      "source": [
        "#### **Problem #1**: Print the result of 6 divided by 3."
      ]
    },
    {
      "cell_type": "code",
      "execution_count": 9,
      "metadata": {
        "id": "M8PLR4bQNj0c",
        "outputId": "4e4a9ee8-592b-4104-a718-9b5d0693ef44",
        "colab": {
          "base_uri": "https://localhost:8080/"
        }
      },
      "outputs": [
        {
          "output_type": "stream",
          "name": "stdout",
          "text": [
            "2.0\n"
          ]
        }
      ],
      "source": [
        "print(6/3)"
      ]
    },
    {
      "cell_type": "markdown",
      "source": [
        "#### **Problem #2**: Print 2 + 2."
      ],
      "metadata": {
        "id": "VZzbhUgsR1Qq"
      }
    },
    {
      "cell_type": "code",
      "source": [
        "2+2"
      ],
      "metadata": {
        "id": "xRZbaJ9XR_w3",
        "outputId": "83c674ff-8221-4b84-ee34-30a41f6ba18b",
        "colab": {
          "base_uri": "https://localhost:8080/"
        }
      },
      "execution_count": 10,
      "outputs": [
        {
          "output_type": "execute_result",
          "data": {
            "text/plain": [
              "4"
            ]
          },
          "metadata": {},
          "execution_count": 10
        }
      ]
    },
    {
      "cell_type": "markdown",
      "metadata": {
        "id": "rn1m4Qxf404c",
        "tags": []
      },
      "source": [
        "####  **Problem #3:** Use code to solve this problem: Jenny had 25 marbles. She received ten more from her best friend, Alexa. Jenny's younger brother took 20 marbles from Jenny's room. How many marbles does Jenny have now?"
      ]
    },
    {
      "cell_type": "code",
      "execution_count": 11,
      "metadata": {
        "id": "fIwSmGAX43HV",
        "outputId": "802db9f9-e705-4dd0-a72c-b46dde7e65ec",
        "colab": {
          "base_uri": "https://localhost:8080/"
        }
      },
      "outputs": [
        {
          "output_type": "stream",
          "name": "stdout",
          "text": [
            "15\n"
          ]
        }
      ],
      "source": [
        "jenny = 25\n",
        "alexa = 10\n",
        "total_marbles = jenny+alexa\n",
        "brother_took = 20\n",
        "print(total_marbles-brother_took)"
      ]
    },
    {
      "cell_type": "markdown",
      "metadata": {
        "jp-MarkdownHeadingCollapsed": true,
        "tags": [],
        "id": "EDlmhlMBNj0e"
      },
      "source": [
        "## **Comments and Debugging**"
      ]
    },
    {
      "cell_type": "markdown",
      "metadata": {
        "id": "BflShJAaNj0f"
      },
      "source": [
        "####  **Problem #1**: The code below is intended to output the number 6, but this doesn't happen when you run it (try it for yourself). Correct the code so that it works properly."
      ]
    },
    {
      "cell_type": "code",
      "execution_count": 12,
      "metadata": {
        "id": "mvU7yxGONj0f",
        "outputId": "8b2eba07-6973-499f-8337-632af5ee09fc",
        "colab": {
          "base_uri": "https://localhost:8080/"
        }
      },
      "outputs": [
        {
          "output_type": "stream",
          "name": "stdout",
          "text": [
            "6.0\n"
          ]
        }
      ],
      "source": [
        "x = 12\n",
        "y = 2\n",
        "print(x / y)"
      ]
    },
    {
      "cell_type": "markdown",
      "metadata": {
        "id": "YW6VJecNNj0g"
      },
      "source": [
        "####  **Problem #2**: Identify the errors in the following code: \n"
      ]
    },
    {
      "cell_type": "code",
      "source": [
        "question = \"What is a collection of quantum gates called?\"\n",
        "print(\"My question is \"+ question)"
      ],
      "metadata": {
        "id": "okwYG0P1SioZ",
        "outputId": "5feb3fcc-d3a3-4cc8-9a3d-7b5477f041a7",
        "colab": {
          "base_uri": "https://localhost:8080/"
        }
      },
      "execution_count": 13,
      "outputs": [
        {
          "output_type": "stream",
          "name": "stdout",
          "text": [
            "My question is What is a collection of quantum gates called?\n"
          ]
        }
      ]
    },
    {
      "cell_type": "markdown",
      "metadata": {
        "id": "dk6agkaXapqF",
        "jp-MarkdownHeadingCollapsed": true,
        "tags": []
      },
      "source": [
        "## **Comparisons**"
      ]
    },
    {
      "cell_type": "markdown",
      "metadata": {
        "jp-MarkdownHeadingCollapsed": true,
        "tags": [],
        "id": "UWk6NGeYNj0g"
      },
      "source": [
        "#### **Problem #1:** What will the following code output?\n",
        "```python\n",
        "num_chairs = 4\n",
        "num_people = 6\n",
        "\n",
        "print(\"Do we have enough chairs for everyone? \" + str( num_chairs >= num_people ))\n",
        "Do we have enough chairs for everyone? False\n",
        "```"
      ]
    },
    {
      "cell_type": "markdown",
      "metadata": {
        "jp-MarkdownHeadingCollapsed": true,
        "tags": [],
        "id": "7VzPhw8vNj0h"
      },
      "source": [
        "#### **Problem #2:** Which of the following statements is `True` given this declaration of variables?\n",
        "```python\n",
        "rocks = 4\n",
        "paper = 2\n",
        "scissors = 11\n",
        "```\n",
        "\n",
        "\n",
        "A) `rocks < paper` False\n",
        "\n",
        "B) `rocks >= rocks` True\n",
        "\n",
        "C) `scissors > paper` True\n",
        "\n",
        "D) `paper != scissors` True"
      ]
    },
    {
      "cell_type": "markdown",
      "metadata": {
        "tags": [],
        "id": "Aop6a1-INj0h"
      },
      "source": [
        "#### **Problem #3:** Will the following output be `True` or `False`?"
      ]
    },
    {
      "cell_type": "code",
      "execution_count": 14,
      "metadata": {
        "id": "667U9dDQNj0h",
        "outputId": "71a17576-5a51-4f38-81b6-2a620e8c2a7e",
        "colab": {
          "base_uri": "https://localhost:8080/"
        }
      },
      "outputs": [
        {
          "output_type": "execute_result",
          "data": {
            "text/plain": [
              "True"
            ]
          },
          "metadata": {},
          "execution_count": 14
        }
      ],
      "source": [
        "apples = 15\n",
        "oranges = 12\n",
        "apples >= oranges\n",
        "True"
      ]
    },
    {
      "cell_type": "markdown",
      "metadata": {
        "id": "cl9xmTIm9VAf",
        "jp-MarkdownHeadingCollapsed": true,
        "tags": []
      },
      "source": [
        "## **Lists**\n",
        "---\n"
      ]
    },
    {
      "cell_type": "markdown",
      "metadata": {
        "id": "piqucBgPUi1O"
      },
      "source": [
        "Use the list `temperatures` below to answer Problems #1-4."
      ]
    },
    {
      "cell_type": "code",
      "execution_count": 15,
      "metadata": {
        "id": "47FMiwaiUfr5"
      },
      "outputs": [],
      "source": [
        "temperatures = [60, 66, 42, 38, 71]"
      ]
    },
    {
      "cell_type": "markdown",
      "metadata": {
        "id": "uSCTnndlT-mB"
      },
      "source": [
        "#### **Problem #1:**  Replace `42` with 50."
      ]
    },
    {
      "cell_type": "code",
      "execution_count": 16,
      "metadata": {
        "id": "vJJJmW0Z3KcH"
      },
      "outputs": [],
      "source": [
        "temperatures[2] = 50"
      ]
    },
    {
      "cell_type": "markdown",
      "metadata": {
        "id": "nvxk8oq1U_UT"
      },
      "source": [
        "#### **Problem #2:** Drop value 71. "
      ]
    },
    {
      "cell_type": "code",
      "execution_count": 17,
      "metadata": {
        "id": "qiwH5yUL3Tw6",
        "outputId": "2ff0ce5d-5da7-4c6a-9a91-e66e2ede0675",
        "colab": {
          "base_uri": "https://localhost:8080/"
        }
      },
      "outputs": [
        {
          "output_type": "execute_result",
          "data": {
            "text/plain": [
              "71"
            ]
          },
          "metadata": {},
          "execution_count": 17
        }
      ],
      "source": [
        "temperatures.pop()"
      ]
    },
    {
      "cell_type": "markdown",
      "metadata": {
        "id": "B3IYGSpOVbnt"
      },
      "source": [
        "#### **Problem #3:** Add value 65."
      ]
    },
    {
      "cell_type": "code",
      "execution_count": 18,
      "metadata": {
        "id": "xaQuluOc3adP"
      },
      "outputs": [],
      "source": [
        "temperatures.append(65)"
      ]
    },
    {
      "cell_type": "markdown",
      "metadata": {
        "id": "RvCS8T9QVsOq"
      },
      "source": [
        "#### **Problem #4** Replace 65 with 85."
      ]
    },
    {
      "cell_type": "code",
      "execution_count": 19,
      "metadata": {
        "id": "wP8-nB7A3iS7"
      },
      "outputs": [],
      "source": [
        "temperatures[4] = 85"
      ]
    },
    {
      "cell_type": "markdown",
      "metadata": {
        "id": "ZQgiZ51bWriK"
      },
      "source": [
        "Use the list `subjects` below to answer Problems #5-9."
      ]
    },
    {
      "cell_type": "code",
      "execution_count": 20,
      "metadata": {
        "id": "J2hhXPkoWwCB"
      },
      "outputs": [],
      "source": [
        "subjects = [\"Math\", \"Physics\", \"Chemistry\", \"Biology\"]"
      ]
    },
    {
      "cell_type": "markdown",
      "metadata": {
        "id": "lASyq8zGW1xF"
      },
      "source": [
        "#### **Problem #5:** Add Calculus."
      ]
    },
    {
      "cell_type": "code",
      "execution_count": 21,
      "metadata": {
        "id": "M6McB8Tt4RiJ"
      },
      "outputs": [],
      "source": [
        "subjects.append(\"Calculus\")"
      ]
    },
    {
      "cell_type": "markdown",
      "metadata": {
        "id": "RmwkksaCW4gX"
      },
      "source": [
        "#### **Problem #6:** Drop Math."
      ]
    },
    {
      "cell_type": "code",
      "execution_count": 22,
      "metadata": {
        "id": "zE0vh7R44XzU"
      },
      "outputs": [],
      "source": [
        "subjects.remove(\"Math\")"
      ]
    },
    {
      "cell_type": "code",
      "source": [
        "print(subjects)"
      ],
      "metadata": {
        "id": "sjSZcVLK6gKE",
        "outputId": "9a249bbb-13ce-4a42-8a7f-9e91ecd06de8",
        "colab": {
          "base_uri": "https://localhost:8080/"
        }
      },
      "execution_count": 23,
      "outputs": [
        {
          "output_type": "stream",
          "name": "stdout",
          "text": [
            "['Physics', 'Chemistry', 'Biology', 'Calculus']\n"
          ]
        }
      ]
    },
    {
      "cell_type": "markdown",
      "metadata": {
        "id": "jZ8AJlrVW5k2"
      },
      "source": [
        "#### **Problem #7:** Replace Physics with AP Physics."
      ]
    },
    {
      "cell_type": "code",
      "execution_count": 24,
      "metadata": {
        "id": "NGn2rRQl4EoB"
      },
      "outputs": [],
      "source": [
        "subjects[0] = \"AP Physics\""
      ]
    },
    {
      "cell_type": "markdown",
      "metadata": {
        "id": "Xj6gU-xDW9Oj"
      },
      "source": [
        "#### **Problem #8:** Replace Biology with AP Bio."
      ]
    },
    {
      "cell_type": "code",
      "execution_count": 25,
      "metadata": {
        "id": "sw0cpC5aW-oq"
      },
      "outputs": [],
      "source": [
        "subjects[2] = \"AP Bio\""
      ]
    },
    {
      "cell_type": "code",
      "source": [
        "print(subjects)"
      ],
      "metadata": {
        "id": "vRnwTQt-6VKI",
        "outputId": "9515c0d3-8ad5-4647-905b-946b31e6f603",
        "colab": {
          "base_uri": "https://localhost:8080/"
        }
      },
      "execution_count": 26,
      "outputs": [
        {
          "output_type": "stream",
          "name": "stdout",
          "text": [
            "['AP Physics', 'Chemistry', 'AP Bio', 'Calculus']\n"
          ]
        }
      ]
    },
    {
      "cell_type": "markdown",
      "metadata": {
        "id": "-2timCvfW-9g"
      },
      "source": [
        "#### **Problem #9:** Drop Calculus. "
      ]
    },
    {
      "cell_type": "code",
      "execution_count": 27,
      "metadata": {
        "id": "rMxJuZ_7HvU-"
      },
      "outputs": [],
      "source": [
        "subjects.remove(\"Calculus\")"
      ]
    },
    {
      "cell_type": "markdown",
      "metadata": {
        "id": "pvoRnBcN5F00"
      },
      "source": [
        "Use the list `attendance` below to answer Problems #10-14."
      ]
    },
    {
      "cell_type": "code",
      "execution_count": 28,
      "metadata": {
        "id": "JQk7FsxI5ZZD"
      },
      "outputs": [],
      "source": [
        "attendance = [\"Ellie\", \"Kyle\", \"Deiondre\", \"Zoe\", \"Joaquin\", \"Jo\", \"Liv\"]"
      ]
    },
    {
      "cell_type": "markdown",
      "metadata": {
        "id": "wnQo7Pzb5TLE"
      },
      "source": [
        "#### **Problem #10:** You forgot to add a student. Add Valentina.\n",
        "\n"
      ]
    },
    {
      "cell_type": "code",
      "execution_count": 29,
      "metadata": {
        "id": "1w_O6_6w5sKK"
      },
      "outputs": [],
      "source": [
        "attendance.append(\"Valentina\")"
      ]
    },
    {
      "cell_type": "markdown",
      "metadata": {
        "id": "Jr5a9Fxz5UOq"
      },
      "source": [
        "#### **Problem #11:** Joaquin accidentally got marked present when he is absent. Remove Joaquin."
      ]
    },
    {
      "cell_type": "code",
      "execution_count": 30,
      "metadata": {
        "id": "Sl0DUTvr6T0v"
      },
      "outputs": [],
      "source": [
        "attendance.remove(\"Joaquin\")"
      ]
    },
    {
      "cell_type": "markdown",
      "metadata": {
        "id": "rOhwfoxJ5VTz"
      },
      "source": [
        "#### **Problem #12:** It looks like one fo the names wasn't typed correctly. Change \"Jo\" to \"Josh\"."
      ]
    },
    {
      "cell_type": "code",
      "source": [
        "attendance"
      ],
      "metadata": {
        "id": "CfoHq20FXLKL",
        "outputId": "6568cd42-8c4a-45e2-c40d-e13da309b04f",
        "colab": {
          "base_uri": "https://localhost:8080/"
        }
      },
      "execution_count": 31,
      "outputs": [
        {
          "output_type": "execute_result",
          "data": {
            "text/plain": [
              "['Ellie', 'Kyle', 'Deiondre', 'Zoe', 'Jo', 'Liv', 'Valentina']"
            ]
          },
          "metadata": {},
          "execution_count": 31
        }
      ]
    },
    {
      "cell_type": "code",
      "execution_count": 32,
      "metadata": {
        "id": "h23BcAiN7xpL"
      },
      "outputs": [],
      "source": [
        "attendance[4] = \"Josh\""
      ]
    },
    {
      "cell_type": "markdown",
      "metadata": {
        "id": "ZHXLNh_q5WXQ"
      },
      "source": [
        "#### **Problem #13:** Kyle prefers going by Ky. Update the attendance to reflect this preference."
      ]
    },
    {
      "cell_type": "code",
      "execution_count": 33,
      "metadata": {
        "id": "JPihwmTT8UAj"
      },
      "outputs": [],
      "source": [
        "attendance[1] = \"Ky\""
      ]
    },
    {
      "cell_type": "markdown",
      "metadata": {
        "id": "H1x4fWj65YLV"
      },
      "source": [
        "#### **Problem #14:** Another student arrived. Add Akilah to the attendance."
      ]
    },
    {
      "cell_type": "code",
      "execution_count": 34,
      "metadata": {
        "id": "pgMjpUr18a8a"
      },
      "outputs": [],
      "source": [
        "attendance.append(\"Akilah\")"
      ]
    },
    {
      "cell_type": "markdown",
      "metadata": {
        "jp-MarkdownHeadingCollapsed": true,
        "tags": [],
        "id": "y6F6xQ6BNj0w"
      },
      "source": [
        "## **Defining Functions**\n",
        "---"
      ]
    },
    {
      "cell_type": "markdown",
      "metadata": {
        "id": "0sR3rHJK_TdA"
      },
      "source": [
        "#### **Problem #1.** How many parameters does the following function have?\n",
        "\n",
        "```\n",
        "def hello():\n",
        "  print(\"Hello!\")\n",
        "```"
      ]
    },
    {
      "cell_type": "code",
      "source": [
        "0"
      ],
      "metadata": {
        "id": "0CDKIFXwapfs",
        "outputId": "c694fddb-2047-4d67-a5ee-dc4106c37014",
        "colab": {
          "base_uri": "https://localhost:8080/"
        }
      },
      "execution_count": 35,
      "outputs": [
        {
          "output_type": "execute_result",
          "data": {
            "text/plain": [
              "0"
            ]
          },
          "metadata": {},
          "execution_count": 35
        }
      ]
    },
    {
      "cell_type": "markdown",
      "metadata": {
        "id": "xbH67uoR_S5W"
      },
      "source": [
        "#### **Problem #2:** Looking at the following function, describe what it will do when called.\n",
        "```\n",
        "def mystery(x, y):\n",
        "  print(x + y)\n",
        "```"
      ]
    },
    {
      "cell_type": "code",
      "source": [
        "\"takes two numbers and adds them\""
      ],
      "metadata": {
        "id": "zgl79p6zbvfP",
        "outputId": "1bdd7044-ad4b-4c3e-fdc8-98314f27a305",
        "colab": {
          "base_uri": "https://localhost:8080/",
          "height": 38
        }
      },
      "execution_count": 37,
      "outputs": [
        {
          "output_type": "execute_result",
          "data": {
            "text/plain": [
              "'takes two numbers and adds them'"
            ],
            "application/vnd.google.colaboratory.intrinsic+json": {
              "type": "string"
            }
          },
          "metadata": {},
          "execution_count": 37
        }
      ]
    },
    {
      "cell_type": "markdown",
      "metadata": {
        "id": "ACGVYZ6X_UYX"
      },
      "source": [
        "#### **Problem #3:** How many paramters does the following function have?\n",
        "```\n",
        "def params(param):\n",
        "  print(\"You passed \" + str(param) + \" as a parameter\")\n",
        "```"
      ]
    },
    {
      "cell_type": "code",
      "execution_count": 38,
      "metadata": {
        "id": "O6j_ViRtAnPz",
        "outputId": "cbf34c77-44bf-4769-c62c-b4ef72acfcdf",
        "colab": {
          "base_uri": "https://localhost:8080/",
          "height": 38
        }
      },
      "outputs": [
        {
          "output_type": "execute_result",
          "data": {
            "text/plain": [
              "'One parameter'"
            ],
            "application/vnd.google.colaboratory.intrinsic+json": {
              "type": "string"
            }
          },
          "metadata": {},
          "execution_count": 38
        }
      ],
      "source": [
        "\"One parameter\""
      ]
    },
    {
      "cell_type": "markdown",
      "metadata": {
        "id": "K9MYkRd4_Vas"
      },
      "source": [
        "#### **Problem #4:** Fill in the following function so it will add the first two numbers, then subtract the third and print the result."
      ]
    },
    {
      "cell_type": "code",
      "execution_count": 39,
      "metadata": {
        "id": "V7iFh61xA1H0"
      },
      "outputs": [],
      "source": [
        "def math_func(num1, num2, num3):\n",
        "  print((num1+num2)-num3)\n",
        "  "
      ]
    },
    {
      "cell_type": "markdown",
      "metadata": {
        "id": "ToAzo9oZ_Whu"
      },
      "source": [
        "#### **Problem #5:** Fill in the following function so it prints the two names in the format: `\"Name One: <name1>, Name Two: <name2>\"`"
      ]
    },
    {
      "cell_type": "code",
      "execution_count": 42,
      "metadata": {
        "id": "5YOE6WxLBPIm"
      },
      "outputs": [],
      "source": [
        "def two_names(name1, name2):\n",
        "  print(\"Name One: \"+name1+ \", Name Two: \"+name2)"
      ]
    },
    {
      "cell_type": "markdown",
      "metadata": {
        "id": "DWr4zAvn_ZwQ"
      },
      "source": [
        "#### **Challenge Problem:** Create a function that accepts two strings and prints both of them with a space between them."
      ]
    },
    {
      "cell_type": "code",
      "execution_count": 43,
      "metadata": {
        "id": "UCAOMCWtCTYR"
      },
      "outputs": [],
      "source": [
        "def s(s1,s2):\n",
        "  print(\"\"+s1+\" \"+s2)"
      ]
    },
    {
      "cell_type": "markdown",
      "metadata": {
        "id": "aVyYQFjY_a2i"
      },
      "source": [
        "#### **Challenge Problem:** Write a function that accepts two parameters. One being a list, and the other an item to add to the list. Add the item to the list, then print this new list."
      ]
    },
    {
      "cell_type": "code",
      "execution_count": 44,
      "metadata": {
        "id": "I480S2upDGAa"
      },
      "outputs": [],
      "source": [
        "def add_to_list(list_name, item):\n",
        "  list_name.append(item)\n",
        "  print(list_name)"
      ]
    },
    {
      "cell_type": "markdown",
      "source": [
        "---\n",
        "Copyright 2022 The Coding School, All rights reserved"
      ],
      "metadata": {
        "id": "gdpTtUR1cZT2"
      }
    }
  ],
  "metadata": {
    "colab": {
      "provenance": []
    },
    "kernelspec": {
      "display_name": "Python 3 (ipykernel)",
      "language": "python",
      "name": "python3"
    },
    "language_info": {
      "codemirror_mode": {
        "name": "ipython",
        "version": 3
      },
      "file_extension": ".py",
      "mimetype": "text/x-python",
      "name": "python",
      "nbconvert_exporter": "python",
      "pygments_lexer": "ipython3",
      "version": "3.8.13"
    }
  },
  "nbformat": 4,
  "nbformat_minor": 0
}