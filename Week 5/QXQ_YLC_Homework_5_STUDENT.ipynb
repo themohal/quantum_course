{
  "nbformat": 4,
  "nbformat_minor": 5,
  "metadata": {
    "kernelspec": {
      "display_name": "Qiskit v0.31.0 (ipykernel)",
      "language": "python",
      "name": "python3"
    },
    "language_info": {
      "codemirror_mode": {
        "name": "ipython",
        "version": 3
      },
      "file_extension": ".py",
      "mimetype": "text/x-python",
      "name": "python",
      "nbconvert_exporter": "python",
      "pygments_lexer": "ipython3",
      "version": "3.8.10"
    },
    "colab": {
      "provenance": [],
      "collapsed_sections": [
        "k0Lsovb5VOKP"
      ]
    }
  },
  "cells": [
    {
      "cell_type": "markdown",
      "metadata": {
        "id": "d2497f68-e565-4dec-8d5e-ec337e37128e"
      },
      "source": [
        "# Homework: Week #5 | Measurements in Qiskit\n",
        "---\n",
        "\n",
        "In this week's homework, we will create and simulate quantum circuits involving measurements using Qiskit.\n",
        "<br>\n",
        "\n",
        "## **NOTE: You must answer the multiple choice questions on Canvas based on your work below to receive credit this week.**\n",
        "\n",
        "---"
      ],
      "id": "d2497f68-e565-4dec-8d5e-ec337e37128e"
    },
    {
      "cell_type": "markdown",
      "metadata": {
        "id": "k0Lsovb5VOKP",
        "jp-MarkdownHeadingCollapsed": true,
        "tags": []
      },
      "source": [
        "## **Part 0: Importing from Qiskit**\n",
        "---\n",
        "\n",
        "Run the cell directly below before doing anything else. This will import all of the functions that we will use today."
      ],
      "id": "k0Lsovb5VOKP"
    },
    {
      "cell_type": "code",
      "execution_count": null,
      "metadata": {
        "colab": {
          "base_uri": "https://localhost:8080/"
        },
        "id": "LxC62c-hRcYv",
        "outputId": "776df2e5-a2bb-45c0-83cd-22aad65b7ba5"
      },
      "outputs": [
        {
          "output_type": "stream",
          "name": "stdout",
          "text": [
            "Libraries imported successfully!\n"
          ]
        }
      ],
      "source": [
        "# Importing standard Qiskit libraries\n",
        "from qiskit import QuantumCircuit  #Importing the QuantumCircuit function from Qiskit. We will use this to create our quantum circuits!\n",
        "\n",
        "# We will use these functions to run our circuit and visualize its final state\n",
        "from qiskit import Aer, execute \n",
        "from qiskit.visualization import *\n",
        "\n",
        "import warnings  # We are using this library to suppress some warning messages\n",
        "warnings.filterwarnings(\"ignore\")\n",
        "\n",
        "print(\"Libraries imported successfully!\")"
      ],
      "id": "LxC62c-hRcYv"
    },
    {
      "cell_type": "markdown",
      "metadata": {
        "jp-MarkdownHeadingCollapsed": true,
        "tags": [],
        "id": "sVwVviQORgWa"
      },
      "source": [
        "## **Part 1: Visualizing Circuits**\n",
        "---"
      ],
      "id": "sVwVviQORgWa"
    },
    {
      "cell_type": "markdown",
      "source": [
        "#### **Exercise #1** \n",
        "\n",
        "Create and draw an empty 1-qubit/1-classical bit circuit in which you measure the qubit and store the result in the classical bit."
      ],
      "metadata": {
        "id": "ZSIQ0dQRR5C4"
      },
      "id": "ZSIQ0dQRR5C4"
    },
    {
      "cell_type": "code",
      "source": [],
      "metadata": {
        "id": "R_uEliZqR_TH"
      },
      "id": "R_uEliZqR_TH",
      "execution_count": null,
      "outputs": []
    },
    {
      "cell_type": "markdown",
      "source": [
        "#### **Exercise #2** \n",
        "\n",
        "Create and draw a 1-qubit/1-classical bit circuit in which you apply 1 H gate to the qubit and then measure."
      ],
      "metadata": {
        "id": "G2Jiv47oR_1l"
      },
      "id": "G2Jiv47oR_1l"
    },
    {
      "cell_type": "code",
      "source": [],
      "metadata": {
        "id": "rEz9xMF4SAER"
      },
      "id": "rEz9xMF4SAER",
      "execution_count": null,
      "outputs": []
    },
    {
      "cell_type": "markdown",
      "source": [
        "#### **Exercise #3** \n",
        "\n",
        "Create and run, using `visualize_transition`, a 1-qubit quantum circuit (no classical bits) in which you apply gates in the following order: X, H, H, X.\n",
        "\n",
        "**NOTE:** We recommend you continue onto other problems while this loads since `visualize_transition` can take a long time to run."
      ],
      "metadata": {
        "id": "6D6tu3WLSnLU"
      },
      "id": "6D6tu3WLSnLU"
    },
    {
      "cell_type": "code",
      "source": [],
      "metadata": {
        "id": "Q-47vmKlS8b4"
      },
      "id": "Q-47vmKlS8b4",
      "execution_count": null,
      "outputs": []
    },
    {
      "cell_type": "markdown",
      "source": [
        "#### **Exercise #4** \n",
        "Create and draw a 1-qubit/1-classical bit circuit in which you apply gates in the order listed below and then measure.\n",
        "\n",
        "Gates: X, H, X, H, H"
      ],
      "metadata": {
        "id": "ykyXYmgBTtEC"
      },
      "id": "ykyXYmgBTtEC"
    },
    {
      "cell_type": "code",
      "source": [],
      "metadata": {
        "id": "PHNuc8AtTtED"
      },
      "execution_count": null,
      "outputs": [],
      "id": "PHNuc8AtTtED"
    },
    {
      "cell_type": "markdown",
      "metadata": {
        "jp-MarkdownHeadingCollapsed": true,
        "tags": [],
        "id": "e3ZLWTcsUnoQ"
      },
      "source": [
        "## **Part 2: Simulating Circuits**\n",
        "---"
      ],
      "id": "e3ZLWTcsUnoQ"
    },
    {
      "cell_type": "markdown",
      "source": [
        "#### **Exercise #1** \n",
        "Simulate a circuit using QASM (code provided below) where you apply no gates and measure."
      ],
      "metadata": {
        "id": "QNP9DH5HWS0_"
      },
      "id": "QNP9DH5HWS0_"
    },
    {
      "cell_type": "code",
      "source": [
        "# Circuit\n",
        "# Complete the circuit here\n",
        "\n",
        "\n",
        "# Simulate using QASM\n",
        "backend = Aer.get_backend('qasm_simulator')\n",
        "job = execute(qc, backend = backend, shots = 1024)  # Make sure you change \"qc\" to the name of your quantum circuit in this line!\n",
        "result = job.result()\n",
        "counts = result.get_counts()\n",
        "plot_histogram(counts)"
      ],
      "metadata": {
        "id": "Enf8fOR5WS1A"
      },
      "execution_count": null,
      "outputs": [],
      "id": "Enf8fOR5WS1A"
    },
    {
      "cell_type": "markdown",
      "source": [
        "#### **Exercise #2**\n",
        "Simulate a circuit using QASM (code provided below) where you apply the gates listed below and measure.\n",
        "\n",
        "Gates: X, H"
      ],
      "metadata": {
        "id": "Rehr1SbzYJPs"
      },
      "id": "Rehr1SbzYJPs"
    },
    {
      "cell_type": "code",
      "source": [
        "# Circuit\n",
        "# Complete the circuit here\n",
        "\n",
        "\n",
        "# Simulate using QASM\n",
        "backend = Aer.get_backend('qasm_simulator')\n",
        "job = execute(qc, backend = backend, shots = 1024)  # Make sure you change \"qc\" to the name of your quantum circuit in this line!\n",
        "result = job.result()\n",
        "counts = result.get_counts()\n",
        "plot_histogram(counts)"
      ],
      "metadata": {
        "id": "O42YK0chYJPs"
      },
      "execution_count": null,
      "outputs": [],
      "id": "O42YK0chYJPs"
    },
    {
      "cell_type": "markdown",
      "source": [
        "**After running,** what did you notice? \n",
        "\n",
        "Let's try running it again to see if we get the same results!"
      ],
      "metadata": {
        "id": "4UdI6A-PaAk3"
      },
      "id": "4UdI6A-PaAk3"
    },
    {
      "cell_type": "markdown",
      "source": [
        "#### **Exercise #3** \n",
        "Simulate a circuit using QASM (code provided below) where you apply the gates listed below and measure.\n",
        "\n",
        "Gates: H, H"
      ],
      "metadata": {
        "id": "B0CbjYf2YXKv"
      },
      "id": "B0CbjYf2YXKv"
    },
    {
      "cell_type": "code",
      "source": [
        "# Circuit\n",
        "# Complete the circuit here\n",
        "\n",
        "\n",
        "# Simulate using QASM\n",
        "backend = Aer.get_backend('qasm_simulator')\n",
        "job = execute(qc, backend = backend, shots = 1024)  # Make sure you change \"qc\" to the name of your quantum circuit in this line!\n",
        "result = job.result()\n",
        "counts = result.get_counts()\n",
        "plot_histogram(counts)"
      ],
      "metadata": {
        "id": "LRD703Y9YXKw"
      },
      "execution_count": null,
      "outputs": [],
      "id": "LRD703Y9YXKw"
    },
    {
      "cell_type": "markdown",
      "source": [
        "#### **Exercise #4** \n",
        "Simulate a circuit using QASM (code provided below) where you apply the gates listed below and measure.\n",
        "\n",
        "Gates: X, X"
      ],
      "metadata": {
        "id": "h65IT25UYs1W"
      },
      "id": "h65IT25UYs1W"
    },
    {
      "cell_type": "code",
      "source": [
        "# Circuit\n",
        "# Complete the circuit here\n",
        "\n",
        "\n",
        "# Simulate using QASM\n",
        "backend = Aer.get_backend('qasm_simulator')\n",
        "job = execute(qc, backend = backend, shots = 1024)  # Make sure you change \"qc\" to the name of your quantum circuit in this line!\n",
        "result = job.result()\n",
        "counts = result.get_counts()\n",
        "plot_histogram(counts)"
      ],
      "metadata": {
        "id": "vt2SMBzwYs1X"
      },
      "execution_count": null,
      "outputs": [],
      "id": "vt2SMBzwYs1X"
    },
    {
      "cell_type": "markdown",
      "source": [
        "#### **Exercise #5** \n",
        "Simulate a circuit using QASM (code provided below) where you apply the gates listed below and measure.\n",
        "\n",
        "Gates: X, X, H, H"
      ],
      "metadata": {
        "id": "oBiIpjSdYzP1"
      },
      "id": "oBiIpjSdYzP1"
    },
    {
      "cell_type": "code",
      "source": [
        "# Circuit\n",
        "# Complete the circuit here\n",
        "\n",
        "# Simulate using QASM\n",
        "backend = Aer.get_backend('qasm_simulator')\n",
        "job = execute(qc, backend = backend, shots = 1024)  # Make sure you change \"qc\" to the name of your quantum circuit in this line!\n",
        "result = job.result()\n",
        "counts = result.get_counts()\n",
        "plot_histogram(counts)"
      ],
      "metadata": {
        "id": "M7CmGHNYYzP2"
      },
      "execution_count": null,
      "outputs": [],
      "id": "M7CmGHNYYzP2"
    },
    {
      "cell_type": "markdown",
      "source": [
        "#### **Exercise #6** \n",
        "Simulate a circuit using QASM (code provided below) where you apply the gates listed below and measure.\n",
        "\n",
        "Gates: X, H, X, H"
      ],
      "metadata": {
        "id": "g4YvgRX9Y8hf"
      },
      "id": "g4YvgRX9Y8hf"
    },
    {
      "cell_type": "code",
      "source": [
        "# Circuit\n",
        "# Complete the circuit here\n",
        "\n",
        "\n",
        "# Simulate using QASM\n",
        "backend = Aer.get_backend('qasm_simulator')\n",
        "job = execute(qc, backend = backend, shots = 1024)  # Make sure you change \"qc\" to the name of your quantum circuit in this line!\n",
        "result = job.result()\n",
        "counts = result.get_counts()\n",
        "plot_histogram(counts)"
      ],
      "metadata": {
        "id": "lfp8bP2oY8hg"
      },
      "execution_count": null,
      "outputs": [],
      "id": "lfp8bP2oY8hg"
    },
    {
      "cell_type": "markdown",
      "source": [
        "#### **[Required Challenge] Exercise #7** \n",
        "Simulate a circuit using QASM (code provided below) where you apply the gates listed below and measure.\n",
        "\n",
        "Gates: X, H, X, H, X, H (this is 3 sets of X, H)\n",
        "\n",
        "**The multiple choice question asks you to explain the path that the qubit takes through states on the Bloch sphere. This is very challenging! Try your best :)**"
      ],
      "metadata": {
        "id": "nnzkUsh8eFnI"
      },
      "id": "nnzkUsh8eFnI"
    },
    {
      "cell_type": "code",
      "source": [
        "# Circuit\n",
        "# Complete the circuit here\n",
        "\n",
        "\n",
        "# Simulate using QASM\n",
        "backend = Aer.get_backend('qasm_simulator')\n",
        "job = execute(qc, backend = backend, shots = 1024)  # Make sure you change \"qc\" to the name of your quantum circuit in this line!\n",
        "result = job.result()\n",
        "counts = result.get_counts()\n",
        "plot_histogram(counts)"
      ],
      "metadata": {
        "id": "4vou6rIDeFnS"
      },
      "execution_count": null,
      "outputs": [],
      "id": "4vou6rIDeFnS"
    },
    {
      "cell_type": "markdown",
      "source": [
        "#### **[Optional Challenge] Exercise #8** \n",
        "Simulate a circuit using QASM (code provided below) where you apply the gates and measure to get results that are roughly 50% 0 and 50% 1. \n",
        "**The challenge is that you must use 4 gates for this.**"
      ],
      "metadata": {
        "id": "Fjm8ExZgeeyg"
      },
      "id": "Fjm8ExZgeeyg"
    },
    {
      "cell_type": "code",
      "source": [
        "# Circuit\n",
        "# Complete the circuit here\n",
        "\n",
        "\n",
        "# Simulate using QASM\n",
        "backend = Aer.get_backend('qasm_simulator')\n",
        "job = execute(qc, backend = backend, shots = 1024)  # Make sure you change \"qc\" to the name of your quantum circuit in this line!\n",
        "result = job.result()\n",
        "counts = result.get_counts()\n",
        "plot_histogram(counts)"
      ],
      "metadata": {
        "id": "QcGWaospeeyh"
      },
      "execution_count": null,
      "outputs": [],
      "id": "QcGWaospeeyh"
    },
    {
      "cell_type": "markdown",
      "source": [
        "---\n",
        "# © 2022 The Coding School, All rights reserved"
      ],
      "metadata": {
        "id": "hQJELyD6aeJ2"
      },
      "id": "hQJELyD6aeJ2"
    }
  ]
}