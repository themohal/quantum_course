{
  "nbformat": 4,
  "nbformat_minor": 5,
  "metadata": {
    "kernelspec": {
      "display_name": "Qiskit v0.31.0 (ipykernel)",
      "language": "python",
      "name": "python3"
    },
    "language_info": {
      "codemirror_mode": {
        "name": "ipython",
        "version": 3
      },
      "file_extension": ".py",
      "mimetype": "text/x-python",
      "name": "python",
      "nbconvert_exporter": "python",
      "pygments_lexer": "ipython3",
      "version": "3.8.10"
    },
    "colab": {
      "provenance": [],
      "collapsed_sections": [
        "k0Lsovb5VOKP"
      ]
    }
  },
  "cells": [
    {
      "cell_type": "markdown",
      "metadata": {
        "id": "d2497f68-e565-4dec-8d5e-ec337e37128e"
      },
      "source": [
        "# Lab: Week #5 | Measurements in Qiskit\n",
        "---\n",
        "\n",
        "In this week's lab, we will create and simulate quantum circuits involving measurements using Qiskit.\n",
        "\n",
        "---"
      ],
      "id": "d2497f68-e565-4dec-8d5e-ec337e37128e"
    },
    {
      "cell_type": "markdown",
      "metadata": {
        "id": "k0Lsovb5VOKP",
        "jp-MarkdownHeadingCollapsed": true,
        "tags": []
      },
      "source": [
        "## **Part 0: Importing from Qiskit**\n",
        "---\n",
        "\n",
        "Run the cell directly below before doing anything else. This will import all of the functions that we will use today."
      ],
      "id": "k0Lsovb5VOKP"
    },
    {
      "cell_type": "code",
      "execution_count": null,
      "metadata": {
        "colab": {
          "base_uri": "https://localhost:8080/"
        },
        "id": "LxC62c-hRcYv",
        "outputId": "776df2e5-a2bb-45c0-83cd-22aad65b7ba5"
      },
      "outputs": [
        {
          "output_type": "stream",
          "name": "stdout",
          "text": [
            "Libraries imported successfully!\n"
          ]
        }
      ],
      "source": [
        "# Importing standard Qiskit libraries\n",
        "from qiskit import QuantumCircuit  #Importing the QuantumCircuit function from Qiskit. We will use this to create our quantum circuits!\n",
        "\n",
        "# We will use these functions to run our circuit and visualize its final state\n",
        "from qiskit import Aer, execute \n",
        "from qiskit.visualization import *\n",
        "\n",
        "import warnings  # We are using this library to suppress some warning messages\n",
        "warnings.filterwarnings(\"ignore\")\n",
        "\n",
        "print(\"Libraries imported successfully!\")"
      ],
      "id": "LxC62c-hRcYv"
    },
    {
      "cell_type": "markdown",
      "metadata": {
        "jp-MarkdownHeadingCollapsed": true,
        "tags": [],
        "id": "sVwVviQORgWa"
      },
      "source": [
        "## **Part 1: Qiskit Review**\n",
        "---"
      ],
      "id": "sVwVviQORgWa"
    },
    {
      "cell_type": "markdown",
      "source": [
        "#### **Exercise #1** \n",
        "\n",
        "**Together**, let's create and draw a 1-qubit circuit with 1 X gate."
      ],
      "metadata": {
        "id": "ZSIQ0dQRR5C4"
      },
      "id": "ZSIQ0dQRR5C4"
    },
    {
      "cell_type": "code",
      "source": [],
      "metadata": {
        "id": "R_uEliZqR_TH"
      },
      "id": "R_uEliZqR_TH",
      "execution_count": null,
      "outputs": []
    },
    {
      "cell_type": "markdown",
      "source": [
        "#### **Exercise #2** \n",
        "\n",
        "**Together**, let's create and run a 1-qubit circuit with 1 H gate using `visualize_transition`. While we wait for this to load, let's continue on to the next problem."
      ],
      "metadata": {
        "id": "G2Jiv47oR_1l"
      },
      "id": "G2Jiv47oR_1l"
    },
    {
      "cell_type": "code",
      "source": [],
      "metadata": {
        "id": "rEz9xMF4SAER"
      },
      "id": "rEz9xMF4SAER",
      "execution_count": null,
      "outputs": []
    },
    {
      "cell_type": "markdown",
      "source": [
        "#### **Exercise #3** \n",
        "\n",
        "**Together**, let's create and draw a 1-qubit circuit with 1 X gate applied first and then 1 H gate."
      ],
      "metadata": {
        "id": "6D6tu3WLSnLU"
      },
      "id": "6D6tu3WLSnLU"
    },
    {
      "cell_type": "code",
      "source": [],
      "metadata": {
        "id": "Q-47vmKlS8b4"
      },
      "id": "Q-47vmKlS8b4",
      "execution_count": null,
      "outputs": []
    },
    {
      "cell_type": "markdown",
      "source": [
        "#### **Exercise #4** \n",
        "Create and run a 1-qubit circuit with 1 H gate applied first and then 1 X gate using `visualize_transition`. While this loads, continue onto the next problems in this section."
      ],
      "metadata": {
        "id": "ykyXYmgBTtEC"
      },
      "id": "ykyXYmgBTtEC"
    },
    {
      "cell_type": "code",
      "source": [],
      "metadata": {
        "id": "PHNuc8AtTtED"
      },
      "execution_count": null,
      "outputs": [],
      "id": "PHNuc8AtTtED"
    },
    {
      "cell_type": "markdown",
      "source": [
        "#### **Exercise #5** \n",
        "Create and draw a 1-qubit circuit with 1 X gate applied first and then 3 H gates."
      ],
      "metadata": {
        "id": "K9rWMdyyTMOp"
      },
      "id": "K9rWMdyyTMOp"
    },
    {
      "cell_type": "code",
      "source": [],
      "metadata": {
        "id": "9Fdeaao5TMOq"
      },
      "execution_count": null,
      "outputs": [],
      "id": "9Fdeaao5TMOq"
    },
    {
      "cell_type": "markdown",
      "source": [
        "#### **Exercise #6** \n",
        "Create and draw a 1-qubit circuit with gates applied in this order: X, H, X, X, H, X"
      ],
      "metadata": {
        "id": "_TOpJQlOTT1W"
      },
      "id": "_TOpJQlOTT1W"
    },
    {
      "cell_type": "code",
      "source": [],
      "metadata": {
        "id": "hjt9yisVTT1X"
      },
      "execution_count": null,
      "outputs": [],
      "id": "hjt9yisVTT1X"
    },
    {
      "cell_type": "markdown",
      "metadata": {
        "jp-MarkdownHeadingCollapsed": true,
        "tags": [],
        "id": "caumx9ScTDff"
      },
      "source": [
        "## **Part 2: Measurement in Qiskit**\n",
        "---"
      ],
      "id": "caumx9ScTDff"
    },
    {
      "cell_type": "markdown",
      "source": [
        "#### **Exercise #1** \n",
        "**Together**, let's create and draw an empty quantum circuit with 1 qubit and 1 classical bit."
      ],
      "metadata": {
        "id": "y5JR0txjUZyR"
      },
      "id": "y5JR0txjUZyR"
    },
    {
      "cell_type": "code",
      "source": [],
      "metadata": {
        "id": "N6ssnnzfUZyd"
      },
      "execution_count": null,
      "outputs": [],
      "id": "N6ssnnzfUZyd"
    },
    {
      "cell_type": "markdown",
      "source": [
        "#### **Exercise #2** \n",
        "Together, let's create an empty quantum circuit with 1 qubit and 1 classical bit. Then we will measure the qubit's state and store the result in our classical bit. And lastly, we will draw this circuit."
      ],
      "metadata": {
        "id": "kbYWRmGaUmcE"
      },
      "id": "kbYWRmGaUmcE"
    },
    {
      "cell_type": "code",
      "source": [],
      "metadata": {
        "id": "sR4TXTxuVDpr"
      },
      "id": "sR4TXTxuVDpr",
      "execution_count": null,
      "outputs": []
    },
    {
      "cell_type": "markdown",
      "source": [
        "#### **Exercise #3** \n",
        "Together, let's do the same as in #2, but let's also apply an X gate to the qubit before measuring. "
      ],
      "metadata": {
        "id": "k3kK1PR9VIrp"
      },
      "id": "k3kK1PR9VIrp"
    },
    {
      "cell_type": "code",
      "source": [],
      "metadata": {
        "id": "K3JGqCTXVIrq"
      },
      "execution_count": null,
      "outputs": [],
      "id": "K3JGqCTXVIrq"
    },
    {
      "cell_type": "markdown",
      "source": [
        "#### **Exercise #4** \n",
        "Now, create a 1-qubit/1-classical bit quantum circuit where you apply an H gate to the qubit and then measure. Draw this circuit."
      ],
      "metadata": {
        "id": "TsCjMUG4VTwx"
      },
      "id": "TsCjMUG4VTwx"
    },
    {
      "cell_type": "code",
      "source": [],
      "metadata": {
        "id": "siwF_iueVTwy"
      },
      "execution_count": null,
      "outputs": [],
      "id": "siwF_iueVTwy"
    },
    {
      "cell_type": "markdown",
      "source": [
        "#### **Exercise #5** \n",
        "Now, create a 1-qubit/1-classical bit quantum circuit where you apply 2 H gates first and 1 X gate to the qubit and then measure. Draw this circuit."
      ],
      "metadata": {
        "id": "Ih8AKCG_Vmhl"
      },
      "id": "Ih8AKCG_Vmhl"
    },
    {
      "cell_type": "code",
      "source": [],
      "metadata": {
        "id": "6YE0iTEyVmhm"
      },
      "execution_count": null,
      "outputs": [],
      "id": "6YE0iTEyVmhm"
    },
    {
      "cell_type": "markdown",
      "metadata": {
        "jp-MarkdownHeadingCollapsed": true,
        "tags": [],
        "id": "e3ZLWTcsUnoQ"
      },
      "source": [
        "## **Part 3: QASM Simulator**\n",
        "---"
      ],
      "id": "e3ZLWTcsUnoQ"
    },
    {
      "cell_type": "markdown",
      "source": [
        "#### **Exercise #1** \n",
        "**Together**, let's simulate a circuit using QASM where we apply no gates and measure."
      ],
      "metadata": {
        "id": "QNP9DH5HWS0_"
      },
      "id": "QNP9DH5HWS0_"
    },
    {
      "cell_type": "code",
      "source": [
        "# Circuit\n",
        "qc = QuantumCircuit(1, 1)\n",
        "\n",
        "qc.measure(0, 0)\n",
        "\n",
        "\n",
        "# Simulate using QASM\n",
        "backend = Aer.get_backend('qasm_simulator')\n",
        "job = execute(qc, backend = backend, shots = 1024)  # Make sure you change \"qc\" to the name of your quantum circuit in this line!\n",
        "result = job.result()\n",
        "counts = result.get_counts()\n",
        "plot_histogram(counts)"
      ],
      "metadata": {
        "id": "Enf8fOR5WS1A"
      },
      "execution_count": null,
      "outputs": [],
      "id": "Enf8fOR5WS1A"
    },
    {
      "cell_type": "markdown",
      "source": [
        "#### **Exercise #2**\n",
        "**Together**, let's simulate a circuit using QASM where we apply 1 H gate and measure. \n",
        "\n",
        "**Before running, what do you expect to happen?**"
      ],
      "metadata": {
        "id": "Rehr1SbzYJPs"
      },
      "id": "Rehr1SbzYJPs"
    },
    {
      "cell_type": "code",
      "source": [
        "# Circuit\n",
        "qc = QuantumCircuit(1, 1)\n",
        "\n",
        "qc.x(0)\n",
        "\n",
        "qc.measure(0, 0)\n",
        "\n",
        "\n",
        "# Simulate using QASM\n",
        "backend = Aer.get_backend('qasm_simulator')\n",
        "job = execute(qc, backend = backend, shots = 1024)  # Make sure you change \"qc\" to the name of your quantum circuit in this line!\n",
        "result = job.result()\n",
        "counts = result.get_counts()\n",
        "plot_histogram(counts)"
      ],
      "metadata": {
        "id": "O42YK0chYJPs"
      },
      "execution_count": null,
      "outputs": [],
      "id": "O42YK0chYJPs"
    },
    {
      "cell_type": "markdown",
      "source": [
        "**After running,** what did you notice? \n",
        "\n",
        "Let's try running it again to see if we get the same results!"
      ],
      "metadata": {
        "id": "4UdI6A-PaAk3"
      },
      "id": "4UdI6A-PaAk3"
    },
    {
      "cell_type": "markdown",
      "source": [
        "#### **Exercise #3** \n",
        "Simulate a circuit using QASM where you apply 1 X gate and measure."
      ],
      "metadata": {
        "id": "B0CbjYf2YXKv"
      },
      "id": "B0CbjYf2YXKv"
    },
    {
      "cell_type": "code",
      "source": [
        "# Circuit\n",
        "# Complete this part\n",
        "\n",
        "\n",
        "# Simulate using QASM\n",
        "backend = Aer.get_backend('qasm_simulator')\n",
        "job = execute(qc, backend = backend, shots = 1024)  # Make sure you change \"qc\" to the name of your quantum circuit in this line!\n",
        "result = job.result()\n",
        "counts = result.get_counts()\n",
        "plot_histogram(counts)"
      ],
      "metadata": {
        "id": "LRD703Y9YXKw"
      },
      "execution_count": null,
      "outputs": [],
      "id": "LRD703Y9YXKw"
    },
    {
      "cell_type": "markdown",
      "source": [
        "#### **Exercise #4** \n",
        "Simulate a circuit using QASM where you apply 1 H gate and 1 X gate and measure."
      ],
      "metadata": {
        "id": "h65IT25UYs1W"
      },
      "id": "h65IT25UYs1W"
    },
    {
      "cell_type": "code",
      "source": [
        "# Circuit\n",
        "# Complete this part\n",
        "\n",
        "\n",
        "# Simulate using QASM\n",
        "backend = Aer.get_backend('qasm_simulator')\n",
        "job = execute(qc, backend = backend, shots = 1024)  # Make sure you change \"qc\" to the name of your quantum circuit in this line!\n",
        "result = job.result()\n",
        "counts = result.get_counts()\n",
        "plot_histogram(counts)"
      ],
      "metadata": {
        "id": "vt2SMBzwYs1X"
      },
      "execution_count": null,
      "outputs": [],
      "id": "vt2SMBzwYs1X"
    },
    {
      "cell_type": "markdown",
      "source": [
        "#### **Exercise #5** \n",
        "Simulate a circuit using QASM where you apply 1 X gate and 1 H gate and measure. NOTE: This is the reverse of #4."
      ],
      "metadata": {
        "id": "oBiIpjSdYzP1"
      },
      "id": "oBiIpjSdYzP1"
    },
    {
      "cell_type": "code",
      "source": [
        "# Circuit\n",
        "# Complete this part\n",
        "\n",
        "\n",
        "# Simulate using QASM\n",
        "backend = Aer.get_backend('qasm_simulator')\n",
        "job = execute(qc, backend = backend, shots = 1024)  # Make sure you change \"qc\" to the name of your quantum circuit in this line!\n",
        "result = job.result()\n",
        "counts = result.get_counts()\n",
        "plot_histogram(counts)"
      ],
      "metadata": {
        "id": "M7CmGHNYYzP2"
      },
      "execution_count": null,
      "outputs": [],
      "id": "M7CmGHNYYzP2"
    },
    {
      "cell_type": "markdown",
      "source": [
        "#### **Exercise #6** \n",
        "Simulate a circuit using QASM where you apply 2 H gates and measure."
      ],
      "metadata": {
        "id": "g4YvgRX9Y8hf"
      },
      "id": "g4YvgRX9Y8hf"
    },
    {
      "cell_type": "code",
      "source": [
        "# Circuit\n",
        "# Complete this part\n",
        "\n",
        "\n",
        "# Simulate using QASM\n",
        "backend = Aer.get_backend('qasm_simulator')\n",
        "job = execute(qc, backend = backend, shots = 1024)  # Make sure you change \"qc\" to the name of your quantum circuit in this line!\n",
        "result = job.result()\n",
        "counts = result.get_counts()\n",
        "plot_histogram(counts)"
      ],
      "metadata": {
        "id": "lfp8bP2oY8hg"
      },
      "execution_count": null,
      "outputs": [],
      "id": "lfp8bP2oY8hg"
    },
    {
      "cell_type": "markdown",
      "source": [
        "---\n",
        "# © 2022 The Coding School, All rights reserved"
      ],
      "metadata": {
        "id": "hQJELyD6aeJ2"
      },
      "id": "hQJELyD6aeJ2"
    }
  ]
}